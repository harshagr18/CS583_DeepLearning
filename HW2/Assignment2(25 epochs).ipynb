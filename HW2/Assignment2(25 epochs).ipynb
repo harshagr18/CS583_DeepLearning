{
  "cells": [
    {
      "cell_type": "markdown",
      "metadata": {
        "id": "tIGQ23jslDs3"
      },
      "source": [
        "# Assignment 2: Build a CNN for image recognition.\n",
        "\n",
        "## Due Date:  March 29, 11:59PM\n",
        "\n",
        "### Name: Harsh Sanjay Agrawal\n"
      ]
    },
    {
      "cell_type": "markdown",
      "metadata": {
        "id": "MTTGrN7mlDs5"
      },
      "source": [
        "## Introduction:\n",
        "\n",
        "1. In this assignment, you will build Convolutional Neural Network to classify CIFAR-10 Images.\n",
        "2. You can directly load dataset from many deep learning packages.\n",
        "3. You can use any deep learning packages such as pytorch, keras or tensorflow for this assignment."
      ]
    },
    {
      "cell_type": "markdown",
      "metadata": {
        "id": "zF_OWkIzlDs5"
      },
      "source": [
        "## Requirements:\n",
        "\n",
        "1. You need to load cifar 10 data and split the entire training dataset into training and validation.\n",
        "2. You will implement a CNN model to classify cifar 10 images with provided structure.\n",
        "3. You need to plot the training and validation accuracy or loss obtained from above step.\n",
        "4. Then you can use tuned parameters to train using the entire training dataset.\n",
        "5. You should report the testing accuracy using the model with complete data.\n",
        "6. You may try to change the structure (e.g, add BN layer or dropout layer,...) and analyze your findings.\n",
        "\n",
        "## Google Colab\n",
        "\n",
        "- If you do not have GPU, the training of a CNN can be slow. Google Colab is a good option."
      ]
    },
    {
      "cell_type": "markdown",
      "metadata": {
        "id": "IhZxEj9VlDs6"
      },
      "source": [
        "## Batch Normalization (BN)"
      ]
    },
    {
      "cell_type": "markdown",
      "metadata": {
        "id": "-dVm_uialDs6"
      },
      "source": [
        "### Background:"
      ]
    },
    {
      "cell_type": "markdown",
      "metadata": {
        "id": "GO0ZcC38lDs6"
      },
      "source": [
        "- Batch Normalization is a technique to speed up training and help make the model more stable.\n",
        "- In simple words, batch normalization is just another network layer that gets inserted between a hidden layer and the next hidden layer. Its job is to take the outputs from the first hidden layer and normalize them before passing them on as the input of the next hidden layer.\n",
        "\n",
        "- For more detailed information, you may refer to the original paper: https://arxiv.org/pdf/1502.03167.pdf."
      ]
    },
    {
      "cell_type": "markdown",
      "metadata": {
        "id": "0KIFWFHLlDs7"
      },
      "source": [
        "### BN Algorithm:"
      ]
    },
    {
      "cell_type": "markdown",
      "metadata": {
        "id": "XI9MarSSlDs7"
      },
      "source": [
        "- Input: Values of $x$ over a mini-batch: $\\mathbf{B}$ = $\\{x_1,..., x_m\\};$\n",
        "- Output: $\\{y_i = BN_{\\gamma,\\beta}(x_i)\\}$, $\\gamma, \\beta$ are learnable parameters\n",
        "\n",
        "Normalization of the Input:\n",
        "$$\\mu_{\\mathbf{B}} = \\frac{1}{m}\\sum_{i=1}^m x_i$$\n",
        "$$\\sigma_{\\mathbf{B}}^2 = \\frac{1}{m}\\sum_{i=1}^m (x_i - \\mu_{\\mathbf{B}})^2$$\n",
        "$$\\hat{x_i} = \\frac{x_i - \\mu_{\\mathbf{B}}}{\\sqrt{\\sigma_{\\mathbf{B}}}^2 + \\epsilon}$$\n",
        "Re-scaling and Offsetting:\n",
        "$$y_i = \\gamma \\hat{x_i} + \\beta = BN_{\\gamma,\\beta}(x_i)$$\n"
      ]
    },
    {
      "cell_type": "markdown",
      "metadata": {
        "id": "0mn0Wq8FlDs7"
      },
      "source": [
        "### Advantages of BN:\n",
        "1. Improves gradient flow through the network.\n",
        "2. Allows use of saturating nonlinearities and higher learning rates.\n",
        "3. Makes weights easier to initialize.\n",
        "4. Act as a form of regularization and may reduce the need for dropout."
      ]
    },
    {
      "cell_type": "markdown",
      "metadata": {
        "id": "izlin1ezlDs8"
      },
      "source": [
        "### Implementation:"
      ]
    },
    {
      "cell_type": "markdown",
      "metadata": {
        "id": "gLmOsnBIlDs8"
      },
      "source": [
        "- The batch normalization layer has already been implemented in many packages. You may simply call the function to build the layer. For example: torch.nn.BatchNorm2d() using pytroch package, keras.layers.BatchNormalization() using keras package.\n",
        "- The location of BN layer: Please make sure ```BatchNormalization``` is between a ```Conv```/```Dense``` layer and an ```activation``` layer."
      ]
    },
    {
      "cell_type": "markdown",
      "metadata": {
        "id": "PnlEpzCRlDs8"
      },
      "source": [
        "## 1. Data preparation"
      ]
    },
    {
      "cell_type": "markdown",
      "metadata": {
        "id": "wsKGM8mRlDs9"
      },
      "source": [
        "### 1.1. Load data\n"
      ]
    },
    {
      "cell_type": "code",
      "execution_count": 1,
      "metadata": {
        "colab": {
          "base_uri": "https://localhost:8080/"
        },
        "id": "bmJIn_-HlDs9",
        "outputId": "dce761e0-34d1-45ab-b850-76fe85e402f8"
      },
      "outputs": [
        {
          "output_type": "stream",
          "name": "stdout",
          "text": [
            "Downloading data from https://www.cs.toronto.edu/~kriz/cifar-10-python.tar.gz\n",
            "170500096/170498071 [==============================] - 4s 0us/step\n",
            "170508288/170498071 [==============================] - 4s 0us/step\n",
            "shape of x_train: (50000, 32, 32, 3)\n",
            "shape of y_train: (50000, 1)\n",
            "shape of x_test: (10000, 32, 32, 3)\n",
            "shape of y_test: (10000, 1)\n",
            "number of classes: 10\n"
          ]
        }
      ],
      "source": [
        "# Load Cifar-10 Data\n",
        "# This is just an example, you may load dataset from other packages.\n",
        "from keras.datasets import cifar10\n",
        "import numpy as np\n",
        "\n",
        "### If you can not load keras dataset, un-comment these two lines.\n",
        "#import ssl\n",
        "#ssl._create_default_https_context = ssl._create_unverified_context\n",
        "\n",
        "(x_train, y_train), (x_test, y_test) = cifar10.load_data()\n",
        "\n",
        "print('shape of x_train: ' + str(x_train.shape))\n",
        "print('shape of y_train: ' + str(y_train.shape))\n",
        "print('shape of x_test: ' + str(x_test.shape))\n",
        "print('shape of y_test: ' + str(y_test.shape))\n",
        "print('number of classes: ' + str(np.max(y_train) - np.min(y_train) + 1))"
      ]
    },
    {
      "cell_type": "markdown",
      "metadata": {
        "id": "84wWGggVlDs-"
      },
      "source": [
        "### 1.2. One-hot encode the labels (5 points)\n",
        "\n",
        "In the input, a label is a scalar in $\\{0, 1, \\cdots , 9\\}$. One-hot encode transform such a scalar to a $10$-dim vector. E.g., a scalar ```y_train[j]=3``` is transformed to the vector ```y_train_vec[j]=[0, 0, 0, 1, 0, 0, 0, 0, 0, 0]```.\n",
        "\n",
        "1. Implement a function ```to_one_hot``` that transforms an $n\\times 1$ array to a $n\\times 10$ matrix.\n",
        "\n",
        "2. Apply the function to ```y_train``` and ```y_test```."
      ]
    },
    {
      "cell_type": "code",
      "execution_count": 2,
      "metadata": {
        "colab": {
          "base_uri": "https://localhost:8080/"
        },
        "id": "4XfUsHz3lDs_",
        "outputId": "7b1fdeff-edf5-4088-f295-0240b59fa789"
      },
      "outputs": [
        {
          "output_type": "stream",
          "name": "stdout",
          "text": [
            "Shape of y_train_vec: (50000, 10)\n",
            "Shape of y_test_vec: (10000, 10)\n",
            "[6]\n",
            "[0. 0. 0. 0. 0. 0. 1. 0. 0. 0.]\n"
          ]
        }
      ],
      "source": [
        "def to_one_hot(y, num_class=10):\n",
        "    result = np.zeros((y.shape[0],10))\n",
        "    for i in range(len(y)):\n",
        "        result[i][y[i]] = 1\n",
        "    return result\n",
        "\n",
        "y_train_vec = to_one_hot(y_train)\n",
        "y_test_vec = to_one_hot(y_test)\n",
        "\n",
        "print('Shape of y_train_vec: ' + str(y_train_vec.shape))\n",
        "print('Shape of y_test_vec: ' + str(y_test_vec.shape))\n",
        "\n",
        "print(y_train[0])\n",
        "print(y_train_vec[0])"
      ]
    },
    {
      "cell_type": "markdown",
      "metadata": {
        "id": "aczNdSFGlDs_"
      },
      "source": [
        "#### Remark: the outputs should be\n",
        "* Shape of y_train_vec: (50000, 10)\n",
        "* Shape of y_test_vec: (10000, 10)\n",
        "* [6]\n",
        "* [0. 0. 0. 0. 0. 0. 1. 0. 0. 0.]"
      ]
    },
    {
      "cell_type": "markdown",
      "metadata": {
        "id": "-eaQLjwWlDs_"
      },
      "source": [
        "### 1.3. Randomly partition the training set to training and validation sets (5 points)\n",
        "\n",
        "Randomly partition the 50K training samples to 2 sets: \n",
        "* a training set containing 40K samples: x_tr, y_tr\n",
        "* a validation set containing 10K samples: x_val, y_val\n"
      ]
    },
    {
      "cell_type": "code",
      "execution_count": 3,
      "metadata": {
        "colab": {
          "base_uri": "https://localhost:8080/"
        },
        "id": "02fIA6vclDtA",
        "outputId": "44242533-d06e-4aee-aa4f-0c046a8c4bbd"
      },
      "outputs": [
        {
          "output_type": "stream",
          "name": "stdout",
          "text": [
            "Shape of x_tr: (40000, 32, 32, 3)\n",
            "Shape of y_tr: (40000, 10)\n",
            "Shape of x_val: (10000, 32, 32, 3)\n",
            "Shape of y_val: (10000, 10)\n"
          ]
        }
      ],
      "source": [
        "myarr = np.arange(50000)\n",
        "np.random.shuffle(myarr)\n",
        "train_index = myarr[0:40000]\n",
        "validation_index = myarr[40000:50000]\n",
        "\n",
        "\n",
        "x_tr = x_train[train_index, :]\n",
        "y_tr = y_train_vec[train_index, :]\n",
        "x_val = x_train[validation_index, :]\n",
        "y_val = y_train_vec[validation_index, :]\n",
        "\n",
        "\n",
        "print('Shape of x_tr: ' + str(x_tr.shape))\n",
        "print('Shape of y_tr: ' + str(y_tr.shape))\n",
        "print('Shape of x_val: ' + str(x_val.shape))\n",
        "print('Shape of y_val: ' + str(y_val.shape))"
      ]
    },
    {
      "cell_type": "markdown",
      "metadata": {
        "id": "aGmbErKYlDtA"
      },
      "source": [
        "## 2. Build a CNN and tune its hyper-parameters (50 points)\n",
        "\n",
        "- Build a convolutional neural network model using the below structure:\n",
        "\n",
        "- It should have a structure of: Conv - ReLU - Max Pool - ConV - ReLU - Max Pool - Dense - ReLU - Dense - Softmax\n",
        "\n",
        "- In the graph 3@32x32 means the dimension of input image, 32@30x30 means it has 32 filters and the dimension now becomes 30x30 after the convolution.\n",
        "- All convolutional layers (Conv) should have stride = 1 and no padding.\n",
        "- Max Pooling has a pool size of 2 by 2.\n",
        "\n",
        "\n"
      ]
    },
    {
      "cell_type": "markdown",
      "metadata": {
        "id": "WY6aikQylDtB"
      },
      "source": [
        "<img src=\"network.PNG\"/>"
      ]
    },
    {
      "cell_type": "markdown",
      "metadata": {
        "id": "kMsQfxQdlDtB"
      },
      "source": [
        "- You may use the validation data to tune the hyper-parameters (e.g., learning rate, and optimization algorithm)\n",
        "- Do NOT use test data for hyper-parameter tuning!!!\n",
        "- Try to achieve a validation accuracy as high as possible."
      ]
    },
    {
      "cell_type": "code",
      "execution_count": 4,
      "metadata": {
        "colab": {
          "base_uri": "https://localhost:8080/"
        },
        "id": "2XsgehA3lDtB",
        "outputId": "24e3c813-dff2-47ee-99cd-ae444eff8dae"
      },
      "outputs": [
        {
          "output_type": "stream",
          "name": "stdout",
          "text": [
            "Model: \"sequential\"\n",
            "_________________________________________________________________\n",
            " Layer (type)                Output Shape              Param #   \n",
            "=================================================================\n",
            " conv2d (Conv2D)             (None, 30, 30, 32)        896       \n",
            "                                                                 \n",
            " activation (Activation)     (None, 30, 30, 32)        0         \n",
            "                                                                 \n",
            " max_pooling2d (MaxPooling2D  (None, 15, 15, 32)       0         \n",
            " )                                                               \n",
            "                                                                 \n",
            " conv2d_1 (Conv2D)           (None, 12, 12, 64)        32832     \n",
            "                                                                 \n",
            " activation_1 (Activation)   (None, 12, 12, 64)        0         \n",
            "                                                                 \n",
            " max_pooling2d_1 (MaxPooling  (None, 6, 6, 64)         0         \n",
            " 2D)                                                             \n",
            "                                                                 \n",
            " flatten (Flatten)           (None, 2304)              0         \n",
            "                                                                 \n",
            " dense (Dense)               (None, 256)               590080    \n",
            "                                                                 \n",
            " activation_2 (Activation)   (None, 256)               0         \n",
            "                                                                 \n",
            " dense_1 (Dense)             (None, 10)                2570      \n",
            "                                                                 \n",
            " activation_3 (Activation)   (None, 10)                0         \n",
            "                                                                 \n",
            "=================================================================\n",
            "Total params: 626,378\n",
            "Trainable params: 626,378\n",
            "Non-trainable params: 0\n",
            "_________________________________________________________________\n"
          ]
        }
      ],
      "source": [
        "\"\"\"\n",
        "Colvolution 3@32x32\n",
        "max-pool 32@30x30\n",
        "convolution 32@15x15\n",
        "max-pool 64@12x12\n",
        "dense 64@6x6\n",
        "1x256\n",
        "1x10\n",
        "\n",
        "Conv - ReLU - Max Pool - ConV - ReLU - Max Pool - Dense - ReLU - Dense - Softmax\n",
        "\"\"\"\n",
        "\n",
        "# Build the model\n",
        "from keras.layers import Conv2D, MaxPooling2D, Dense, Activation, Flatten\n",
        "from keras.models import Sequential\n",
        "\n",
        "model = Sequential()\n",
        "model.add(Conv2D(32, (3, 3), strides=(1, 1), padding='valid', input_shape=(32, 32, 3)))\n",
        "model.add(Activation('relu'))\n",
        "model.add(MaxPooling2D((2, 2)))\n",
        "model.add(Conv2D(64, (4, 4), padding='valid'))\n",
        "model.add(Activation('relu'))\n",
        "model.add(MaxPooling2D((2, 2)))\n",
        "model.add(Flatten())\n",
        "model.add(Dense(256))\n",
        "model.add(Activation('relu'))\n",
        "model.add(Dense(10))\n",
        "model.add(Activation('softmax'))\n",
        "\n",
        "\n",
        "model.summary()"
      ]
    },
    {
      "cell_type": "code",
      "execution_count": 5,
      "metadata": {
        "colab": {
          "base_uri": "https://localhost:8080/"
        },
        "id": "yXPXGvaPlDtB",
        "outputId": "e7022717-e650-491a-e257-3a2a1e63da4c"
      },
      "outputs": [
        {
          "output_type": "stream",
          "name": "stderr",
          "text": [
            "/usr/local/lib/python3.7/dist-packages/keras/optimizer_v2/rmsprop.py:130: UserWarning: The `lr` argument is deprecated, use `learning_rate` instead.\n",
            "  super(RMSprop, self).__init__(name, **kwargs)\n"
          ]
        }
      ],
      "source": [
        "# Define model optimizer and loss function\n",
        "from tensorflow.keras import optimizers\n",
        "from tensorflow.keras.preprocessing.image import ImageDataGenerator\n",
        "\n",
        "train_datagen = ImageDataGenerator(\n",
        "    rotation_range=10,\n",
        "    width_shift_range=0.2,\n",
        "    height_shift_range=0.2,\n",
        "    shear_range=0.2,\n",
        "    zoom_range=0.2)\n",
        "\n",
        "train_datagen.fit(x_tr)\n",
        "train_generator = train_datagen.flow(x_tr, y_tr, batch_size=64)\n",
        "test_generator = ImageDataGenerator().flow(x_val, y_val, batch_size=64)\n",
        "\n",
        "learning_rate = 0.001 # to be tuned!\n",
        "\n",
        "model.compile(loss='categorical_crossentropy',\n",
        "              optimizer=optimizers.RMSprop(lr=learning_rate),\n",
        "              metrics=['acc'])"
      ]
    },
    {
      "cell_type": "code",
      "execution_count": 6,
      "metadata": {
        "colab": {
          "base_uri": "https://localhost:8080/"
        },
        "id": "MsjMpUV_lDtC",
        "outputId": "d73b6074-baaa-4034-c659-2f499a6705ba"
      },
      "outputs": [
        {
          "output_type": "stream",
          "name": "stdout",
          "text": [
            "Epoch 1/25\n",
            "625/625 [==============================] - 93s 147ms/step - loss: 3.4929 - acc: 0.1469 - val_loss: 2.0797 - val_acc: 0.2360\n",
            "Epoch 2/25\n",
            "625/625 [==============================] - 87s 139ms/step - loss: 2.0455 - acc: 0.2660 - val_loss: 2.1407 - val_acc: 0.2674\n",
            "Epoch 3/25\n",
            "625/625 [==============================] - 86s 137ms/step - loss: 1.7899 - acc: 0.3576 - val_loss: 1.6352 - val_acc: 0.4092\n",
            "Epoch 4/25\n",
            "625/625 [==============================] - 86s 137ms/step - loss: 1.6943 - acc: 0.3947 - val_loss: 1.8097 - val_acc: 0.3648\n",
            "Epoch 5/25\n",
            "625/625 [==============================] - 85s 135ms/step - loss: 1.6243 - acc: 0.4245 - val_loss: 1.5221 - val_acc: 0.4687\n",
            "Epoch 6/25\n",
            "625/625 [==============================] - 84s 135ms/step - loss: 1.5768 - acc: 0.4487 - val_loss: 1.3806 - val_acc: 0.5099\n",
            "Epoch 7/25\n",
            "625/625 [==============================] - 85s 135ms/step - loss: 1.5466 - acc: 0.4608 - val_loss: 1.4772 - val_acc: 0.4653\n",
            "Epoch 8/25\n",
            "625/625 [==============================] - 85s 136ms/step - loss: 1.5379 - acc: 0.4666 - val_loss: 1.3388 - val_acc: 0.5271\n",
            "Epoch 9/25\n",
            "625/625 [==============================] - 85s 135ms/step - loss: 1.5157 - acc: 0.4738 - val_loss: 1.3348 - val_acc: 0.5475\n",
            "Epoch 10/25\n",
            "625/625 [==============================] - 85s 136ms/step - loss: 1.4938 - acc: 0.4827 - val_loss: 1.3755 - val_acc: 0.5135\n",
            "Epoch 11/25\n",
            "625/625 [==============================] - 85s 136ms/step - loss: 1.4818 - acc: 0.4902 - val_loss: 1.3576 - val_acc: 0.5320\n",
            "Epoch 12/25\n",
            "625/625 [==============================] - 85s 136ms/step - loss: 1.4704 - acc: 0.4904 - val_loss: 1.2900 - val_acc: 0.5634\n",
            "Epoch 13/25\n",
            "625/625 [==============================] - 85s 136ms/step - loss: 1.4622 - acc: 0.4978 - val_loss: 1.6526 - val_acc: 0.4485\n",
            "Epoch 14/25\n",
            "625/625 [==============================] - 84s 135ms/step - loss: 1.4388 - acc: 0.5051 - val_loss: 1.6342 - val_acc: 0.4914\n",
            "Epoch 15/25\n",
            "625/625 [==============================] - 84s 135ms/step - loss: 1.4262 - acc: 0.5067 - val_loss: 1.3194 - val_acc: 0.5390\n",
            "Epoch 16/25\n",
            "625/625 [==============================] - 84s 135ms/step - loss: 1.4292 - acc: 0.5116 - val_loss: 1.4050 - val_acc: 0.5080\n",
            "Epoch 17/25\n",
            "625/625 [==============================] - 84s 134ms/step - loss: 1.4089 - acc: 0.5144 - val_loss: 1.4388 - val_acc: 0.5144\n",
            "Epoch 18/25\n",
            "625/625 [==============================] - 84s 134ms/step - loss: 1.4125 - acc: 0.5154 - val_loss: 1.1626 - val_acc: 0.6104\n",
            "Epoch 19/25\n",
            "625/625 [==============================] - 84s 135ms/step - loss: 1.3961 - acc: 0.5232 - val_loss: 1.2817 - val_acc: 0.5761\n",
            "Epoch 20/25\n",
            "625/625 [==============================] - 84s 134ms/step - loss: 1.3864 - acc: 0.5263 - val_loss: 1.2458 - val_acc: 0.5810\n",
            "Epoch 21/25\n",
            "625/625 [==============================] - 84s 134ms/step - loss: 1.3747 - acc: 0.5298 - val_loss: 1.2734 - val_acc: 0.5660\n",
            "Epoch 22/25\n",
            "625/625 [==============================] - 84s 135ms/step - loss: 1.3774 - acc: 0.5293 - val_loss: 1.3241 - val_acc: 0.5589\n",
            "Epoch 23/25\n",
            "625/625 [==============================] - 84s 135ms/step - loss: 1.3617 - acc: 0.5350 - val_loss: 1.3045 - val_acc: 0.5575\n",
            "Epoch 24/25\n",
            "625/625 [==============================] - 84s 135ms/step - loss: 1.3615 - acc: 0.5366 - val_loss: 1.2605 - val_acc: 0.5816\n",
            "Epoch 25/25\n",
            "625/625 [==============================] - 84s 135ms/step - loss: 1.3529 - acc: 0.5400 - val_loss: 1.2541 - val_acc: 0.5927\n"
          ]
        }
      ],
      "source": [
        "# Train the model and store model parameters/loss values\n",
        "history = model.fit(train_generator, epochs=25, validation_data=test_generator)"
      ]
    },
    {
      "cell_type": "markdown",
      "metadata": {
        "id": "4q4jdKlrlDtC"
      },
      "source": [
        "## 3. Plot the training and validation loss curve versus epochs. (5 points)"
      ]
    },
    {
      "cell_type": "code",
      "execution_count": 7,
      "metadata": {
        "colab": {
          "base_uri": "https://localhost:8080/",
          "height": 279
        },
        "id": "hlkwJyMclDtC",
        "outputId": "5519f0fc-3a2a-4082-fbbb-45ed72c7f997"
      },
      "outputs": [
        {
          "output_type": "display_data",
          "data": {
            "text/plain": [
              "<Figure size 432x288 with 1 Axes>"
            ],
            "image/png": "[encoded data removed]"
          },
          "metadata": {
            "needs_background": "light"
          }
        }
      ],
      "source": [
        "# Plot the loss curve\n",
        "import matplotlib.pyplot as plt\n",
        "%matplotlib inline\n",
        "\n",
        "acc = history.history['acc']\n",
        "val_acc = history.history['val_acc']\n",
        "\n",
        "epochs = range(len(acc))\n",
        "\n",
        "plt.plot(epochs, acc, 'bo', label='Train accuracy')\n",
        "plt.plot(epochs, val_acc, 'r', label='Validation accuracy')\n",
        "plt.xlabel('Number of Epochs')\n",
        "plt.ylabel('Final Accuracy')\n",
        "plt.legend()\n",
        "plt.show()"
      ]
    },
    {
      "cell_type": "markdown",
      "metadata": {
        "id": "GfneGWHVlDtD"
      },
      "source": [
        "## 4. Train (again) and evaluate the model (5 points)\n",
        "\n",
        "- To this end, you have found the \"best\" hyper-parameters. \n",
        "- Now, fix the hyper-parameters and train the network on the entire training set (all the 50K training samples)\n",
        "- Evaluate your model on the test set."
      ]
    },
    {
      "cell_type": "markdown",
      "metadata": {
        "id": "6WNnPvUTlDtD"
      },
      "source": [
        "### Train the model on the entire training set\n",
        "\n",
        "Why? Previously, you used 40K samples for training; you wasted 10K samples for the sake of hyper-parameter tuning. Now you already know the hyper-parameters, so why not using all the 50K samples for training?"
      ]
    },
    {
      "cell_type": "code",
      "execution_count": 8,
      "metadata": {
        "colab": {
          "base_uri": "https://localhost:8080/"
        },
        "id": "BD_EDu7llDtD",
        "outputId": "d7d9f234-b30f-40ba-d43e-b5fdb6156b1b"
      },
      "outputs": [
        {
          "output_type": "stream",
          "name": "stderr",
          "text": [
            "/usr/local/lib/python3.7/dist-packages/keras/optimizer_v2/rmsprop.py:130: UserWarning: The `lr` argument is deprecated, use `learning_rate` instead.\n",
            "  super(RMSprop, self).__init__(name, **kwargs)\n"
          ]
        }
      ],
      "source": [
        "#<Compile your model again (using the same hyper-parameters you tuned above)>\n",
        "# Define model optimizer and loss function\n",
        "train_datagen = ImageDataGenerator(\n",
        "    rotation_range=15,\n",
        "    width_shift_range=0.1,\n",
        "    height_shift_range=0.1,\n",
        "    shear_range=0.3,\n",
        "    zoom_range=0.1,\n",
        "    horizontal_flip=True)\n",
        "\n",
        "train_datagen.fit(x_train)\n",
        "train_generator = train_datagen.flow(x_train, y_train_vec, batch_size=64)\n",
        "test_generator = ImageDataGenerator().flow(x_val, y_val, batch_size=64)\n",
        "\n",
        "learning_rate = 0.001 # to be tuned!\n",
        "\n",
        "model.compile(loss='categorical_crossentropy',\n",
        "              optimizer=optimizers.RMSprop(lr=learning_rate),\n",
        "              metrics=['acc'])"
      ]
    },
    {
      "cell_type": "code",
      "execution_count": 9,
      "metadata": {
        "colab": {
          "base_uri": "https://localhost:8080/"
        },
        "id": "QfzKJ0IMlDtE",
        "outputId": "bfea3270-2994-4ae9-8291-78347de356ad"
      },
      "outputs": [
        {
          "output_type": "stream",
          "name": "stdout",
          "text": [
            "Epoch 1/25\n",
            "782/782 [==============================] - 106s 135ms/step - loss: 1.2732 - acc: 0.5697 - val_loss: 1.2479 - val_acc: 0.5789\n",
            "Epoch 2/25\n",
            "782/782 [==============================] - 104s 133ms/step - loss: 1.2481 - acc: 0.5787 - val_loss: 1.2464 - val_acc: 0.5936\n",
            "Epoch 3/25\n",
            "782/782 [==============================] - 104s 133ms/step - loss: 1.2308 - acc: 0.5846 - val_loss: 1.1293 - val_acc: 0.6275\n",
            "Epoch 4/25\n",
            "782/782 [==============================] - 105s 134ms/step - loss: 1.2225 - acc: 0.5866 - val_loss: 1.3774 - val_acc: 0.5497\n",
            "Epoch 5/25\n",
            "782/782 [==============================] - 105s 134ms/step - loss: 1.2228 - acc: 0.5884 - val_loss: 1.0343 - val_acc: 0.6565\n",
            "Epoch 6/25\n",
            "782/782 [==============================] - 104s 133ms/step - loss: 1.2118 - acc: 0.5915 - val_loss: 1.1597 - val_acc: 0.6334\n",
            "Epoch 7/25\n",
            "782/782 [==============================] - 105s 134ms/step - loss: 1.2136 - acc: 0.5910 - val_loss: 1.0849 - val_acc: 0.6358\n",
            "Epoch 8/25\n",
            "782/782 [==============================] - 104s 133ms/step - loss: 1.2036 - acc: 0.5941 - val_loss: 1.1813 - val_acc: 0.6024\n",
            "Epoch 9/25\n",
            "782/782 [==============================] - 104s 133ms/step - loss: 1.2134 - acc: 0.5917 - val_loss: 1.3544 - val_acc: 0.5285\n",
            "Epoch 10/25\n",
            "782/782 [==============================] - 105s 134ms/step - loss: 1.2300 - acc: 0.5929 - val_loss: 1.0444 - val_acc: 0.6636\n",
            "Epoch 11/25\n",
            "782/782 [==============================] - 105s 134ms/step - loss: 1.2060 - acc: 0.5985 - val_loss: 1.0935 - val_acc: 0.6363\n",
            "Epoch 12/25\n",
            "782/782 [==============================] - 105s 134ms/step - loss: 1.2056 - acc: 0.5936 - val_loss: 1.1363 - val_acc: 0.6087\n",
            "Epoch 13/25\n",
            "782/782 [==============================] - 105s 134ms/step - loss: 1.1988 - acc: 0.5969 - val_loss: 1.3524 - val_acc: 0.6080\n",
            "Epoch 14/25\n",
            "782/782 [==============================] - 104s 134ms/step - loss: 1.1918 - acc: 0.5956 - val_loss: 1.0468 - val_acc: 0.6529\n",
            "Epoch 15/25\n",
            "782/782 [==============================] - 105s 134ms/step - loss: 1.1933 - acc: 0.6009 - val_loss: 1.0375 - val_acc: 0.6601\n",
            "Epoch 16/25\n",
            "782/782 [==============================] - 108s 137ms/step - loss: 1.1765 - acc: 0.6022 - val_loss: 1.2481 - val_acc: 0.6165\n",
            "Epoch 17/25\n",
            "782/782 [==============================] - 106s 136ms/step - loss: 1.1702 - acc: 0.6078 - val_loss: 1.0129 - val_acc: 0.6652\n",
            "Epoch 18/25\n",
            "782/782 [==============================] - 106s 135ms/step - loss: 1.1712 - acc: 0.6054 - val_loss: 1.0320 - val_acc: 0.6620\n",
            "Epoch 19/25\n",
            "782/782 [==============================] - 106s 136ms/step - loss: 1.1764 - acc: 0.6082 - val_loss: 1.0864 - val_acc: 0.6439\n",
            "Epoch 20/25\n",
            "782/782 [==============================] - 108s 138ms/step - loss: 1.1691 - acc: 0.6069 - val_loss: 1.4023 - val_acc: 0.5421\n",
            "Epoch 21/25\n",
            "782/782 [==============================] - 107s 137ms/step - loss: 1.1731 - acc: 0.6058 - val_loss: 1.0675 - val_acc: 0.6746\n",
            "Epoch 22/25\n",
            "782/782 [==============================] - 107s 136ms/step - loss: 1.1721 - acc: 0.6071 - val_loss: 1.1616 - val_acc: 0.6564\n",
            "Epoch 23/25\n",
            "782/782 [==============================] - 107s 136ms/step - loss: 1.1819 - acc: 0.6099 - val_loss: 0.9864 - val_acc: 0.6742\n",
            "Epoch 24/25\n",
            "782/782 [==============================] - 107s 136ms/step - loss: 1.1823 - acc: 0.6074 - val_loss: 1.0734 - val_acc: 0.6412\n",
            "Epoch 25/25\n",
            "782/782 [==============================] - 107s 136ms/step - loss: 1.1871 - acc: 0.6052 - val_loss: 1.0934 - val_acc: 0.6237\n"
          ]
        }
      ],
      "source": [
        "#<Train your model on the entire training set (50K samples)>\n",
        "history = model.fit(train_generator, epochs=25, validation_data=test_generator)"
      ]
    },
    {
      "cell_type": "markdown",
      "metadata": {
        "id": "qR7JQnxxlDtE"
      },
      "source": [
        "## 5. Evaluate the model on the test set (5 points)\n",
        "\n",
        "Do NOT used the test set until now. Make sure that your model parameters and hyper-parameters are independent of the test set."
      ]
    },
    {
      "cell_type": "code",
      "execution_count": 10,
      "metadata": {
        "id": "RR-ur4r-lDtE",
        "colab": {
          "base_uri": "https://localhost:8080/"
        },
        "outputId": "f61e8468-613f-4728-d2a4-7bd6f8de7338"
      },
      "outputs": [
        {
          "output_type": "stream",
          "name": "stdout",
          "text": [
            "313/313 [==============================] - 5s 17ms/step - loss: 1.1183 - acc: 0.6175\n",
            "The loss of the model is 1.1183332204818726\n",
            "The accuracy if the model is 0.6175000071525574\n"
          ]
        }
      ],
      "source": [
        "# Evaluate your model performance (teloss_and_acc = model.evaluate(x_test, y_test_vec)\n",
        "loss_and_acc = model.evaluate(x_test, y_test_vec)\n",
        "print('The loss of the model is ' + str(loss_and_acc[0]))\n",
        "print('The accuracy if the model is ' + str(loss_and_acc[1]))"
      ]
    },
    {
      "cell_type": "markdown",
      "metadata": {
        "id": "XwCaRhxilDtF"
      },
      "source": [
        "## 6. Building model with new structure (25 points)\n",
        "- In this section, you can build your model with adding new layers (e.g, BN layer or dropout layer, ...).\n",
        "- If you want to regularize a ```Conv/Dense layer```, you should place a ```Dropout layer``` before the ```Conv/Dense layer```.\n",
        "- You can try to compare their loss curve and testing accuracy and analyze your findings.\n",
        "- You need to try at lease two different model structures."
      ]
    },
    {
      "cell_type": "code",
      "source": [
        "from keras.layers import BatchNormalization, Dropout\n",
        "\n",
        "model = Sequential()\n",
        "model.add(Conv2D(32, (3, 3), padding='same', input_shape=(32, 32, 3)))\n",
        "model.add(BatchNormalization())\n",
        "model.add(Activation('relu'))\n",
        "model.add(Conv2D(32, (3, 3), padding='same'))\n",
        "model.add(BatchNormalization())\n",
        "model.add(Activation('relu'))\n",
        "model.add(MaxPooling2D((2, 2)))\n",
        "\n",
        "model.add(Conv2D(64, (3, 3), padding='same'))\n",
        "model.add(BatchNormalization())\n",
        "model.add(Activation('relu'))\n",
        "model.add(Conv2D(64, (3, 3), padding='same'))\n",
        "model.add(BatchNormalization())\n",
        "model.add(Activation('relu'))\n",
        "model.add(MaxPooling2D((2, 2)))\n",
        "\n",
        "model.add(Flatten())\n",
        "model.add(Dropout(0.5))\n",
        "model.add(Dense(512))\n",
        "model.add(BatchNormalization())\n",
        "model.add(Activation('relu'))\n",
        "model.add(Dense(10))\n",
        "model.add(Activation('softmax'))\n",
        "\n",
        "model.compile(loss='categorical_crossentropy',\n",
        "              optimizer=optimizers.RMSprop(lr=learning_rate),\n",
        "              metrics=['acc'])\n",
        "\n",
        "history = model.fit(train_generator, epochs=25, validation_data=test_generator)\n",
        "\n",
        "\n",
        "loss_and_acc = model.evaluate(x_test, y_test_vec)\n",
        "print('The loss of the model is ' + str(loss_and_acc[0]))\n",
        "print('The accuracy if the model is ' + str(loss_and_acc[1]))\n",
        "\n",
        "acc = history.history['acc']\n",
        "val_acc = history.history['val_acc']\n",
        "\n",
        "epochs = range(len(acc))\n",
        "\n",
        "plt.plot(epochs, acc, 'bo', label='Train accuracy')\n",
        "plt.plot(epochs, val_acc, 'r', label='Validation accuracy')\n",
        "plt.xlabel('Number of Epochs')\n",
        "plt.ylabel('Final Accuracy')\n",
        "plt.legend()\n",
        "plt.show()"
      ],
      "metadata": {
        "colab": {
          "base_uri": "https://localhost:8080/",
          "height": 1000
        },
        "id": "z8jNXjpffgvn",
        "outputId": "4850ff09-bad6-46f3-ec65-e6b697e4ed50"
      },
      "execution_count": 11,
      "outputs": [
        {
          "output_type": "stream",
          "name": "stdout",
          "text": [
            "Epoch 1/25\n"
          ]
        },
        {
          "output_type": "stream",
          "name": "stderr",
          "text": [
            "/usr/local/lib/python3.7/dist-packages/keras/optimizer_v2/rmsprop.py:130: UserWarning: The `lr` argument is deprecated, use `learning_rate` instead.\n",
            "  super(RMSprop, self).__init__(name, **kwargs)\n"
          ]
        },
        {
          "output_type": "stream",
          "name": "stdout",
          "text": [
            "782/782 [==============================] - 368s 468ms/step - loss: 1.4259 - acc: 0.4942 - val_loss: 1.2064 - val_acc: 0.5791\n",
            "Epoch 2/25\n",
            "782/782 [==============================] - 366s 468ms/step - loss: 1.0519 - acc: 0.6284 - val_loss: 1.0926 - val_acc: 0.6285\n",
            "Epoch 3/25\n",
            "782/782 [==============================] - 366s 468ms/step - loss: 0.9321 - acc: 0.6711 - val_loss: 0.9224 - val_acc: 0.6834\n",
            "Epoch 4/25\n",
            "782/782 [==============================] - 367s 469ms/step - loss: 0.8596 - acc: 0.6993 - val_loss: 1.3913 - val_acc: 0.5798\n",
            "Epoch 5/25\n",
            "782/782 [==============================] - 368s 470ms/step - loss: 0.8074 - acc: 0.7170 - val_loss: 1.3357 - val_acc: 0.6331\n",
            "Epoch 6/25\n",
            "782/782 [==============================] - 365s 467ms/step - loss: 0.7776 - acc: 0.7312 - val_loss: 1.0176 - val_acc: 0.6949\n",
            "Epoch 7/25\n",
            "782/782 [==============================] - 366s 469ms/step - loss: 0.7478 - acc: 0.7411 - val_loss: 0.7130 - val_acc: 0.7680\n",
            "Epoch 8/25\n",
            "782/782 [==============================] - 364s 466ms/step - loss: 0.7205 - acc: 0.7510 - val_loss: 0.7714 - val_acc: 0.7556\n",
            "Epoch 9/25\n",
            "782/782 [==============================] - 362s 463ms/step - loss: 0.6937 - acc: 0.7612 - val_loss: 0.6369 - val_acc: 0.7769\n",
            "Epoch 10/25\n",
            "782/782 [==============================] - 362s 463ms/step - loss: 0.6818 - acc: 0.7671 - val_loss: 0.6335 - val_acc: 0.7862\n",
            "Epoch 11/25\n",
            "782/782 [==============================] - 363s 464ms/step - loss: 0.6606 - acc: 0.7726 - val_loss: 0.6619 - val_acc: 0.7945\n",
            "Epoch 12/25\n",
            "782/782 [==============================] - 362s 462ms/step - loss: 0.6496 - acc: 0.7791 - val_loss: 0.6716 - val_acc: 0.7836\n",
            "Epoch 13/25\n",
            "782/782 [==============================] - 362s 463ms/step - loss: 0.6331 - acc: 0.7845 - val_loss: 0.5282 - val_acc: 0.8272\n",
            "Epoch 14/25\n",
            "782/782 [==============================] - 363s 464ms/step - loss: 0.6254 - acc: 0.7868 - val_loss: 0.5824 - val_acc: 0.8103\n",
            "Epoch 15/25\n",
            "782/782 [==============================] - 362s 463ms/step - loss: 0.6043 - acc: 0.7932 - val_loss: 0.6326 - val_acc: 0.7950\n",
            "Epoch 16/25\n",
            "782/782 [==============================] - 362s 463ms/step - loss: 0.6038 - acc: 0.7936 - val_loss: 0.6411 - val_acc: 0.7852\n",
            "Epoch 17/25\n",
            "782/782 [==============================] - 361s 462ms/step - loss: 0.5904 - acc: 0.8006 - val_loss: 0.5236 - val_acc: 0.8306\n",
            "Epoch 18/25\n",
            "782/782 [==============================] - 361s 461ms/step - loss: 0.5798 - acc: 0.8040 - val_loss: 0.6097 - val_acc: 0.7941\n",
            "Epoch 19/25\n",
            "782/782 [==============================] - 363s 464ms/step - loss: 0.5748 - acc: 0.8044 - val_loss: 0.5650 - val_acc: 0.8145\n",
            "Epoch 20/25\n",
            "782/782 [==============================] - 362s 463ms/step - loss: 0.5668 - acc: 0.8091 - val_loss: 0.8611 - val_acc: 0.7685\n",
            "Epoch 21/25\n",
            "782/782 [==============================] - 364s 466ms/step - loss: 0.5581 - acc: 0.8110 - val_loss: 0.5945 - val_acc: 0.8065\n",
            "Epoch 22/25\n",
            "782/782 [==============================] - 364s 466ms/step - loss: 0.5490 - acc: 0.8147 - val_loss: 0.4053 - val_acc: 0.8617\n",
            "Epoch 23/25\n",
            "782/782 [==============================] - 365s 466ms/step - loss: 0.5421 - acc: 0.8166 - val_loss: 0.4668 - val_acc: 0.8433\n",
            "Epoch 24/25\n",
            "782/782 [==============================] - 365s 467ms/step - loss: 0.5431 - acc: 0.8165 - val_loss: 0.5421 - val_acc: 0.8210\n",
            "Epoch 25/25\n",
            "782/782 [==============================] - 364s 465ms/step - loss: 0.5379 - acc: 0.8186 - val_loss: 0.4702 - val_acc: 0.8457\n",
            "313/313 [==============================] - 18s 57ms/step - loss: 0.5802 - acc: 0.8065\n",
            "The loss of the model is 0.5802308917045593\n",
            "The accuracy if the model is 0.8065000176429749\n"
          ]
        },
        {
          "output_type": "display_data",
          "data": {
            "text/plain": [
              "<Figure size 432x288 with 1 Axes>"
            ],
            "image/png": "[encoded data removed]"
          },
          "metadata": {
            "needs_background": "light"
          }
        }
      ]
    },
    {
      "cell_type": "code",
      "execution_count": 12,
      "metadata": {
        "id": "32ULru1HlDtF",
        "colab": {
          "base_uri": "https://localhost:8080/",
          "height": 1000
        },
        "outputId": "21795d26-2bb8-4213-bf97-5cf4ba59afa5"
      },
      "outputs": [
        {
          "output_type": "stream",
          "name": "stdout",
          "text": [
            "Epoch 1/25\n"
          ]
        },
        {
          "output_type": "stream",
          "name": "stderr",
          "text": [
            "/usr/local/lib/python3.7/dist-packages/keras/optimizer_v2/rmsprop.py:130: UserWarning: The `lr` argument is deprecated, use `learning_rate` instead.\n",
            "  super(RMSprop, self).__init__(name, **kwargs)\n"
          ]
        },
        {
          "output_type": "stream",
          "name": "stdout",
          "text": [
            "782/782 [==============================] - 479s 610ms/step - loss: 1.4045 - acc: 0.4999 - val_loss: 1.5498 - val_acc: 0.5011\n",
            "Epoch 2/25\n",
            "782/782 [==============================] - 473s 605ms/step - loss: 1.0065 - acc: 0.6421 - val_loss: 1.3696 - val_acc: 0.5872\n",
            "Epoch 3/25\n",
            "782/782 [==============================] - 472s 604ms/step - loss: 0.8630 - acc: 0.6974 - val_loss: 0.7926 - val_acc: 0.7353\n",
            "Epoch 4/25\n",
            "782/782 [==============================] - 472s 604ms/step - loss: 0.7862 - acc: 0.7264 - val_loss: 1.1165 - val_acc: 0.6732\n",
            "Epoch 5/25\n",
            "782/782 [==============================] - 471s 603ms/step - loss: 0.7245 - acc: 0.7488 - val_loss: 0.9328 - val_acc: 0.6987\n",
            "Epoch 6/25\n",
            "782/782 [==============================] - 474s 605ms/step - loss: 0.6831 - acc: 0.7647 - val_loss: 0.9064 - val_acc: 0.7458\n",
            "Epoch 7/25\n",
            "782/782 [==============================] - 469s 600ms/step - loss: 0.6433 - acc: 0.7808 - val_loss: 0.8323 - val_acc: 0.7458\n",
            "Epoch 8/25\n",
            "782/782 [==============================] - 468s 598ms/step - loss: 0.6190 - acc: 0.7869 - val_loss: 0.7930 - val_acc: 0.7724\n",
            "Epoch 9/25\n",
            "782/782 [==============================] - 474s 606ms/step - loss: 0.5955 - acc: 0.7952 - val_loss: 0.6158 - val_acc: 0.7883\n",
            "Epoch 10/25\n",
            "782/782 [==============================] - 472s 603ms/step - loss: 0.5803 - acc: 0.8022 - val_loss: 0.7227 - val_acc: 0.7725\n",
            "Epoch 11/25\n",
            "782/782 [==============================] - 470s 601ms/step - loss: 0.5624 - acc: 0.8086 - val_loss: 1.1077 - val_acc: 0.7368\n",
            "Epoch 12/25\n",
            "782/782 [==============================] - 468s 599ms/step - loss: 0.5456 - acc: 0.8152 - val_loss: 0.5057 - val_acc: 0.8269\n",
            "Epoch 13/25\n",
            "782/782 [==============================] - 470s 601ms/step - loss: 0.5244 - acc: 0.8207 - val_loss: 0.4470 - val_acc: 0.8479\n",
            "Epoch 14/25\n",
            "782/782 [==============================] - 469s 600ms/step - loss: 0.5096 - acc: 0.8275 - val_loss: 0.5321 - val_acc: 0.8337\n",
            "Epoch 15/25\n",
            "782/782 [==============================] - 468s 598ms/step - loss: 0.5057 - acc: 0.8300 - val_loss: 0.4698 - val_acc: 0.8448\n",
            "Epoch 16/25\n",
            "782/782 [==============================] - 469s 599ms/step - loss: 0.4925 - acc: 0.8340 - val_loss: 0.4510 - val_acc: 0.8526\n",
            "Epoch 17/25\n",
            "782/782 [==============================] - 470s 601ms/step - loss: 0.4823 - acc: 0.8353 - val_loss: 0.5763 - val_acc: 0.8171\n",
            "Epoch 18/25\n",
            "782/782 [==============================] - 469s 600ms/step - loss: 0.4678 - acc: 0.8418 - val_loss: 0.6859 - val_acc: 0.7909\n",
            "Epoch 19/25\n",
            "782/782 [==============================] - 467s 598ms/step - loss: 0.4591 - acc: 0.8448 - val_loss: 0.8311 - val_acc: 0.7468\n",
            "Epoch 20/25\n",
            "782/782 [==============================] - 468s 598ms/step - loss: 0.4510 - acc: 0.8479 - val_loss: 0.3942 - val_acc: 0.8669\n",
            "Epoch 21/25\n",
            "782/782 [==============================] - 466s 596ms/step - loss: 0.4448 - acc: 0.8496 - val_loss: 0.3631 - val_acc: 0.8777\n",
            "Epoch 22/25\n",
            "782/782 [==============================] - 467s 597ms/step - loss: 0.4403 - acc: 0.8503 - val_loss: 0.3609 - val_acc: 0.8766\n",
            "Epoch 23/25\n",
            "782/782 [==============================] - 467s 597ms/step - loss: 0.4342 - acc: 0.8544 - val_loss: 0.3910 - val_acc: 0.8685\n",
            "Epoch 24/25\n",
            "782/782 [==============================] - 467s 597ms/step - loss: 0.4245 - acc: 0.8567 - val_loss: 0.4219 - val_acc: 0.8637\n",
            "Epoch 25/25\n",
            "782/782 [==============================] - 468s 598ms/step - loss: 0.4155 - acc: 0.8594 - val_loss: 0.3396 - val_acc: 0.8842\n",
            "313/313 [==============================] - 23s 71ms/step - loss: 0.4887 - acc: 0.8465\n",
            "The loss of the model is 0.4886748194694519\n",
            "The accuracy if the model is 0.8464999794960022\n"
          ]
        },
        {
          "output_type": "display_data",
          "data": {
            "text/plain": [
              "<Figure size 432x288 with 1 Axes>"
            ],
            "image/png": "[encoded data removed]"
          },
          "metadata": {
            "needs_background": "light"
          }
        }
      ],
      "source": [
        "model = Sequential()\n",
        "model.add(Conv2D(32, (3, 3), padding='same', input_shape=(32, 32, 3)))\n",
        "model.add(BatchNormalization())\n",
        "model.add(Activation('relu'))\n",
        "model.add(Conv2D(32, (3, 3), padding='same'))\n",
        "model.add(BatchNormalization())\n",
        "model.add(Activation('relu'))\n",
        "model.add(MaxPooling2D((2, 2)))\n",
        "\n",
        "model.add(Conv2D(64, (3, 3), padding='same'))\n",
        "model.add(BatchNormalization())\n",
        "model.add(Activation('relu'))\n",
        "model.add(Conv2D(64, (3, 3), padding='same'))\n",
        "model.add(BatchNormalization())\n",
        "model.add(Activation('relu'))\n",
        "model.add(MaxPooling2D((2, 2)))\n",
        "\n",
        "model.add(Conv2D(128, (3, 3), padding='same'))\n",
        "model.add(BatchNormalization())\n",
        "model.add(Activation('relu'))\n",
        "model.add(Conv2D(128, (3, 3), padding='same'))\n",
        "model.add(BatchNormalization())\n",
        "model.add(Activation('relu'))\n",
        "model.add(MaxPooling2D((2, 2)))\n",
        "\n",
        "model.add(Flatten())\n",
        "model.add(Dropout(0.5))\n",
        "model.add(Dense(512))\n",
        "model.add(BatchNormalization())\n",
        "model.add(Activation('relu'))\n",
        "model.add(Dense(10))\n",
        "model.add(Activation('softmax'))\n",
        "\n",
        "model.compile(loss='categorical_crossentropy',\n",
        "              optimizer=optimizers.RMSprop(lr=learning_rate),\n",
        "              metrics=['acc'])\n",
        "\n",
        "history = model.fit(train_generator, epochs=25, validation_data=test_generator)\n",
        "\n",
        "\n",
        "loss_and_acc = model.evaluate(x_test, y_test_vec)\n",
        "print('The loss of the model is ' + str(loss_and_acc[0]))\n",
        "print('The accuracy if the model is ' + str(loss_and_acc[1]))\n",
        "\n",
        "acc = history.history['acc']\n",
        "val_acc = history.history['val_acc']\n",
        "\n",
        "epochs = range(len(acc))\n",
        "\n",
        "plt.plot(epochs, acc, 'bo', label='Train accuracy')\n",
        "plt.plot(epochs, val_acc, 'r', label='Validation accuracy')\n",
        "plt.xlabel('Number of Epochs')\n",
        "plt.ylabel('Final Accuracy')\n",
        "plt.legend()\n",
        "plt.show()"
      ]
    }
  ],
  "metadata": {
    "kernelspec": {
      "display_name": "Python 3",
      "language": "python",
      "name": "python3"
    },
    "language_info": {
      "codemirror_mode": {
        "name": "ipython",
        "version": 3
      },
      "file_extension": ".py",
      "mimetype": "text/x-python",
      "name": "python",
      "nbconvert_exporter": "python",
      "pygments_lexer": "ipython3",
      "version": "3.9.2"
    },
    "colab": {
      "name": "Assignment2.ipynb",
      "provenance": [],
      "collapsed_sections": []
    }
  },
  "nbformat": 4,
  "nbformat_minor": 0
}