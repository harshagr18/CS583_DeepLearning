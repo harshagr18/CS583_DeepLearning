{
  "cells": [
    {
      "cell_type": "markdown",
      "metadata": {
        "id": "tIGQ23jslDs3"
      },
      "source": [
        "# Assignment 2: Build a CNN for image recognition.\n",
        "\n",
        "## Due Date:  March 29, 11:59PM\n",
        "\n",
        "### Name: Harsh Sanjay Agrawal\n"
      ]
    },
    {
      "cell_type": "markdown",
      "metadata": {
        "id": "MTTGrN7mlDs5"
      },
      "source": [
        "## Introduction:\n",
        "\n",
        "1. In this assignment, you will build Convolutional Neural Network to classify CIFAR-10 Images.\n",
        "2. You can directly load dataset from many deep learning packages.\n",
        "3. You can use any deep learning packages such as pytorch, keras or tensorflow for this assignment."
      ]
    },
    {
      "cell_type": "markdown",
      "metadata": {
        "id": "zF_OWkIzlDs5"
      },
      "source": [
        "## Requirements:\n",
        "\n",
        "1. You need to load cifar 10 data and split the entire training dataset into training and validation.\n",
        "2. You will implement a CNN model to classify cifar 10 images with provided structure.\n",
        "3. You need to plot the training and validation accuracy or loss obtained from above step.\n",
        "4. Then you can use tuned parameters to train using the entire training dataset.\n",
        "5. You should report the testing accuracy using the model with complete data.\n",
        "6. You may try to change the structure (e.g, add BN layer or dropout layer,...) and analyze your findings.\n",
        "\n",
        "## Google Colab\n",
        "\n",
        "- If you do not have GPU, the training of a CNN can be slow. Google Colab is a good option."
      ]
    },
    {
      "cell_type": "markdown",
      "metadata": {
        "id": "IhZxEj9VlDs6"
      },
      "source": [
        "## Batch Normalization (BN)"
      ]
    },
    {
      "cell_type": "markdown",
      "metadata": {
        "id": "-dVm_uialDs6"
      },
      "source": [
        "### Background:"
      ]
    },
    {
      "cell_type": "markdown",
      "metadata": {
        "id": "GO0ZcC38lDs6"
      },
      "source": [
        "- Batch Normalization is a technique to speed up training and help make the model more stable.\n",
        "- In simple words, batch normalization is just another network layer that gets inserted between a hidden layer and the next hidden layer. Its job is to take the outputs from the first hidden layer and normalize them before passing them on as the input of the next hidden layer.\n",
        "\n",
        "- For more detailed information, you may refer to the original paper: https://arxiv.org/pdf/1502.03167.pdf."
      ]
    },
    {
      "cell_type": "markdown",
      "metadata": {
        "id": "0KIFWFHLlDs7"
      },
      "source": [
        "### BN Algorithm:"
      ]
    },
    {
      "cell_type": "markdown",
      "metadata": {
        "id": "XI9MarSSlDs7"
      },
      "source": [
        "- Input: Values of $x$ over a mini-batch: $\\mathbf{B}$ = $\\{x_1,..., x_m\\};$\n",
        "- Output: $\\{y_i = BN_{\\gamma,\\beta}(x_i)\\}$, $\\gamma, \\beta$ are learnable parameters\n",
        "\n",
        "Normalization of the Input:\n",
        "$$\\mu_{\\mathbf{B}} = \\frac{1}{m}\\sum_{i=1}^m x_i$$\n",
        "$$\\sigma_{\\mathbf{B}}^2 = \\frac{1}{m}\\sum_{i=1}^m (x_i - \\mu_{\\mathbf{B}})^2$$\n",
        "$$\\hat{x_i} = \\frac{x_i - \\mu_{\\mathbf{B}}}{\\sqrt{\\sigma_{\\mathbf{B}}}^2 + \\epsilon}$$\n",
        "Re-scaling and Offsetting:\n",
        "$$y_i = \\gamma \\hat{x_i} + \\beta = BN_{\\gamma,\\beta}(x_i)$$\n"
      ]
    },
    {
      "cell_type": "markdown",
      "metadata": {
        "id": "0mn0Wq8FlDs7"
      },
      "source": [
        "### Advantages of BN:\n",
        "1. Improves gradient flow through the network.\n",
        "2. Allows use of saturating nonlinearities and higher learning rates.\n",
        "3. Makes weights easier to initialize.\n",
        "4. Act as a form of regularization and may reduce the need for dropout."
      ]
    },
    {
      "cell_type": "markdown",
      "metadata": {
        "id": "izlin1ezlDs8"
      },
      "source": [
        "### Implementation:"
      ]
    },
    {
      "cell_type": "markdown",
      "metadata": {
        "id": "gLmOsnBIlDs8"
      },
      "source": [
        "- The batch normalization layer has already been implemented in many packages. You may simply call the function to build the layer. For example: torch.nn.BatchNorm2d() using pytroch package, keras.layers.BatchNormalization() using keras package.\n",
        "- The location of BN layer: Please make sure ```BatchNormalization``` is between a ```Conv```/```Dense``` layer and an ```activation``` layer."
      ]
    },
    {
      "cell_type": "markdown",
      "metadata": {
        "id": "PnlEpzCRlDs8"
      },
      "source": [
        "## 1. Data preparation"
      ]
    },
    {
      "cell_type": "markdown",
      "metadata": {
        "id": "wsKGM8mRlDs9"
      },
      "source": [
        "### 1.1. Load data\n"
      ]
    },
    {
      "cell_type": "code",
      "execution_count": 1,
      "metadata": {
        "colab": {
          "base_uri": "https://localhost:8080/"
        },
        "id": "bmJIn_-HlDs9",
        "outputId": "5303bcdf-a79c-4a93-8d8b-c2d4a051e3e8"
      },
      "outputs": [
        {
          "output_type": "stream",
          "name": "stdout",
          "text": [
            "Downloading data from https://www.cs.toronto.edu/~kriz/cifar-10-python.tar.gz\n",
            "170500096/170498071 [==============================] - 4s 0us/step\n",
            "170508288/170498071 [==============================] - 4s 0us/step\n",
            "shape of x_train: (50000, 32, 32, 3)\n",
            "shape of y_train: (50000, 1)\n",
            "shape of x_test: (10000, 32, 32, 3)\n",
            "shape of y_test: (10000, 1)\n",
            "number of classes: 10\n"
          ]
        }
      ],
      "source": [
        "# Load Cifar-10 Data\n",
        "# This is just an example, you may load dataset from other packages.\n",
        "from keras.datasets import cifar10\n",
        "import numpy as np\n",
        "\n",
        "### If you can not load keras dataset, un-comment these two lines.\n",
        "#import ssl\n",
        "#ssl._create_default_https_context = ssl._create_unverified_context\n",
        "\n",
        "(x_train, y_train), (x_test, y_test) = cifar10.load_data()\n",
        "\n",
        "print('shape of x_train: ' + str(x_train.shape))\n",
        "print('shape of y_train: ' + str(y_train.shape))\n",
        "print('shape of x_test: ' + str(x_test.shape))\n",
        "print('shape of y_test: ' + str(y_test.shape))\n",
        "print('number of classes: ' + str(np.max(y_train) - np.min(y_train) + 1))"
      ]
    },
    {
      "cell_type": "markdown",
      "metadata": {
        "id": "84wWGggVlDs-"
      },
      "source": [
        "### 1.2. One-hot encode the labels (5 points)\n",
        "\n",
        "In the input, a label is a scalar in $\\{0, 1, \\cdots , 9\\}$. One-hot encode transform such a scalar to a $10$-dim vector. E.g., a scalar ```y_train[j]=3``` is transformed to the vector ```y_train_vec[j]=[0, 0, 0, 1, 0, 0, 0, 0, 0, 0]```.\n",
        "\n",
        "1. Implement a function ```to_one_hot``` that transforms an $n\\times 1$ array to a $n\\times 10$ matrix.\n",
        "\n",
        "2. Apply the function to ```y_train``` and ```y_test```."
      ]
    },
    {
      "cell_type": "code",
      "execution_count": 2,
      "metadata": {
        "colab": {
          "base_uri": "https://localhost:8080/"
        },
        "id": "4XfUsHz3lDs_",
        "outputId": "e8c8ce1f-1d9e-4d4b-9ed0-6e11552b9252"
      },
      "outputs": [
        {
          "output_type": "stream",
          "name": "stdout",
          "text": [
            "Shape of y_train_vec: (50000, 10)\n",
            "Shape of y_test_vec: (10000, 10)\n",
            "[6]\n",
            "[0. 0. 0. 0. 0. 0. 1. 0. 0. 0.]\n"
          ]
        }
      ],
      "source": [
        "def to_one_hot(y, num_class=10):\n",
        "    result = np.zeros((y.shape[0],10))\n",
        "    for i in range(len(y)):\n",
        "        result[i][y[i]] = 1\n",
        "    return result\n",
        "\n",
        "y_train_vec = to_one_hot(y_train)\n",
        "y_test_vec = to_one_hot(y_test)\n",
        "\n",
        "print('Shape of y_train_vec: ' + str(y_train_vec.shape))\n",
        "print('Shape of y_test_vec: ' + str(y_test_vec.shape))\n",
        "\n",
        "print(y_train[0])\n",
        "print(y_train_vec[0])"
      ]
    },
    {
      "cell_type": "markdown",
      "metadata": {
        "id": "aczNdSFGlDs_"
      },
      "source": [
        "#### Remark: the outputs should be\n",
        "* Shape of y_train_vec: (50000, 10)\n",
        "* Shape of y_test_vec: (10000, 10)\n",
        "* [6]\n",
        "* [0. 0. 0. 0. 0. 0. 1. 0. 0. 0.]"
      ]
    },
    {
      "cell_type": "markdown",
      "metadata": {
        "id": "-eaQLjwWlDs_"
      },
      "source": [
        "### 1.3. Randomly partition the training set to training and validation sets (5 points)\n",
        "\n",
        "Randomly partition the 50K training samples to 2 sets: \n",
        "* a training set containing 40K samples: x_tr, y_tr\n",
        "* a validation set containing 10K samples: x_val, y_val\n"
      ]
    },
    {
      "cell_type": "code",
      "execution_count": 3,
      "metadata": {
        "colab": {
          "base_uri": "https://localhost:8080/"
        },
        "id": "02fIA6vclDtA",
        "outputId": "44f538d1-c1c1-4c4a-83f4-2cae02fbb327"
      },
      "outputs": [
        {
          "output_type": "stream",
          "name": "stdout",
          "text": [
            "Shape of x_tr: (40000, 32, 32, 3)\n",
            "Shape of y_tr: (40000, 10)\n",
            "Shape of x_val: (10000, 32, 32, 3)\n",
            "Shape of y_val: (10000, 10)\n"
          ]
        }
      ],
      "source": [
        "myarr = np.arange(50000)\n",
        "np.random.shuffle(myarr)\n",
        "train_index = myarr[0:40000]\n",
        "validation_index = myarr[40000:50000]\n",
        "\n",
        "\n",
        "x_tr = x_train[train_index, :]\n",
        "y_tr = y_train_vec[train_index, :]\n",
        "x_val = x_train[validation_index, :]\n",
        "y_val = y_train_vec[validation_index, :]\n",
        "\n",
        "\n",
        "print('Shape of x_tr: ' + str(x_tr.shape))\n",
        "print('Shape of y_tr: ' + str(y_tr.shape))\n",
        "print('Shape of x_val: ' + str(x_val.shape))\n",
        "print('Shape of y_val: ' + str(y_val.shape))"
      ]
    },
    {
      "cell_type": "markdown",
      "metadata": {
        "id": "aGmbErKYlDtA"
      },
      "source": [
        "## 2. Build a CNN and tune its hyper-parameters (50 points)\n",
        "\n",
        "- Build a convolutional neural network model using the below structure:\n",
        "\n",
        "- It should have a structure of: Conv - ReLU - Max Pool - ConV - ReLU - Max Pool - Dense - ReLU - Dense - Softmax\n",
        "\n",
        "- In the graph 3@32x32 means the dimension of input image, 32@30x30 means it has 32 filters and the dimension now becomes 30x30 after the convolution.\n",
        "- All convolutional layers (Conv) should have stride = 1 and no padding.\n",
        "- Max Pooling has a pool size of 2 by 2.\n",
        "\n",
        "\n"
      ]
    },
    {
      "cell_type": "markdown",
      "metadata": {
        "id": "WY6aikQylDtB"
      },
      "source": [
        "<img src=\"network.PNG\"/>"
      ]
    },
    {
      "cell_type": "markdown",
      "metadata": {
        "id": "kMsQfxQdlDtB"
      },
      "source": [
        "- You may use the validation data to tune the hyper-parameters (e.g., learning rate, and optimization algorithm)\n",
        "- Do NOT use test data for hyper-parameter tuning!!!\n",
        "- Try to achieve a validation accuracy as high as possible."
      ]
    },
    {
      "cell_type": "code",
      "execution_count": 4,
      "metadata": {
        "colab": {
          "base_uri": "https://localhost:8080/"
        },
        "id": "2XsgehA3lDtB",
        "outputId": "817aa712-5493-4400-899a-d1de62bf318d"
      },
      "outputs": [
        {
          "output_type": "stream",
          "name": "stdout",
          "text": [
            "Model: \"sequential\"\n",
            "_________________________________________________________________\n",
            " Layer (type)                Output Shape              Param #   \n",
            "=================================================================\n",
            " conv2d (Conv2D)             (None, 30, 30, 32)        896       \n",
            "                                                                 \n",
            " activation (Activation)     (None, 30, 30, 32)        0         \n",
            "                                                                 \n",
            " max_pooling2d (MaxPooling2D  (None, 15, 15, 32)       0         \n",
            " )                                                               \n",
            "                                                                 \n",
            " conv2d_1 (Conv2D)           (None, 12, 12, 64)        32832     \n",
            "                                                                 \n",
            " activation_1 (Activation)   (None, 12, 12, 64)        0         \n",
            "                                                                 \n",
            " max_pooling2d_1 (MaxPooling  (None, 6, 6, 64)         0         \n",
            " 2D)                                                             \n",
            "                                                                 \n",
            " flatten (Flatten)           (None, 2304)              0         \n",
            "                                                                 \n",
            " dense (Dense)               (None, 256)               590080    \n",
            "                                                                 \n",
            " activation_2 (Activation)   (None, 256)               0         \n",
            "                                                                 \n",
            " dense_1 (Dense)             (None, 10)                2570      \n",
            "                                                                 \n",
            " activation_3 (Activation)   (None, 10)                0         \n",
            "                                                                 \n",
            "=================================================================\n",
            "Total params: 626,378\n",
            "Trainable params: 626,378\n",
            "Non-trainable params: 0\n",
            "_________________________________________________________________\n"
          ]
        }
      ],
      "source": [
        "\"\"\"\n",
        "Colvolution 3@32x32\n",
        "max-pool 32@30x30\n",
        "convolution 32@15x15\n",
        "max-pool 64@12x12\n",
        "dense 64@6x6\n",
        "1x256\n",
        "1x10\n",
        "\n",
        "Conv - ReLU - Max Pool - ConV - ReLU - Max Pool - Dense - ReLU - Dense - Softmax\n",
        "\"\"\"\n",
        "\n",
        "# Build the model\n",
        "from keras.layers import Conv2D, MaxPooling2D, Dense, Activation, Flatten\n",
        "from keras.models import Sequential\n",
        "\n",
        "model = Sequential()\n",
        "model.add(Conv2D(32, (3, 3), strides=(1, 1), padding='valid', input_shape=(32, 32, 3)))\n",
        "model.add(Activation('relu'))\n",
        "model.add(MaxPooling2D((2, 2)))\n",
        "model.add(Conv2D(64, (4, 4), padding='valid'))\n",
        "model.add(Activation('relu'))\n",
        "model.add(MaxPooling2D((2, 2)))\n",
        "model.add(Flatten())\n",
        "model.add(Dense(256))\n",
        "model.add(Activation('relu'))\n",
        "model.add(Dense(10))\n",
        "model.add(Activation('softmax'))\n",
        "\n",
        "\n",
        "model.summary()"
      ]
    },
    {
      "cell_type": "code",
      "execution_count": 5,
      "metadata": {
        "colab": {
          "base_uri": "https://localhost:8080/"
        },
        "id": "yXPXGvaPlDtB",
        "outputId": "20c75e90-3d1a-46c9-8b00-4196db58c9e4"
      },
      "outputs": [
        {
          "output_type": "stream",
          "name": "stderr",
          "text": [
            "/usr/local/lib/python3.7/dist-packages/keras/optimizer_v2/rmsprop.py:130: UserWarning: The `lr` argument is deprecated, use `learning_rate` instead.\n",
            "  super(RMSprop, self).__init__(name, **kwargs)\n"
          ]
        }
      ],
      "source": [
        "# Define model optimizer and loss function\n",
        "from tensorflow.keras import optimizers\n",
        "from tensorflow.keras.preprocessing.image import ImageDataGenerator\n",
        "\n",
        "train_datagen = ImageDataGenerator(\n",
        "    rotation_range=15,\n",
        "    width_shift_range=0.1,\n",
        "    height_shift_range=0.1,\n",
        "    shear_range=0.3,\n",
        "    zoom_range=0.1,\n",
        "    horizontal_flip=True)\n",
        "\n",
        "train_datagen.fit(x_tr)\n",
        "train_generator = train_datagen.flow(x_tr, y_tr, batch_size=64)\n",
        "test_generator = ImageDataGenerator().flow(x_val, y_val, batch_size=64)\n",
        "\n",
        "learning_rate = 0.001 # to be tuned!\n",
        "\n",
        "model.compile(loss='categorical_crossentropy',\n",
        "              optimizer=optimizers.RMSprop(lr=learning_rate),\n",
        "              metrics=['acc'])"
      ]
    },
    {
      "cell_type": "code",
      "execution_count": 6,
      "metadata": {
        "colab": {
          "base_uri": "https://localhost:8080/"
        },
        "id": "MsjMpUV_lDtC",
        "outputId": "6f8b3359-5c26-48bf-f424-11c737ed8109"
      },
      "outputs": [
        {
          "output_type": "stream",
          "name": "stdout",
          "text": [
            "Epoch 1/10\n",
            "625/625 [==============================] - 79s 124ms/step - loss: 3.3214 - acc: 0.1962 - val_loss: 2.1853 - val_acc: 0.2253\n",
            "Epoch 2/10\n",
            "625/625 [==============================] - 78s 125ms/step - loss: 1.7661 - acc: 0.3718 - val_loss: 1.5058 - val_acc: 0.4593\n",
            "Epoch 3/10\n",
            "625/625 [==============================] - 77s 123ms/step - loss: 1.5336 - acc: 0.4605 - val_loss: 1.4641 - val_acc: 0.4937\n",
            "Epoch 4/10\n",
            "625/625 [==============================] - 76s 121ms/step - loss: 1.4497 - acc: 0.4945 - val_loss: 1.3842 - val_acc: 0.5498\n",
            "Epoch 5/10\n",
            "625/625 [==============================] - 76s 122ms/step - loss: 1.4018 - acc: 0.5178 - val_loss: 1.3463 - val_acc: 0.5508\n",
            "Epoch 6/10\n",
            "625/625 [==============================] - 76s 122ms/step - loss: 1.3671 - acc: 0.5346 - val_loss: 1.3705 - val_acc: 0.5632\n",
            "Epoch 7/10\n",
            "625/625 [==============================] - 76s 122ms/step - loss: 1.3241 - acc: 0.5494 - val_loss: 1.1454 - val_acc: 0.6155\n",
            "Epoch 8/10\n",
            "625/625 [==============================] - 76s 121ms/step - loss: 1.3224 - acc: 0.5530 - val_loss: 1.1567 - val_acc: 0.6080\n",
            "Epoch 9/10\n",
            "625/625 [==============================] - 76s 122ms/step - loss: 1.2871 - acc: 0.5666 - val_loss: 1.1622 - val_acc: 0.6140\n",
            "Epoch 10/10\n",
            "625/625 [==============================] - 76s 122ms/step - loss: 1.2853 - acc: 0.5624 - val_loss: 1.5436 - val_acc: 0.4445\n"
          ]
        }
      ],
      "source": [
        "# Train the model and store model parameters/loss values\n",
        "history = model.fit(train_generator, epochs=10, validation_data=test_generator)"
      ]
    },
    {
      "cell_type": "markdown",
      "metadata": {
        "id": "4q4jdKlrlDtC"
      },
      "source": [
        "## 3. Plot the training and validation loss curve versus epochs. (5 points)"
      ]
    },
    {
      "cell_type": "code",
      "execution_count": 7,
      "metadata": {
        "colab": {
          "base_uri": "https://localhost:8080/",
          "height": 279
        },
        "id": "hlkwJyMclDtC",
        "outputId": "3b98e5e8-b982-4267-e149-3d9cabecb737"
      },
      "outputs": [
        {
          "output_type": "display_data",
          "data": {
            "text/plain": [
              "<Figure size 432x288 with 1 Axes>"
            ],
            "image/png": "[encoded data removed]"
          },
          "metadata": {
            "needs_background": "light"
          }
        }
      ],
      "source": [
        "# Plot the loss curve\n",
        "import matplotlib.pyplot as plt\n",
        "%matplotlib inline\n",
        "\n",
        "acc = history.history['acc']\n",
        "val_acc = history.history['val_acc']\n",
        "\n",
        "epochs = range(len(acc))\n",
        "\n",
        "plt.plot(epochs, acc, 'bo', label='Training acc')\n",
        "plt.plot(epochs, val_acc, 'r', label='Validation acc')\n",
        "plt.xlabel('Epochs')\n",
        "plt.ylabel('Accuracy')\n",
        "plt.legend()\n",
        "plt.show()"
      ]
    },
    {
      "cell_type": "code",
      "execution_count": 8,
      "metadata": {
        "id": "4d0WV7qjlDtD"
      },
      "outputs": [],
      "source": [
        "# # Evaluate your model performance (teloss_and_acc = model.evaluate(x_test, y_test_vec)\n",
        "# loss_and_acc = model.evaluate(x_test, y_test_vec)\n",
        "# print('loss = ' + str(loss_and_acc[0]))\n",
        "# print('accuracy = ' + str(loss_and_acc[1]))"
      ]
    },
    {
      "cell_type": "markdown",
      "metadata": {
        "id": "GfneGWHVlDtD"
      },
      "source": [
        "## 4. Train (again) and evaluate the model (5 points)\n",
        "\n",
        "- To this end, you have found the \"best\" hyper-parameters. \n",
        "- Now, fix the hyper-parameters and train the network on the entire training set (all the 50K training samples)\n",
        "- Evaluate your model on the test set."
      ]
    },
    {
      "cell_type": "markdown",
      "metadata": {
        "id": "6WNnPvUTlDtD"
      },
      "source": [
        "### Train the model on the entire training set\n",
        "\n",
        "Why? Previously, you used 40K samples for training; you wasted 10K samples for the sake of hyper-parameter tuning. Now you already know the hyper-parameters, so why not using all the 50K samples for training?"
      ]
    },
    {
      "cell_type": "code",
      "execution_count": 9,
      "metadata": {
        "colab": {
          "base_uri": "https://localhost:8080/"
        },
        "id": "BD_EDu7llDtD",
        "outputId": "8e0494d8-3489-4e95-b0b8-2d2390a301d7"
      },
      "outputs": [
        {
          "output_type": "stream",
          "name": "stderr",
          "text": [
            "/usr/local/lib/python3.7/dist-packages/keras/optimizer_v2/rmsprop.py:130: UserWarning: The `lr` argument is deprecated, use `learning_rate` instead.\n",
            "  super(RMSprop, self).__init__(name, **kwargs)\n"
          ]
        }
      ],
      "source": [
        "#<Compile your model again (using the same hyper-parameters you tuned above)>\n",
        "# Define model optimizer and loss function\n",
        "train_datagen = ImageDataGenerator(\n",
        "    rotation_range=15,\n",
        "    width_shift_range=0.1,\n",
        "    height_shift_range=0.1,\n",
        "    shear_range=0.3,\n",
        "    zoom_range=0.1,\n",
        "    horizontal_flip=True)\n",
        "\n",
        "train_datagen.fit(x_train)\n",
        "train_generator = train_datagen.flow(x_train, y_train_vec, batch_size=64)\n",
        "test_generator = ImageDataGenerator().flow(x_val, y_val, batch_size=64)\n",
        "\n",
        "learning_rate = 0.001 # to be tuned!\n",
        "\n",
        "model.compile(loss='categorical_crossentropy',\n",
        "              optimizer=optimizers.RMSprop(lr=learning_rate),\n",
        "              metrics=['acc'])"
      ]
    },
    {
      "cell_type": "code",
      "execution_count": 10,
      "metadata": {
        "colab": {
          "base_uri": "https://localhost:8080/"
        },
        "id": "QfzKJ0IMlDtE",
        "outputId": "f811320d-ea84-426d-cdd4-395deb1de82c"
      },
      "outputs": [
        {
          "output_type": "stream",
          "name": "stdout",
          "text": [
            "Epoch 1/10\n",
            "782/782 [==============================] - 97s 123ms/step - loss: 1.2921 - acc: 0.5664 - val_loss: 1.0877 - val_acc: 0.6229\n",
            "Epoch 2/10\n",
            "782/782 [==============================] - 102s 131ms/step - loss: 1.2922 - acc: 0.5702 - val_loss: 1.5931 - val_acc: 0.4850\n",
            "Epoch 3/10\n",
            "782/782 [==============================] - 97s 124ms/step - loss: 1.2514 - acc: 0.5772 - val_loss: 1.2061 - val_acc: 0.5896\n",
            "Epoch 4/10\n",
            "782/782 [==============================] - 95s 122ms/step - loss: 1.2365 - acc: 0.5836 - val_loss: 1.0314 - val_acc: 0.6435\n",
            "Epoch 5/10\n",
            "782/782 [==============================] - 95s 121ms/step - loss: 1.2471 - acc: 0.5796 - val_loss: 1.3169 - val_acc: 0.5719\n",
            "Epoch 6/10\n",
            "782/782 [==============================] - 95s 121ms/step - loss: 1.2377 - acc: 0.5857 - val_loss: 1.0715 - val_acc: 0.6288\n",
            "Epoch 7/10\n",
            "782/782 [==============================] - 95s 122ms/step - loss: 1.2357 - acc: 0.5834 - val_loss: 1.1955 - val_acc: 0.5960\n",
            "Epoch 8/10\n",
            "782/782 [==============================] - 94s 120ms/step - loss: 1.2230 - acc: 0.5873 - val_loss: 1.3199 - val_acc: 0.5451\n",
            "Epoch 9/10\n",
            "782/782 [==============================] - 95s 121ms/step - loss: 1.2104 - acc: 0.5924 - val_loss: 1.0473 - val_acc: 0.6606\n",
            "Epoch 10/10\n",
            "782/782 [==============================] - 95s 122ms/step - loss: 1.2145 - acc: 0.5946 - val_loss: 1.1177 - val_acc: 0.6125\n"
          ]
        }
      ],
      "source": [
        "#<Train your model on the entire training set (50K samples)>\n",
        "history = model.fit(train_generator, epochs=10, validation_data=test_generator)"
      ]
    },
    {
      "cell_type": "markdown",
      "metadata": {
        "id": "qR7JQnxxlDtE"
      },
      "source": [
        "## 5. Evaluate the model on the test set (5 points)\n",
        "\n",
        "Do NOT used the test set until now. Make sure that your model parameters and hyper-parameters are independent of the test set."
      ]
    },
    {
      "cell_type": "code",
      "execution_count": 11,
      "metadata": {
        "id": "RR-ur4r-lDtE",
        "colab": {
          "base_uri": "https://localhost:8080/"
        },
        "outputId": "a8a3fae3-b6b5-4b6a-e267-d6b8a60d3635"
      },
      "outputs": [
        {
          "output_type": "stream",
          "name": "stdout",
          "text": [
            "313/313 [==============================] - 5s 15ms/step - loss: 1.1347 - acc: 0.6091\n",
            "loss = 1.134657621383667\n",
            "accuracy = 0.6090999841690063\n"
          ]
        }
      ],
      "source": [
        "# Evaluate your model performance (teloss_and_acc = model.evaluate(x_test, y_test_vec)\n",
        "loss_and_acc = model.evaluate(x_test, y_test_vec)\n",
        "print('loss = ' + str(loss_and_acc[0]))\n",
        "print('accuracy = ' + str(loss_and_acc[1]))"
      ]
    },
    {
      "cell_type": "markdown",
      "metadata": {
        "id": "XwCaRhxilDtF"
      },
      "source": [
        "## 6. Building model with new structure (25 points)\n",
        "- In this section, you can build your model with adding new layers (e.g, BN layer or dropout layer, ...).\n",
        "- If you want to regularize a ```Conv/Dense layer```, you should place a ```Dropout layer``` before the ```Conv/Dense layer```.\n",
        "- You can try to compare their loss curve and testing accuracy and analyze your findings.\n",
        "- You need to try at lease two different model structures."
      ]
    },
    {
      "cell_type": "code",
      "source": [
        "from keras.layers import BatchNormalization, Dropout\n",
        "\n",
        "model = Sequential()\n",
        "model.add(Conv2D(32, (3, 3), padding='same', input_shape=(32, 32, 3)))\n",
        "model.add(BatchNormalization())\n",
        "model.add(Activation('relu'))\n",
        "model.add(Conv2D(32, (3, 3), padding='same'))\n",
        "model.add(BatchNormalization())\n",
        "model.add(Activation('relu'))\n",
        "model.add(MaxPooling2D((2, 2)))\n",
        "\n",
        "model.add(Conv2D(64, (3, 3), padding='same'))\n",
        "model.add(BatchNormalization())\n",
        "model.add(Activation('relu'))\n",
        "model.add(Conv2D(64, (3, 3), padding='same'))\n",
        "model.add(BatchNormalization())\n",
        "model.add(Activation('relu'))\n",
        "model.add(MaxPooling2D((2, 2)))\n",
        "\n",
        "model.add(Flatten())\n",
        "model.add(Dropout(0.5))\n",
        "model.add(Dense(512))\n",
        "model.add(BatchNormalization())\n",
        "model.add(Activation('relu'))\n",
        "model.add(Dense(10))\n",
        "model.add(Activation('softmax'))\n",
        "\n",
        "model.compile(loss='categorical_crossentropy',\n",
        "              optimizer=optimizers.RMSprop(lr=learning_rate),\n",
        "              metrics=['acc'])\n",
        "\n",
        "history = model.fit(train_generator, epochs=10, validation_data=test_generator)\n",
        "\n",
        "\n",
        "loss_and_acc = model.evaluate(x_test, y_test_vec)\n",
        "print('loss = ' + str(loss_and_acc[0]))\n",
        "print('accuracy = ' + str(loss_and_acc[1]))\n",
        "\n",
        "acc = history.history['acc']\n",
        "val_acc = history.history['val_acc']\n",
        "\n",
        "epochs = range(len(acc))\n",
        "\n",
        "plt.plot(epochs, acc, 'bo', label='Training acc')\n",
        "plt.plot(epochs, val_acc, 'r', label='Validation acc')\n",
        "plt.xlabel('Epochs')\n",
        "plt.ylabel('Accuracy')\n",
        "plt.legend()\n",
        "plt.show()"
      ],
      "metadata": {
        "colab": {
          "base_uri": "https://localhost:8080/",
          "height": 713
        },
        "id": "z8jNXjpffgvn",
        "outputId": "aec80a03-82aa-439b-acf6-0309c75869f5"
      },
      "execution_count": 14,
      "outputs": [
        {
          "metadata": {
            "tags": null
          },
          "name": "stdout",
          "output_type": "stream",
          "text": [
            "Epoch 1/10\n"
          ]
        },
        {
          "metadata": {
            "tags": null
          },
          "name": "stderr",
          "output_type": "stream",
          "text": [
            "/usr/local/lib/python3.7/dist-packages/keras/optimizer_v2/rmsprop.py:130: UserWarning: The `lr` argument is deprecated, use `learning_rate` instead.\n",
            "  super(RMSprop, self).__init__(name, **kwargs)\n"
          ]
        },
        {
          "output_type": "stream",
          "name": "stdout",
          "text": [
            "782/782 [==============================] - 337s 428ms/step - loss: 1.4250 - acc: 0.4942 - val_loss: 1.2150 - val_acc: 0.5962\n",
            "Epoch 2/10\n",
            "782/782 [==============================] - 335s 428ms/step - loss: 1.0523 - acc: 0.6245 - val_loss: 1.1628 - val_acc: 0.6068\n",
            "Epoch 3/10\n",
            "782/782 [==============================] - 332s 424ms/step - loss: 0.9224 - acc: 0.6736 - val_loss: 1.0152 - val_acc: 0.6716\n",
            "Epoch 4/10\n",
            "782/782 [==============================] - 334s 427ms/step - loss: 0.8590 - acc: 0.6981 - val_loss: 1.0083 - val_acc: 0.6823\n",
            "Epoch 5/10\n",
            "782/782 [==============================] - 339s 433ms/step - loss: 0.8098 - acc: 0.7152 - val_loss: 0.9229 - val_acc: 0.6953\n",
            "Epoch 6/10\n",
            "782/782 [==============================] - 343s 438ms/step - loss: 0.7623 - acc: 0.7344 - val_loss: 0.9793 - val_acc: 0.6989\n",
            "Epoch 7/10\n",
            "782/782 [==============================] - 343s 439ms/step - loss: 0.7384 - acc: 0.7435 - val_loss: 0.7070 - val_acc: 0.7526\n",
            "Epoch 8/10\n",
            "782/782 [==============================] - 339s 434ms/step - loss: 0.7138 - acc: 0.7533 - val_loss: 0.5767 - val_acc: 0.7996\n",
            "Epoch 9/10\n",
            "782/782 [==============================] - 342s 437ms/step - loss: 0.6969 - acc: 0.7612 - val_loss: 0.7993 - val_acc: 0.7467\n",
            "Epoch 10/10\n",
            "782/782 [==============================] - 342s 438ms/step - loss: 0.6726 - acc: 0.7688 - val_loss: 0.7047 - val_acc: 0.7701\n",
            "313/313 [==============================] - 16s 51ms/step - loss: 0.7929 - acc: 0.7475\n",
            "loss = 0.7928503155708313\n",
            "accuracy = 0.7475000023841858\n"
          ]
        },
        {
          "output_type": "display_data",
          "data": {
            "text/plain": [
              "<Figure size 432x288 with 1 Axes>"
            ],
            "image/png": "[encoded data removed]"
          },
          "metadata": {
            "needs_background": "light"
          }
        }
      ]
    },
    {
      "cell_type": "code",
      "execution_count": 15,
      "metadata": {
        "id": "32ULru1HlDtF",
        "colab": {
          "base_uri": "https://localhost:8080/",
          "height": 713
        },
        "outputId": "56554df2-5b08-43b9-a801-96ef28a8196e"
      },
      "outputs": [
        {
          "output_type": "stream",
          "name": "stdout",
          "text": [
            "Epoch 1/10\n"
          ]
        },
        {
          "output_type": "stream",
          "name": "stderr",
          "text": [
            "/usr/local/lib/python3.7/dist-packages/keras/optimizer_v2/rmsprop.py:130: UserWarning: The `lr` argument is deprecated, use `learning_rate` instead.\n",
            "  super(RMSprop, self).__init__(name, **kwargs)\n"
          ]
        },
        {
          "output_type": "stream",
          "name": "stdout",
          "text": [
            "782/782 [==============================] - 451s 574ms/step - loss: 1.4239 - acc: 0.4922 - val_loss: 1.1306 - val_acc: 0.6021\n",
            "Epoch 2/10\n",
            "782/782 [==============================] - 447s 571ms/step - loss: 1.0104 - acc: 0.6428 - val_loss: 0.9050 - val_acc: 0.6802\n",
            "Epoch 3/10\n",
            "782/782 [==============================] - 447s 572ms/step - loss: 0.8702 - acc: 0.6948 - val_loss: 1.0529 - val_acc: 0.6468\n",
            "Epoch 4/10\n",
            "782/782 [==============================] - 445s 569ms/step - loss: 0.7818 - acc: 0.7265 - val_loss: 0.6800 - val_acc: 0.7651\n",
            "Epoch 5/10\n",
            "782/782 [==============================] - 449s 574ms/step - loss: 0.7320 - acc: 0.7451 - val_loss: 0.6378 - val_acc: 0.7797\n",
            "Epoch 6/10\n",
            "782/782 [==============================] - 446s 571ms/step - loss: 0.6830 - acc: 0.7652 - val_loss: 2.2084 - val_acc: 0.5078\n",
            "Epoch 7/10\n",
            "782/782 [==============================] - 448s 573ms/step - loss: 0.6569 - acc: 0.7755 - val_loss: 0.8436 - val_acc: 0.7407\n",
            "Epoch 8/10\n",
            "782/782 [==============================] - 449s 574ms/step - loss: 0.6211 - acc: 0.7860 - val_loss: 0.5928 - val_acc: 0.8105\n",
            "Epoch 9/10\n",
            "782/782 [==============================] - 446s 570ms/step - loss: 0.6007 - acc: 0.7936 - val_loss: 0.6160 - val_acc: 0.7917\n",
            "Epoch 10/10\n",
            "782/782 [==============================] - 445s 569ms/step - loss: 0.5752 - acc: 0.8031 - val_loss: 0.6625 - val_acc: 0.7845\n",
            "313/313 [==============================] - 21s 65ms/step - loss: 0.7547 - acc: 0.7662\n",
            "loss = 0.7546504139900208\n",
            "accuracy = 0.7662000060081482\n"
          ]
        },
        {
          "output_type": "display_data",
          "data": {
            "text/plain": [
              "<Figure size 432x288 with 1 Axes>"
            ],
            "image/png": "[encoded data removed]"
          },
          "metadata": {
            "needs_background": "light"
          }
        }
      ],
      "source": [
        "model = Sequential()\n",
        "model.add(Conv2D(32, (3, 3), padding='same', input_shape=(32, 32, 3)))\n",
        "model.add(BatchNormalization())\n",
        "model.add(Activation('relu'))\n",
        "model.add(Conv2D(32, (3, 3), padding='same'))\n",
        "model.add(BatchNormalization())\n",
        "model.add(Activation('relu'))\n",
        "model.add(MaxPooling2D((2, 2)))\n",
        "\n",
        "model.add(Conv2D(64, (3, 3), padding='same'))\n",
        "model.add(BatchNormalization())\n",
        "model.add(Activation('relu'))\n",
        "model.add(Conv2D(64, (3, 3), padding='same'))\n",
        "model.add(BatchNormalization())\n",
        "model.add(Activation('relu'))\n",
        "model.add(MaxPooling2D((2, 2)))\n",
        "\n",
        "model.add(Conv2D(128, (3, 3), padding='same'))\n",
        "model.add(BatchNormalization())\n",
        "model.add(Activation('relu'))\n",
        "model.add(Conv2D(128, (3, 3), padding='same'))\n",
        "model.add(BatchNormalization())\n",
        "model.add(Activation('relu'))\n",
        "model.add(MaxPooling2D((2, 2)))\n",
        "\n",
        "model.add(Flatten())\n",
        "model.add(Dropout(0.5))\n",
        "model.add(Dense(512))\n",
        "model.add(BatchNormalization())\n",
        "model.add(Activation('relu'))\n",
        "model.add(Dense(10))\n",
        "model.add(Activation('softmax'))\n",
        "\n",
        "model.compile(loss='categorical_crossentropy',\n",
        "              optimizer=optimizers.RMSprop(lr=learning_rate),\n",
        "              metrics=['acc'])\n",
        "\n",
        "history = model.fit(train_generator, epochs=10, validation_data=test_generator)\n",
        "\n",
        "\n",
        "loss_and_acc = model.evaluate(x_test, y_test_vec)\n",
        "print('loss = ' + str(loss_and_acc[0]))\n",
        "print('accuracy = ' + str(loss_and_acc[1]))\n",
        "\n",
        "acc = history.history['acc']\n",
        "val_acc = history.history['val_acc']\n",
        "\n",
        "epochs = range(len(acc))\n",
        "\n",
        "plt.plot(epochs, acc, 'bo', label='Training acc')\n",
        "plt.plot(epochs, val_acc, 'r', label='Validation acc')\n",
        "plt.xlabel('Epochs')\n",
        "plt.ylabel('Accuracy')\n",
        "plt.legend()\n",
        "plt.show()"
      ]
    }
  ],
  "metadata": {
    "kernelspec": {
      "display_name": "Python 3",
      "language": "python",
      "name": "python3"
    },
    "language_info": {
      "codemirror_mode": {
        "name": "ipython",
        "version": 3
      },
      "file_extension": ".py",
      "mimetype": "text/x-python",
      "name": "python",
      "nbconvert_exporter": "python",
      "pygments_lexer": "ipython3",
      "version": "3.9.2"
    },
    "colab": {
      "name": "Assignment2.ipynb",
      "provenance": [],
      "collapsed_sections": []
    }
  },
  "nbformat": 4,
  "nbformat_minor": 0
}