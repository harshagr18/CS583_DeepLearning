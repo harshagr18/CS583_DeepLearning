{
 "cells": [
  {
   "cell_type": "markdown",
   "metadata": {
    "id": "c-3SQ2WTvnvc"
   },
   "source": [
    "# Home 4: Build a CNN for image recognition.\n",
    "\n",
    "### Name: Tarquin Bennett\n"
   ]
  },
  {
   "cell_type": "markdown",
   "metadata": {
    "id": "MPJPbTpTvnvg"
   },
   "source": [
    "## 0. You will do the following:\n",
    "\n",
    "1. Read, complete, and run the code.\n",
    "\n",
    "2. **Make substantial improvements** to maximize the accurcy.\n",
    "    \n",
    "3. Convert the .IPYNB file to .HTML file.\n",
    "\n",
    "    * The HTML file must contain the code and the output after execution.\n",
    "    \n",
    "    * Missing **the output after execution** will not be graded.\n",
    "    \n",
    "4. Upload this .HTML file to your Google Drive, Dropbox, or Github repo. (If you submit the file to Google Drive or Dropbox, you must make the file \"open-access\". The delay caused by \"deny of access\" may result in late penalty.)\n",
    "\n",
    "4. Submit the link to this .HTML file to Canvas.\n",
    "\n",
    "    * Example: https://github.com/wangshusen/CS583-2020S/blob/master/homework/HM4/HM4.html\n",
    "\n",
    "\n",
    "## Requirements:\n",
    "\n",
    "1. You can use whatever CNN architecture, including VGG, Inception, and ResNet. However, you must build the networks layer by layer. You must NOT import the archetectures from ```keras.applications```.\n",
    "\n",
    "2. Make sure ```BatchNormalization``` is between a ```Conv```/```Dense``` layer and an ```activation``` layer.\n",
    "\n",
    "3. If you want to regularize a ```Conv```/```Dense``` layer, you should place a ```Dropout``` layer **before** the ```Conv```/```Dense``` layer.\n",
    "\n",
    "4. An accuracy above 70% is considered reasonable. An accuracy above 80% is considered good. Without data augmentation, achieving 80% accuracy is difficult.\n",
    "\n",
    "\n",
    "## Google Colab\n",
    "\n",
    "- If you do not have GPU, the training of a CNN can be slow. Google Colab is a good option.\n",
    "\n",
    "- Keep in mind that you must download it as an IPYNB file and then use IPython Notebook to convert it to HTML.\n",
    "\n",
    "- Also keep in mind that the IPYNB and HTML files must contain the outputs. (Otherwise, the instructor will not be able to know the correctness and performance.) Do the followings to keep the outputs.\n",
    "\n",
    "- In Colab, go to ```Runtime``` --> ```Change runtime type``` --> Do NOT check ```Omit code cell output when saving this notebook```. In this way, the downloaded IPYNB file contains the outputs."
   ]
  },
  {
   "cell_type": "markdown",
   "metadata": {
    "id": "JkPyaXryvnvh"
   },
   "source": [
    "## 1. Data preparation"
   ]
  },
  {
   "cell_type": "markdown",
   "metadata": {
    "id": "DPeeg7_gvnvh"
   },
   "source": [
    "### 1.1. Load data\n"
   ]
  },
  {
   "cell_type": "code",
   "execution_count": 1,
   "metadata": {
    "colab": {
     "base_uri": "https://localhost:8080/"
    },
    "id": "xgCIeSxBvnvi",
    "outputId": "8348f8fb-e02e-47b5-f5f2-449d3ea90e5d"
   },
   "outputs": [
    {
     "name": "stdout",
     "output_type": "stream",
     "text": [
      "INFO:tensorflow:Enabling eager execution\n",
      "INFO:tensorflow:Enabling v2 tensorshape\n",
      "INFO:tensorflow:Enabling resource variables\n",
      "INFO:tensorflow:Enabling tensor equality\n",
      "INFO:tensorflow:Enabling control flow v2\n",
      "Downloading data from https://www.cs.toronto.edu/~kriz/cifar-10-python.tar.gz\n",
      "170500096/170498071 [==============================] - 12s 0us/step\n",
      "170508288/170498071 [==============================] - 12s 0us/step\n",
      "shape of x_train: (50000, 32, 32, 3)\n",
      "shape of y_train: (50000, 1)\n",
      "shape of x_test: (10000, 32, 32, 3)\n",
      "shape of y_test: (10000, 1)\n",
      "number of classes: 10\n"
     ]
    }
   ],
   "source": [
    "from keras.datasets import cifar10\n",
    "import numpy\n",
    "\n",
    "(x_train, y_train), (x_test, y_test) = cifar10.load_data()\n",
    "\n",
    "print('shape of x_train: ' + str(x_train.shape))\n",
    "print('shape of y_train: ' + str(y_train.shape))\n",
    "print('shape of x_test: ' + str(x_test.shape))\n",
    "print('shape of y_test: ' + str(y_test.shape))\n",
    "print('number of classes: ' + str(numpy.max(y_train) - numpy.min(y_train) + 1))"
   ]
  },
  {
   "cell_type": "markdown",
   "metadata": {
    "id": "O7sMji_Lvnvi"
   },
   "source": [
    "### 1.2. One-hot encode the labels\n",
    "\n",
    "In the input, a label is a scalar in $\\{0, 1, \\cdots , 9\\}$. One-hot encode transform such a scalar to a $10$-dim vector. E.g., a scalar ```y_train[j]=3``` is transformed to the vector ```y_train_vec[j]=[0, 0, 0, 1, 0, 0, 0, 0, 0, 0]```.\n",
    "\n",
    "1. Define a function ```to_one_hot``` that transforms an $n\\times 1$ array to a $n\\times 10$ matrix.\n",
    "\n",
    "2. Apply the function to ```y_train``` and ```y_test```."
   ]
  },
  {
   "cell_type": "code",
   "execution_count": 2,
   "metadata": {
    "colab": {
     "base_uri": "https://localhost:8080/"
    },
    "id": "gY3hi81pvnvi",
    "outputId": "8caca89a-7a96-4514-82ad-98815b5166fe"
   },
   "outputs": [
    {
     "name": "stdout",
     "output_type": "stream",
     "text": [
      "Shape of y_train_vec: (50000, 10)\n",
      "Shape of y_test_vec: (10000, 10)\n",
      "[6]\n",
      "[0. 0. 0. 0. 0. 0. 1. 0. 0. 0.]\n"
     ]
    }
   ],
   "source": [
    "def to_one_hot(y, num_class=10):\n",
    "    y_vec = numpy.zeros((y.shape[0],10))\n",
    "    for i in range(len(y)):\n",
    "        y_vec[i][y[i]] = 1\n",
    "    return y_vec\n",
    "\n",
    "y_train_vec = to_one_hot(y_train)\n",
    "y_test_vec = to_one_hot(y_test)\n",
    "\n",
    "print('Shape of y_train_vec: ' + str(y_train_vec.shape))\n",
    "print('Shape of y_test_vec: ' + str(y_test_vec.shape))\n",
    "\n",
    "print(y_train[0])\n",
    "print(y_train_vec[0])"
   ]
  },
  {
   "cell_type": "markdown",
   "metadata": {
    "id": "I-Qob_e3vnvj"
   },
   "source": [
    "#### Remark: the outputs should be\n",
    "* Shape of y_train_vec: (50000, 10)\n",
    "* Shape of y_test_vec: (10000, 10)\n",
    "* [6]\n",
    "* [0. 0. 0. 0. 0. 0. 1. 0. 0. 0.]"
   ]
  },
  {
   "cell_type": "markdown",
   "metadata": {
    "id": "OPKCjsXqvnvj"
   },
   "source": [
    "### 1.3. Randomly partition the training set to training and validation sets\n",
    "\n",
    "Randomly partition the 50K training samples to 2 sets:\n",
    "* a training set containing 40K samples\n",
    "* a validation set containing 10K samples\n"
   ]
  },
  {
   "cell_type": "code",
   "execution_count": 3,
   "metadata": {
    "colab": {
     "base_uri": "https://localhost:8080/"
    },
    "id": "SVYvYWAIvnvj",
    "outputId": "67de85ea-0e0b-4f75-9c5c-99bf08d90f43"
   },
   "outputs": [
    {
     "name": "stdout",
     "output_type": "stream",
     "text": [
      "Shape of x_tr: (40000, 32, 32, 3)\n",
      "Shape of y_tr: (40000, 10)\n",
      "Shape of x_val: (10000, 32, 32, 3)\n",
      "Shape of y_val: (10000, 10)\n"
     ]
    }
   ],
   "source": [
    "rand_indices = numpy.random.permutation(50000)\n",
    "train_indices = rand_indices[0:40000]\n",
    "valid_indices = rand_indices[40000:50000]\n",
    "\n",
    "x_val = x_train[valid_indices, :]\n",
    "y_val = y_train_vec[valid_indices, :]\n",
    "\n",
    "x_tr = x_train[train_indices, :]\n",
    "y_tr = y_train_vec[train_indices, :]\n",
    "\n",
    "print('Shape of x_tr: ' + str(x_tr.shape))\n",
    "print('Shape of y_tr: ' + str(y_tr.shape))\n",
    "print('Shape of x_val: ' + str(x_val.shape))\n",
    "print('Shape of y_val: ' + str(y_val.shape))"
   ]
  },
  {
   "cell_type": "markdown",
   "metadata": {
    "id": "dRyN--Pavnvk"
   },
   "source": [
    "## 2. Build a CNN and tune its hyper-parameters\n",
    "\n",
    "1. Build a convolutional neural network model\n",
    "2. Use the validation data to tune the hyper-parameters (e.g., network structure, and optimization algorithm)\n",
    "    * Do NOT use test data for hyper-parameter tuning!!!\n",
    "3. Try to achieve a validation accuracy as high as possible."
   ]
  },
  {
   "cell_type": "markdown",
   "metadata": {
    "id": "2e05Nvf-vnvk"
   },
   "source": [
    "### Remark: \n",
    "\n",
    "The following CNN is just an example. You are supposed to make **substantial improvements** such as:\n",
    "* Add more layers.\n",
    "* Use regularizations, e.g., dropout.\n",
    "* Use batch normalization."
   ]
  },
  {
   "cell_type": "code",
   "execution_count": 15,
   "metadata": {
    "colab": {
     "base_uri": "https://localhost:8080/"
    },
    "id": "vO9vOxlyvnvk",
    "outputId": "af66b11b-ea84-47f5-a348-be7c1c4e04fa"
   },
   "outputs": [
    {
     "name": "stdout",
     "output_type": "stream",
     "text": [
      "Model: \"sequential_1\"\n",
      "_________________________________________________________________\n",
      "Layer (type)                 Output Shape              Param #   \n",
      "=================================================================\n",
      "conv2d_6 (Conv2D)            (None, 32, 32, 32)        896       \n",
      "_________________________________________________________________\n",
      "batch_normalization_7 (Batch (None, 32, 32, 32)        128       \n",
      "_________________________________________________________________\n",
      "activation_8 (Activation)    (None, 32, 32, 32)        0         \n",
      "_________________________________________________________________\n",
      "conv2d_7 (Conv2D)            (None, 32, 32, 32)        9248      \n",
      "_________________________________________________________________\n",
      "batch_normalization_8 (Batch (None, 32, 32, 32)        128       \n",
      "_________________________________________________________________\n",
      "activation_9 (Activation)    (None, 32, 32, 32)        0         \n",
      "_________________________________________________________________\n",
      "max_pooling2d_3 (MaxPooling2 (None, 16, 16, 32)        0         \n",
      "_________________________________________________________________\n",
      "conv2d_8 (Conv2D)            (None, 16, 16, 64)        18496     \n",
      "_________________________________________________________________\n",
      "batch_normalization_9 (Batch (None, 16, 16, 64)        256       \n",
      "_________________________________________________________________\n",
      "activation_10 (Activation)   (None, 16, 16, 64)        0         \n",
      "_________________________________________________________________\n",
      "conv2d_9 (Conv2D)            (None, 16, 16, 64)        36928     \n",
      "_________________________________________________________________\n",
      "batch_normalization_10 (Batc (None, 16, 16, 64)        256       \n",
      "_________________________________________________________________\n",
      "activation_11 (Activation)   (None, 16, 16, 64)        0         \n",
      "_________________________________________________________________\n",
      "max_pooling2d_4 (MaxPooling2 (None, 8, 8, 64)          0         \n",
      "_________________________________________________________________\n",
      "conv2d_10 (Conv2D)           (None, 8, 8, 128)         73856     \n",
      "_________________________________________________________________\n",
      "batch_normalization_11 (Batc (None, 8, 8, 128)         512       \n",
      "_________________________________________________________________\n",
      "activation_12 (Activation)   (None, 8, 8, 128)         0         \n",
      "_________________________________________________________________\n",
      "conv2d_11 (Conv2D)           (None, 8, 8, 128)         147584    \n",
      "_________________________________________________________________\n",
      "batch_normalization_12 (Batc (None, 8, 8, 128)         512       \n",
      "_________________________________________________________________\n",
      "activation_13 (Activation)   (None, 8, 8, 128)         0         \n",
      "_________________________________________________________________\n",
      "max_pooling2d_5 (MaxPooling2 (None, 4, 4, 128)         0         \n",
      "_________________________________________________________________\n",
      "flatten_1 (Flatten)          (None, 2048)              0         \n",
      "_________________________________________________________________\n",
      "dropout_1 (Dropout)          (None, 2048)              0         \n",
      "_________________________________________________________________\n",
      "dense_2 (Dense)              (None, 512)               1049088   \n",
      "_________________________________________________________________\n",
      "batch_normalization_13 (Batc (None, 512)               2048      \n",
      "_________________________________________________________________\n",
      "activation_14 (Activation)   (None, 512)               0         \n",
      "_________________________________________________________________\n",
      "dense_3 (Dense)              (None, 10)                5130      \n",
      "_________________________________________________________________\n",
      "activation_15 (Activation)   (None, 10)                0         \n",
      "=================================================================\n",
      "Total params: 1,345,066\n",
      "Trainable params: 1,343,146\n",
      "Non-trainable params: 1,920\n",
      "_________________________________________________________________\n"
     ]
    }
   ],
   "source": [
    "from keras.layers import Conv2D, MaxPooling2D, Flatten, Dense, Dropout, Activation, BatchNormalization\n",
    "from keras.models import Sequential\n",
    "\n",
    "model = Sequential()\n",
    "model.add(Conv2D(32, (3, 3), padding='same', input_shape=(32, 32, 3)))\n",
    "model.add(BatchNormalization())\n",
    "model.add(Activation('relu'))\n",
    "model.add(Conv2D(32, (3, 3), padding='same'))\n",
    "model.add(BatchNormalization())\n",
    "model.add(Activation('relu'))\n",
    "model.add(MaxPooling2D((2, 2)))\n",
    "\n",
    "model.add(Conv2D(64, (3, 3), padding='same'))\n",
    "model.add(BatchNormalization())\n",
    "model.add(Activation('relu'))\n",
    "model.add(Conv2D(64, (3, 3), padding='same'))\n",
    "model.add(BatchNormalization())\n",
    "model.add(Activation('relu'))\n",
    "model.add(MaxPooling2D((2, 2)))\n",
    "\n",
    "model.add(Conv2D(128, (3, 3), padding='same'))\n",
    "model.add(BatchNormalization())\n",
    "model.add(Activation('relu'))\n",
    "model.add(Conv2D(128, (3, 3), padding='same'))\n",
    "model.add(BatchNormalization())\n",
    "model.add(Activation('relu'))\n",
    "model.add(MaxPooling2D((2, 2)))\n",
    "\n",
    "model.add(Flatten())\n",
    "model.add(Dropout(0.5))\n",
    "model.add(Dense(512))\n",
    "model.add(BatchNormalization())\n",
    "model.add(Activation('relu'))\n",
    "model.add(Dense(10))\n",
    "model.add(Activation('softmax'))\n",
    "\n",
    "model.summary()"
   ]
  },
  {
   "cell_type": "code",
   "execution_count": 5,
   "metadata": {
    "id": "eSHRz7vUvnvk"
   },
   "outputs": [],
   "source": [
    "from keras import optimizers\n",
    "from keras.preprocessing.image import ImageDataGenerator\n",
    "\n",
    "train_datagen = ImageDataGenerator(\n",
    "    rotation_range=15,\n",
    "    width_shift_range=0.1,\n",
    "    height_shift_range=0.1,\n",
    "    shear_range=0.3,\n",
    "    zoom_range=0.1,\n",
    "    horizontal_flip=True)\n",
    "\n",
    "train_datagen.fit(x_tr)\n",
    "train_generator = train_datagen.flow(x_tr, y_tr, batch_size=64)\n",
    "test_generator = ImageDataGenerator().flow(x_val, y_val, batch_size=64)\n",
    "\n",
    "learning_rate = 0.001 # to be tuned!\n",
    "\n",
    "model.compile(loss='categorical_crossentropy',\n",
    "              optimizer=optimizers.RMSprop(lr=learning_rate),\n",
    "              metrics=['acc'])"
   ]
  },
  {
   "cell_type": "code",
   "execution_count": 6,
   "metadata": {
    "colab": {
     "base_uri": "https://localhost:8080/"
    },
    "id": "e6fyIqLMvnvk",
    "outputId": "12b39043-16b3-4699-8352-a41f76d37597"
   },
   "outputs": [
    {
     "name": "stdout",
     "output_type": "stream",
     "text": [
      "Epoch 1/50\n",
      "625/625 [==============================] - 58s 39ms/step - loss: 1.7236 - acc: 0.3924 - val_loss: 1.1458 - val_acc: 0.5903\n",
      "Epoch 2/50\n",
      "625/625 [==============================] - 24s 39ms/step - loss: 1.1135 - acc: 0.6068 - val_loss: 1.1064 - val_acc: 0.6518\n",
      "Epoch 3/50\n",
      "625/625 [==============================] - 24s 38ms/step - loss: 0.9299 - acc: 0.6753 - val_loss: 2.2095 - val_acc: 0.5255\n",
      "Epoch 4/50\n",
      "625/625 [==============================] - 23s 37ms/step - loss: 0.8303 - acc: 0.7055 - val_loss: 1.0552 - val_acc: 0.6865\n",
      "Epoch 5/50\n",
      "625/625 [==============================] - 24s 38ms/step - loss: 0.7624 - acc: 0.7297 - val_loss: 1.1256 - val_acc: 0.6631\n",
      "Epoch 6/50\n",
      "625/625 [==============================] - 23s 37ms/step - loss: 0.7119 - acc: 0.7520 - val_loss: 0.8385 - val_acc: 0.7267\n",
      "Epoch 7/50\n",
      "625/625 [==============================] - 23s 38ms/step - loss: 0.6947 - acc: 0.7634 - val_loss: 1.6071 - val_acc: 0.6182\n",
      "Epoch 8/50\n",
      "625/625 [==============================] - 23s 37ms/step - loss: 0.6446 - acc: 0.7770 - val_loss: 0.7144 - val_acc: 0.7650\n",
      "Epoch 9/50\n",
      "625/625 [==============================] - 23s 37ms/step - loss: 0.6324 - acc: 0.7844 - val_loss: 0.6207 - val_acc: 0.7957\n",
      "Epoch 10/50\n",
      "625/625 [==============================] - 23s 37ms/step - loss: 0.5934 - acc: 0.7965 - val_loss: 0.6584 - val_acc: 0.7918\n",
      "Epoch 11/50\n",
      "625/625 [==============================] - 24s 38ms/step - loss: 0.5863 - acc: 0.8021 - val_loss: 0.8155 - val_acc: 0.7544\n",
      "Epoch 12/50\n",
      "625/625 [==============================] - 24s 38ms/step - loss: 0.5637 - acc: 0.8088 - val_loss: 0.7785 - val_acc: 0.7662\n",
      "Epoch 13/50\n",
      "625/625 [==============================] - 24s 38ms/step - loss: 0.5484 - acc: 0.8140 - val_loss: 0.7278 - val_acc: 0.7762\n",
      "Epoch 14/50\n",
      "625/625 [==============================] - 24s 38ms/step - loss: 0.5352 - acc: 0.8187 - val_loss: 0.5487 - val_acc: 0.8174\n",
      "Epoch 15/50\n",
      "625/625 [==============================] - 24s 38ms/step - loss: 0.5229 - acc: 0.8236 - val_loss: 0.7403 - val_acc: 0.7917\n",
      "Epoch 16/50\n",
      "625/625 [==============================] - 24s 39ms/step - loss: 0.5115 - acc: 0.8280 - val_loss: 0.7024 - val_acc: 0.7817\n",
      "Epoch 17/50\n",
      "625/625 [==============================] - 24s 39ms/step - loss: 0.4994 - acc: 0.8299 - val_loss: 0.6005 - val_acc: 0.8256\n",
      "Epoch 18/50\n",
      "625/625 [==============================] - 24s 39ms/step - loss: 0.4845 - acc: 0.8366 - val_loss: 0.6356 - val_acc: 0.8076\n",
      "Epoch 19/50\n",
      "625/625 [==============================] - 24s 39ms/step - loss: 0.4847 - acc: 0.8361 - val_loss: 0.8678 - val_acc: 0.7785\n",
      "Epoch 20/50\n",
      "625/625 [==============================] - 24s 38ms/step - loss: 0.4654 - acc: 0.8432 - val_loss: 0.5893 - val_acc: 0.8277\n",
      "Epoch 21/50\n",
      "625/625 [==============================] - 24s 38ms/step - loss: 0.4615 - acc: 0.8439 - val_loss: 0.5368 - val_acc: 0.8296\n",
      "Epoch 22/50\n",
      "625/625 [==============================] - 24s 38ms/step - loss: 0.4520 - acc: 0.8478 - val_loss: 0.6137 - val_acc: 0.8071\n",
      "Epoch 23/50\n",
      "625/625 [==============================] - 24s 38ms/step - loss: 0.4404 - acc: 0.8529 - val_loss: 0.7503 - val_acc: 0.7998\n",
      "Epoch 24/50\n",
      "625/625 [==============================] - 24s 38ms/step - loss: 0.4389 - acc: 0.8507 - val_loss: 0.6755 - val_acc: 0.8124\n",
      "Epoch 25/50\n",
      "625/625 [==============================] - 23s 37ms/step - loss: 0.4453 - acc: 0.8523 - val_loss: 0.5133 - val_acc: 0.8331\n",
      "Epoch 26/50\n",
      "625/625 [==============================] - 24s 38ms/step - loss: 0.4182 - acc: 0.8612 - val_loss: 0.7352 - val_acc: 0.8024\n",
      "Epoch 27/50\n",
      "625/625 [==============================] - 24s 38ms/step - loss: 0.4265 - acc: 0.8551 - val_loss: 0.7326 - val_acc: 0.8085\n",
      "Epoch 28/50\n",
      "625/625 [==============================] - 24s 38ms/step - loss: 0.4154 - acc: 0.8599 - val_loss: 0.5517 - val_acc: 0.8480\n",
      "Epoch 29/50\n",
      "625/625 [==============================] - 24s 38ms/step - loss: 0.4096 - acc: 0.8629 - val_loss: 0.4831 - val_acc: 0.8542\n",
      "Epoch 30/50\n",
      "625/625 [==============================] - 24s 38ms/step - loss: 0.4007 - acc: 0.8647 - val_loss: 0.5445 - val_acc: 0.8317\n",
      "Epoch 31/50\n",
      "625/625 [==============================] - 24s 38ms/step - loss: 0.3969 - acc: 0.8662 - val_loss: 0.4844 - val_acc: 0.8435\n",
      "Epoch 32/50\n",
      "625/625 [==============================] - 24s 38ms/step - loss: 0.4083 - acc: 0.8631 - val_loss: 0.5229 - val_acc: 0.8299\n",
      "Epoch 33/50\n",
      "625/625 [==============================] - 24s 38ms/step - loss: 0.3864 - acc: 0.8694 - val_loss: 0.5561 - val_acc: 0.8407\n",
      "Epoch 34/50\n",
      "625/625 [==============================] - 24s 38ms/step - loss: 0.3927 - acc: 0.8661 - val_loss: 0.5159 - val_acc: 0.8601\n",
      "Epoch 35/50\n",
      "625/625 [==============================] - 24s 38ms/step - loss: 0.3831 - acc: 0.8709 - val_loss: 0.5251 - val_acc: 0.8446\n",
      "Epoch 36/50\n",
      "625/625 [==============================] - 24s 38ms/step - loss: 0.3714 - acc: 0.8717 - val_loss: 0.6253 - val_acc: 0.8223\n",
      "Epoch 37/50\n",
      "625/625 [==============================] - 24s 38ms/step - loss: 0.3801 - acc: 0.8734 - val_loss: 0.6055 - val_acc: 0.8254\n",
      "Epoch 38/50\n",
      "625/625 [==============================] - 24s 38ms/step - loss: 0.3768 - acc: 0.8716 - val_loss: 0.6194 - val_acc: 0.8344\n",
      "Epoch 39/50\n",
      "625/625 [==============================] - 24s 38ms/step - loss: 0.3637 - acc: 0.8796 - val_loss: 0.4718 - val_acc: 0.8640\n",
      "Epoch 40/50\n",
      "625/625 [==============================] - 23s 37ms/step - loss: 0.3635 - acc: 0.8775 - val_loss: 0.5490 - val_acc: 0.8485\n",
      "Epoch 41/50\n",
      "625/625 [==============================] - 24s 38ms/step - loss: 0.3609 - acc: 0.8780 - val_loss: 0.4440 - val_acc: 0.8644\n",
      "Epoch 42/50\n",
      "625/625 [==============================] - 24s 38ms/step - loss: 0.3602 - acc: 0.8755 - val_loss: 0.5546 - val_acc: 0.8454\n",
      "Epoch 43/50\n",
      "625/625 [==============================] - 24s 38ms/step - loss: 0.3543 - acc: 0.8800 - val_loss: 0.4603 - val_acc: 0.8552\n",
      "Epoch 44/50\n",
      "625/625 [==============================] - 24s 39ms/step - loss: 0.3428 - acc: 0.8838 - val_loss: 0.5295 - val_acc: 0.8494\n",
      "Epoch 45/50\n",
      "625/625 [==============================] - 24s 39ms/step - loss: 0.3441 - acc: 0.8842 - val_loss: 0.4990 - val_acc: 0.8563\n",
      "Epoch 46/50\n",
      "625/625 [==============================] - 25s 39ms/step - loss: 0.3519 - acc: 0.8804 - val_loss: 0.4693 - val_acc: 0.8567\n",
      "Epoch 47/50\n",
      "625/625 [==============================] - 25s 39ms/step - loss: 0.3425 - acc: 0.8843 - val_loss: 0.5416 - val_acc: 0.8579\n",
      "Epoch 48/50\n",
      "625/625 [==============================] - 24s 39ms/step - loss: 0.3362 - acc: 0.8866 - val_loss: 0.4743 - val_acc: 0.8456\n",
      "Epoch 49/50\n",
      "625/625 [==============================] - 24s 39ms/step - loss: 0.3327 - acc: 0.8868 - val_loss: 0.5578 - val_acc: 0.8428\n",
      "Epoch 50/50\n",
      "625/625 [==============================] - 24s 39ms/step - loss: 0.3292 - acc: 0.8884 - val_loss: 0.3991 - val_acc: 0.8737\n"
     ]
    }
   ],
   "source": [
    "history = model.fit(train_generator, epochs=, validation_data=test_generator)"
   ]
  },
  {
   "cell_type": "code",
   "execution_count": 7,
   "metadata": {
    "colab": {
     "base_uri": "https://localhost:8080/",
     "height": 281
    },
    "id": "XX5ic_Mdvnvl",
    "outputId": "08cfb4e1-ea6d-4bea-c44c-1c2daa592382"
   },
   "outputs": [
    {
     "data": {
      "image/png": "[encoded data removed]",
      "text/plain": [
       "<Figure size 432x288 with 1 Axes>"
      ]
     },
     "metadata": {
      "needs_background": "light",
      "tags": []
     },
     "output_type": "display_data"
    }
   ],
   "source": [
    "import matplotlib.pyplot as plt\n",
    "%matplotlib inline\n",
    "\n",
    "acc = history.history['acc']\n",
    "val_acc = history.history['val_acc']\n",
    "\n",
    "epochs = range(len(acc))\n",
    "\n",
    "plt.plot(epochs, acc, 'bo', label='Training acc')\n",
    "plt.plot(epochs, val_acc, 'r', label='Validation acc')\n",
    "plt.xlabel('Epochs')\n",
    "plt.ylabel('Accuracy')\n",
    "plt.legend()\n",
    "plt.show()"
   ]
  },
  {
   "cell_type": "markdown",
   "metadata": {
    "id": "GUNnnH3Tvnvl"
   },
   "source": [
    "## 3. Train (again) and evaluate the model\n",
    "\n",
    "- To this end, you have found the \"best\" hyper-parameters. \n",
    "- Now, fix the hyper-parameters and train the network on the entire training set (all the 50K training samples)\n",
    "- Evaluate your model on the test set."
   ]
  },
  {
   "cell_type": "markdown",
   "metadata": {
    "id": "hOKWUPX7vnvl"
   },
   "source": [
    "### 3.1. Train the model on the entire training set\n",
    "\n",
    "Why? Previously, you used 40K samples for training; you wasted 10K samples for the sake of hyper-parameter tuning. Now you already know the hyper-parameters, so why not using all the 50K samples for training?"
   ]
  },
  {
   "cell_type": "code",
   "execution_count": 16,
   "metadata": {
    "id": "bqzmGV62vnvm"
   },
   "outputs": [],
   "source": [
    "train_datagen = ImageDataGenerator(\n",
    "    rotation_range=15,\n",
    "    width_shift_range=0.1,\n",
    "    height_shift_range=0.1,\n",
    "    shear_range=0.3,\n",
    "    zoom_range=0.1,\n",
    "    horizontal_flip=True)\n",
    "\n",
    "train_datagen.fit(x_tr)\n",
    "train_generator = train_datagen.flow(x_train, y_train_vec, batch_size=64)\n",
    "\n",
    "learning_rate = 0.001 # to be tuned!\n",
    "\n",
    "model.compile(loss='categorical_crossentropy',\n",
    "              optimizer=optimizers.RMSprop(lr=learning_rate),\n",
    "              metrics=['acc'])"
   ]
  },
  {
   "cell_type": "code",
   "execution_count": 17,
   "metadata": {
    "colab": {
     "base_uri": "https://localhost:8080/"
    },
    "id": "NK3fIh6gvnvm",
    "outputId": "917bd5ff-b260-461f-bbde-4564e9c7a355"
   },
   "outputs": [
    {
     "name": "stdout",
     "output_type": "stream",
     "text": [
      "Epoch 1/50\n",
      "782/782 [==============================] - 30s 37ms/step - loss: 1.6912 - acc: 0.4086\n",
      "Epoch 2/50\n",
      "782/782 [==============================] - 29s 37ms/step - loss: 1.0118 - acc: 0.6358\n",
      "Epoch 3/50\n",
      "782/782 [==============================] - 28s 36ms/step - loss: 0.8713 - acc: 0.6932\n",
      "Epoch 4/50\n",
      "782/782 [==============================] - 28s 36ms/step - loss: 0.7868 - acc: 0.7267\n",
      "Epoch 5/50\n",
      "782/782 [==============================] - 29s 37ms/step - loss: 0.7217 - acc: 0.7496\n",
      "Epoch 6/50\n",
      "782/782 [==============================] - 30s 38ms/step - loss: 0.6723 - acc: 0.7678\n",
      "Epoch 7/50\n",
      "782/782 [==============================] - 29s 37ms/step - loss: 0.6445 - acc: 0.7784\n",
      "Epoch 8/50\n",
      "782/782 [==============================] - 29s 37ms/step - loss: 0.6189 - acc: 0.7898\n",
      "Epoch 9/50\n",
      "782/782 [==============================] - 29s 37ms/step - loss: 0.5981 - acc: 0.7959\n",
      "Epoch 10/50\n",
      "782/782 [==============================] - 29s 37ms/step - loss: 0.5708 - acc: 0.8049\n",
      "Epoch 11/50\n",
      "782/782 [==============================] - 29s 37ms/step - loss: 0.5573 - acc: 0.8106\n",
      "Epoch 12/50\n",
      "782/782 [==============================] - 29s 37ms/step - loss: 0.5373 - acc: 0.8171\n",
      "Epoch 13/50\n",
      "782/782 [==============================] - 29s 37ms/step - loss: 0.5174 - acc: 0.8232\n",
      "Epoch 14/50\n",
      "782/782 [==============================] - 29s 37ms/step - loss: 0.5093 - acc: 0.8262\n",
      "Epoch 15/50\n",
      "782/782 [==============================] - 29s 37ms/step - loss: 0.4972 - acc: 0.8326\n",
      "Epoch 16/50\n",
      "782/782 [==============================] - 29s 38ms/step - loss: 0.4871 - acc: 0.8356\n",
      "Epoch 17/50\n",
      "782/782 [==============================] - 29s 37ms/step - loss: 0.4779 - acc: 0.8389\n",
      "Epoch 18/50\n",
      "782/782 [==============================] - 29s 37ms/step - loss: 0.4688 - acc: 0.8413\n",
      "Epoch 19/50\n",
      "782/782 [==============================] - 29s 37ms/step - loss: 0.4581 - acc: 0.8441\n",
      "Epoch 20/50\n",
      "782/782 [==============================] - 29s 36ms/step - loss: 0.4540 - acc: 0.8494\n",
      "Epoch 21/50\n",
      "782/782 [==============================] - 29s 36ms/step - loss: 0.4429 - acc: 0.8524\n",
      "Epoch 22/50\n",
      "782/782 [==============================] - 29s 36ms/step - loss: 0.4318 - acc: 0.8541\n",
      "Epoch 23/50\n",
      "782/782 [==============================] - 28s 36ms/step - loss: 0.4295 - acc: 0.8559\n",
      "Epoch 24/50\n",
      "782/782 [==============================] - 29s 37ms/step - loss: 0.4128 - acc: 0.8601\n",
      "Epoch 25/50\n",
      "782/782 [==============================] - 29s 36ms/step - loss: 0.4147 - acc: 0.8597\n",
      "Epoch 26/50\n",
      "782/782 [==============================] - 29s 37ms/step - loss: 0.4111 - acc: 0.8606\n",
      "Epoch 27/50\n",
      "782/782 [==============================] - 29s 37ms/step - loss: 0.4072 - acc: 0.8607\n",
      "Epoch 28/50\n",
      "782/782 [==============================] - 28s 36ms/step - loss: 0.3903 - acc: 0.8690\n",
      "Epoch 29/50\n",
      "782/782 [==============================] - 28s 36ms/step - loss: 0.3953 - acc: 0.8639\n",
      "Epoch 30/50\n",
      "782/782 [==============================] - 29s 36ms/step - loss: 0.3913 - acc: 0.8670\n",
      "Epoch 31/50\n",
      "782/782 [==============================] - 29s 37ms/step - loss: 0.3784 - acc: 0.8712\n",
      "Epoch 32/50\n",
      "782/782 [==============================] - 28s 36ms/step - loss: 0.3745 - acc: 0.8739\n",
      "Epoch 33/50\n",
      "782/782 [==============================] - 28s 36ms/step - loss: 0.3832 - acc: 0.8697\n",
      "Epoch 34/50\n",
      "782/782 [==============================] - 28s 36ms/step - loss: 0.3666 - acc: 0.8737\n",
      "Epoch 35/50\n",
      "782/782 [==============================] - 29s 37ms/step - loss: 0.3689 - acc: 0.8745\n",
      "Epoch 36/50\n",
      "782/782 [==============================] - 29s 36ms/step - loss: 0.3631 - acc: 0.8806\n",
      "Epoch 37/50\n",
      "782/782 [==============================] - 28s 36ms/step - loss: 0.3553 - acc: 0.8790\n",
      "Epoch 38/50\n",
      "782/782 [==============================] - 29s 37ms/step - loss: 0.3496 - acc: 0.8824\n",
      "Epoch 39/50\n",
      "782/782 [==============================] - 29s 37ms/step - loss: 0.3449 - acc: 0.8822\n",
      "Epoch 40/50\n",
      "782/782 [==============================] - 29s 37ms/step - loss: 0.3507 - acc: 0.8821\n",
      "Epoch 41/50\n",
      "782/782 [==============================] - 29s 37ms/step - loss: 0.3485 - acc: 0.8820\n",
      "Epoch 42/50\n",
      "782/782 [==============================] - 29s 37ms/step - loss: 0.3459 - acc: 0.8833\n",
      "Epoch 43/50\n",
      "782/782 [==============================] - 29s 37ms/step - loss: 0.3391 - acc: 0.8852\n",
      "Epoch 44/50\n",
      "782/782 [==============================] - 29s 37ms/step - loss: 0.3365 - acc: 0.8868\n",
      "Epoch 45/50\n",
      "782/782 [==============================] - 29s 37ms/step - loss: 0.3357 - acc: 0.8872\n",
      "Epoch 46/50\n",
      "782/782 [==============================] - 29s 37ms/step - loss: 0.3262 - acc: 0.8893\n",
      "Epoch 47/50\n",
      "782/782 [==============================] - 29s 37ms/step - loss: 0.3308 - acc: 0.8872\n",
      "Epoch 48/50\n",
      "782/782 [==============================] - 29s 37ms/step - loss: 0.3311 - acc: 0.8899\n",
      "Epoch 49/50\n",
      "782/782 [==============================] - 29s 37ms/step - loss: 0.3217 - acc: 0.8932\n",
      "Epoch 50/50\n",
      "782/782 [==============================] - 29s 37ms/step - loss: 0.3270 - acc: 0.8896\n"
     ]
    }
   ],
   "source": [
    "history = model.fit(train_generator, epochs=50)"
   ]
  },
  {
   "cell_type": "markdown",
   "metadata": {
    "id": "SjgbZFtXvnvm"
   },
   "source": [
    "### 3.2. Evaluate the model on the test set\n",
    "\n",
    "Do NOT used the test set until now. Make sure that your model parameters and hyper-parameters are independent of the test set."
   ]
  },
  {
   "cell_type": "code",
   "execution_count": 18,
   "metadata": {
    "colab": {
     "base_uri": "https://localhost:8080/"
    },
    "id": "0Il0VuyAvnvm",
    "outputId": "5cdaad17-b43b-479b-c1fd-d3a2ee6cab0c"
   },
   "outputs": [
    {
     "name": "stdout",
     "output_type": "stream",
     "text": [
      "313/313 [==============================] - 1s 3ms/step - loss: 0.4155 - acc: 0.8736\n",
      "loss = 0.41546380519866943\n",
      "accuracy = 0.8736000061035156\n"
     ]
    }
   ],
   "source": [
    "loss_and_acc = model.evaluate(x_test, y_test_vec)\n",
    "print('loss = ' + str(loss_and_acc[0]))\n",
    "print('accuracy = ' + str(loss_and_acc[1]))"
   ]
  },
  {
   "cell_type": "code",
   "execution_count": null,
   "metadata": {
    "id": "27sPxW53vnvm"
   },
   "outputs": [],
   "source": []
  }
 ],
 "metadata": {
  "accelerator": "GPU",
  "colab": {
   "collapsed_sections": [],
   "name": "HM4.ipynb",
   "provenance": []
  },
  "kernelspec": {
   "display_name": "Python 3",
   "language": "python",
   "name": "python3"
  },
  "language_info": {
   "codemirror_mode": {
    "name": "ipython",
    "version": 3
   },
   "file_extension": ".py",
   "mimetype": "text/x-python",
   "name": "python",
   "nbconvert_exporter": "python",
   "pygments_lexer": "ipython3",
   "version": "3.9.2"
  }
 },
 "nbformat": 4,
 "nbformat_minor": 1
}
