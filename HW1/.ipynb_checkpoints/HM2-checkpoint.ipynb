{
 "cells": [
  {
   "cell_type": "markdown",
   "metadata": {},
   "source": [
    "# HM2: Numerical Optimization for Logistic Regression.\n",
    "\n",
    "### Name: Tarquin Bennett\n"
   ]
  },
  {
   "cell_type": "markdown",
   "metadata": {},
   "source": [
    "## 0. You will do the following:\n",
    "\n",
    "1. Read the lecture note: [click here](https://github.com/wangshusen/DeepLearning/blob/master/LectureNotes/Logistic/paper/logistic.pdf)\n",
    "\n",
    "2. Read, complete, and run my code.\n",
    "\n",
    "3. **Implement mini-batch SGD** and evaluate the performance.\n",
    "\n",
    "4. Convert the .IPYNB file to .HTML file.\n",
    "\n",
    "    * The HTML file must contain **the code** and **the output after execution**.\n",
    "    \n",
    "    * Missing **the output after execution** will not be graded.\n",
    "    \n",
    "5. Upload this .HTML file to your Google Drive, Dropbox, or your Github repo.  (If you submit the file to Google Drive or Dropbox, you must make the file \"open-access\". The delay caused by \"deny of access\" may result in late penalty.)\n",
    "\n",
    "6. Submit the link to this .HTML file to Canvas.\n",
    "\n",
    "    * Example: https://github.com/wangshusen/CS583-2020S/blob/master/homework/HM2/HM2.html\n",
    "\n",
    "\n",
    "## Grading criteria:\n",
    "\n",
    "1. When computing the ```gradient``` and ```objective function value``` using a batch of samples, use **matrix-vector multiplication** rather than a FOR LOOP of **vector-vector multiplications**.\n",
    "\n",
    "2. Plot ```objective function value``` against ```epochs```. In the plot, compare GD, SGD, and MB-SGD (with $b=8$ and $b=64$). The plot must look reasonable."
   ]
  },
  {
   "cell_type": "code",
   "execution_count": null,
   "metadata": {},
   "outputs": [],
   "source": []
  },
  {
   "cell_type": "markdown",
   "metadata": {},
   "source": [
    "# 1. Data processing\n",
    "\n",
    "- Download the Diabete dataset from https://www.csie.ntu.edu.tw/~cjlin/libsvmtools/datasets/binary/diabetes\n",
    "- Load the data using sklearn.\n",
    "- Preprocess the data."
   ]
  },
  {
   "cell_type": "markdown",
   "metadata": {},
   "source": [
    "## 1.1. Load the data"
   ]
  },
  {
   "cell_type": "code",
   "execution_count": 1,
   "metadata": {},
   "outputs": [
    {
     "name": "stdout",
     "output_type": "stream",
     "text": [
      "Shape of x: (768, 8)\n",
      "Shape of y: (768,)\n"
     ]
    }
   ],
   "source": [
    "from sklearn import datasets\n",
    "import numpy\n",
    "\n",
    "x_sparse, y = datasets.load_svmlight_file('diabetes')\n",
    "x = x_sparse.todense()\n",
    "\n",
    "print('Shape of x: ' + str(x.shape))\n",
    "print('Shape of y: ' + str(y.shape))"
   ]
  },
  {
   "cell_type": "markdown",
   "metadata": {},
   "source": [
    "## 1.2. Partition to training and test sets"
   ]
  },
  {
   "cell_type": "code",
   "execution_count": 2,
   "metadata": {},
   "outputs": [
    {
     "name": "stdout",
     "output_type": "stream",
     "text": [
      "Shape of x_train: (640, 8)\n",
      "Shape of x_test: (128, 8)\n",
      "Shape of y_train: (640, 1)\n",
      "Shape of y_test: (128, 1)\n"
     ]
    }
   ],
   "source": [
    "# partition the data to training and test sets\n",
    "n = x.shape[0]\n",
    "n_train = 640\n",
    "n_test = n - n_train\n",
    "\n",
    "rand_indices = numpy.random.permutation(n)\n",
    "train_indices = rand_indices[0:n_train]\n",
    "test_indices = rand_indices[n_train:n]\n",
    "\n",
    "x_train = x[train_indices, :]\n",
    "x_test = x[test_indices, :]\n",
    "y_train = y[train_indices].reshape(n_train, 1)\n",
    "y_test = y[test_indices].reshape(n_test, 1)\n",
    "\n",
    "print('Shape of x_train: ' + str(x_train.shape))\n",
    "print('Shape of x_test: ' + str(x_test.shape))\n",
    "print('Shape of y_train: ' + str(y_train.shape))\n",
    "print('Shape of y_test: ' + str(y_test.shape))"
   ]
  },
  {
   "cell_type": "markdown",
   "metadata": {},
   "source": [
    "## 1.3. Feature scaling"
   ]
  },
  {
   "cell_type": "markdown",
   "metadata": {},
   "source": [
    "Use the standardization to trainsform both training and test features"
   ]
  },
  {
   "cell_type": "code",
   "execution_count": 3,
   "metadata": {},
   "outputs": [
    {
     "name": "stdout",
     "output_type": "stream",
     "text": [
      "test mean = \n",
      "[[ 0.07840986  0.07172219  0.11358755 -0.10697716 -0.00155066 -0.19406492\n",
      "   0.05853855 -0.03633601]]\n",
      "test std = \n",
      "[[1.06687534 0.99645124 0.91200924 0.96999801 0.90829771 1.08087202\n",
      "  0.84899961 0.96189124]]\n"
     ]
    }
   ],
   "source": [
    "# Standardization\n",
    "import numpy\n",
    "\n",
    "# calculate mu and sig using the training set\n",
    "d = x_train.shape[1]\n",
    "mu = numpy.mean(x_train, axis=0).reshape(1, d)\n",
    "sig = numpy.std(x_train, axis=0).reshape(1, d)\n",
    "\n",
    "# transform the training features\n",
    "x_train = (x_train - mu) / (sig + 1E-6)\n",
    "\n",
    "# transform the test features\n",
    "x_test = (x_test - mu) / (sig + 1E-6)\n",
    "\n",
    "print('test mean = ')\n",
    "print(numpy.mean(x_test, axis=0))\n",
    "\n",
    "print('test std = ')\n",
    "print(numpy.std(x_test, axis=0))"
   ]
  },
  {
   "cell_type": "markdown",
   "metadata": {},
   "source": [
    "## 1.4. Add a dimension of all ones"
   ]
  },
  {
   "cell_type": "code",
   "execution_count": 4,
   "metadata": {},
   "outputs": [
    {
     "name": "stdout",
     "output_type": "stream",
     "text": [
      "Shape of x_train: (640, 9)\n",
      "Shape of x_test: (128, 9)\n"
     ]
    }
   ],
   "source": [
    "n_train, d = x_train.shape\n",
    "x_train = numpy.concatenate((x_train, numpy.ones((n_train, 1))), axis=1)\n",
    "\n",
    "n_test, d = x_test.shape\n",
    "x_test = numpy.concatenate((x_test, numpy.ones((n_test, 1))), axis=1)\n",
    "\n",
    "print('Shape of x_train: ' + str(x_train.shape))\n",
    "print('Shape of x_test: ' + str(x_test.shape))"
   ]
  },
  {
   "cell_type": "markdown",
   "metadata": {},
   "source": [
    "# 2. Logistic regression model\n",
    "\n",
    "The objective function is $Q (w; X, y) = \\frac{1}{n} \\sum_{i=1}^n \\log \\Big( 1 + \\exp \\big( - y_i x_i^T w \\big) \\Big) + \\frac{\\lambda}{2} \\| w \\|_2^2 $."
   ]
  },
  {
   "cell_type": "code",
   "execution_count": 5,
   "metadata": {},
   "outputs": [],
   "source": [
    "# Calculate the objective function value\n",
    "# Inputs:\n",
    "#     w: d-by-1 matrix\n",
    "#     x: n-by-d matrix\n",
    "#     y: n-by-1 matrix\n",
    "#     lam: scalar, the regularization parameter\n",
    "# Return:\n",
    "#     objective function value (scalar)\n",
    "def objective(w, x, y, lam):\n",
    "    n, d = x.shape\n",
    "    yx = numpy.multiply(y, x) # n-by-d matrix\n",
    "    yxw = numpy.dot(yx, w) # n-by-1 matrix\n",
    "    vec1 = numpy.exp(-yxw) # n-by-1 matrix\n",
    "    vec2 = numpy.log(1 + vec1) # n-by-1 matrix\n",
    "    loss = numpy.mean(vec2) # scalar\n",
    "    reg = lam / 2 * numpy.sum(w * w) # scalar\n",
    "    return loss + reg\n",
    "    "
   ]
  },
  {
   "cell_type": "code",
   "execution_count": 6,
   "metadata": {},
   "outputs": [
    {
     "name": "stdout",
     "output_type": "stream",
     "text": [
      "Initial objective function value = 0.6931471805599453\n"
     ]
    }
   ],
   "source": [
    "# initialize w\n",
    "d = x_train.shape[1]\n",
    "w = numpy.zeros((d, 1))\n",
    "\n",
    "# evaluate the objective function value at w\n",
    "lam = 1E-6\n",
    "objval0 = objective(w, x_train, y_train, lam)\n",
    "print('Initial objective function value = ' + str(objval0))"
   ]
  },
  {
   "cell_type": "markdown",
   "metadata": {},
   "source": [
    "# 3. Numerical optimization"
   ]
  },
  {
   "cell_type": "markdown",
   "metadata": {},
   "source": [
    "## 3.1. Gradient descent\n"
   ]
  },
  {
   "cell_type": "markdown",
   "metadata": {},
   "source": [
    "The gradient at $w$ is $g = - \\frac{1}{n} \\sum_{i=1}^n \\frac{y_i x_i }{1 + \\exp ( y_i x_i^T w)} + \\lambda w$"
   ]
  },
  {
   "cell_type": "code",
   "execution_count": 7,
   "metadata": {},
   "outputs": [],
   "source": [
    "# Calculate the gradient\n",
    "# Inputs:\n",
    "#     w: d-by-1 matrix\n",
    "#     x: n-by-d matrix\n",
    "#     y: n-by-1 matrix\n",
    "#     lam: scalar, the regularization parameter\n",
    "# Return:\n",
    "#     g: g: d-by-1 matrix, full gradient\n",
    "def gradient(w, x, y, lam):\n",
    "    n, d = x.shape\n",
    "    yx = numpy.multiply(y, x) # n-by-d matrix\n",
    "    yxw = numpy.dot(yx, w) # n-by-1 matrix\n",
    "    vec1 = numpy.exp(yxw) # n-by-1 matrix\n",
    "    vec2 = numpy.divide(yx, 1+vec1) # n-by-d matrix\n",
    "    vec3 = -numpy.mean(vec2, axis=0).reshape(d, 1) # d-by-1 matrix\n",
    "    g = vec3 + lam * w\n",
    "    return g"
   ]
  },
  {
   "cell_type": "code",
   "execution_count": 8,
   "metadata": {},
   "outputs": [],
   "source": [
    "# Gradient descent for solving logistic regression\n",
    "# Inputs:\n",
    "#     x: n-by-d matrix\n",
    "#     y: n-by-1 matrix\n",
    "#     lam: scalar, the regularization parameter\n",
    "#     stepsize: scalar\n",
    "#     max_iter: integer, the maximal iterations\n",
    "#     w: d-by-1 matrix, initialization of w\n",
    "# Return:\n",
    "#     w: d-by-1 matrix, the solution\n",
    "#     objvals: a record of each iteration's objective value\n",
    "def grad_descent(x, y, lam, stepsize, max_iter=100, w=None):\n",
    "    n, d = x.shape\n",
    "    objvals = numpy.zeros(max_iter) # store the objective values\n",
    "    if w is None:\n",
    "        w = numpy.zeros((d, 1)) # zero initialization\n",
    "    \n",
    "    for t in range(max_iter):\n",
    "        objval = objective(w, x, y, lam)\n",
    "        objvals[t] = objval\n",
    "        print('Objective value at t=' + str(t) + ' is ' + str(objval))\n",
    "        g = gradient(w, x, y, lam)\n",
    "        w -= stepsize * g\n",
    "    \n",
    "    return w, objvals"
   ]
  },
  {
   "cell_type": "markdown",
   "metadata": {},
   "source": [
    "Run gradient descent."
   ]
  },
  {
   "cell_type": "code",
   "execution_count": 9,
   "metadata": {},
   "outputs": [
    {
     "name": "stdout",
     "output_type": "stream",
     "text": [
      "Objective value at t=0 is 0.6931471805599453\n",
      "Objective value at t=1 is 0.5913376202165356\n",
      "Objective value at t=2 is 0.548678194429868\n",
      "Objective value at t=3 is 0.5254233201302421\n",
      "Objective value at t=4 is 0.510845932228309\n",
      "Objective value at t=5 is 0.5009769810056977\n",
      "Objective value at t=6 is 0.49396949579132604\n",
      "Objective value at t=7 is 0.48882921484478986\n",
      "Objective value at t=8 is 0.4849671964992009\n",
      "Objective value at t=9 is 0.48201103155271874\n",
      "Objective value at t=10 is 0.479713964375471\n",
      "Objective value at t=11 is 0.47790665653997977\n",
      "Objective value at t=12 is 0.47646964859158736\n",
      "Objective value at t=13 is 0.47531674963544696\n",
      "Objective value at t=14 is 0.4743845846029812\n",
      "Objective value at t=15 is 0.4736257917021115\n",
      "Objective value at t=16 is 0.4730044720333524\n",
      "Objective value at t=17 is 0.4724930744685885\n",
      "Objective value at t=18 is 0.4720702200544959\n",
      "Objective value at t=19 is 0.4717191556239906\n",
      "Objective value at t=20 is 0.47142663724815237\n",
      "Objective value at t=21 is 0.4711821125512371\n",
      "Objective value at t=22 is 0.4709771141420841\n",
      "Objective value at t=23 is 0.4708048043428326\n",
      "Objective value at t=24 is 0.4706596297863372\n",
      "Objective value at t=25 is 0.4705370567734249\n",
      "Objective value at t=26 is 0.4704333666636891\n",
      "Objective value at t=27 is 0.47034549635925044\n",
      "Objective value at t=28 is 0.4702709129874713\n",
      "Objective value at t=29 is 0.47020751475384137\n",
      "Objective value at t=30 is 0.47015355198849823\n",
      "Objective value at t=31 is 0.4701075638957471\n",
      "Objective value at t=32 is 0.47006832760273887\n",
      "Objective value at t=33 is 0.4700348169059905\n",
      "Objective value at t=34 is 0.4700061687123876\n",
      "Objective value at t=35 is 0.4699816556206416\n",
      "Objective value at t=36 is 0.4699606634295408\n",
      "Objective value at t=37 is 0.4699426726191073\n",
      "Objective value at t=38 is 0.46992724305047273\n",
      "Objective value at t=39 is 0.4699140012848214\n",
      "Objective value at t=40 is 0.46990263004212485\n",
      "Objective value at t=41 is 0.46989285941470443\n",
      "Objective value at t=42 is 0.4698844595249834\n",
      "Objective value at t=43 is 0.46987723437567974\n",
      "Objective value at t=44 is 0.46987101668758025\n",
      "Objective value at t=45 is 0.46986566355756276\n",
      "Objective value at t=46 is 0.46986105279969004\n",
      "Objective value at t=47 is 0.46985707985654845\n",
      "Objective value at t=48 is 0.4698536551877374\n",
      "Objective value at t=49 is 0.4698507020584703\n",
      "Objective value at t=50 is 0.4698481546643618\n",
      "Objective value at t=51 is 0.4698459565392143\n",
      "Objective value at t=52 is 0.46984405920144756\n",
      "Objective value at t=53 is 0.46984242100209916\n",
      "Objective value at t=54 is 0.46984100614333485\n",
      "Objective value at t=55 is 0.46983978384140485\n",
      "Objective value at t=56 is 0.4698387276121264\n",
      "Objective value at t=57 is 0.46983781466042784\n",
      "Objective value at t=58 is 0.4698370253583754\n",
      "Objective value at t=59 is 0.4698363427985185\n",
      "Objective value at t=60 is 0.46983575241141196\n",
      "Objective value at t=61 is 0.46983524163787393\n",
      "Objective value at t=62 is 0.4698347996479703\n",
      "Objective value at t=63 is 0.46983441709991985\n",
      "Objective value at t=64 is 0.46983408593313414\n",
      "Objective value at t=65 is 0.46983379919046486\n",
      "Objective value at t=66 is 0.4698335508654611\n",
      "Objective value at t=67 is 0.4698333357710566\n",
      "Objective value at t=68 is 0.4698331494266283\n",
      "Objective value at t=69 is 0.46983298796081613\n",
      "Objective value at t=70 is 0.469832848027872\n",
      "Objective value at t=71 is 0.4698327267356237\n",
      "Objective value at t=72 is 0.469832621583423\n",
      "Objective value at t=73 is 0.4698325304086713\n",
      "Objective value at t=74 is 0.4698324513407266\n",
      "Objective value at t=75 is 0.4698323827611549\n",
      "Objective value at t=76 is 0.4698323232694479\n",
      "Objective value at t=77 is 0.46983227165344277\n",
      "Objective value at t=78 is 0.4698322268637941\n",
      "Objective value at t=79 is 0.4698321879919365\n",
      "Objective value at t=80 is 0.469832154251055\n",
      "Objective value at t=81 is 0.46983212495965015\n",
      "Objective value at t=82 is 0.46983209952733895\n",
      "Objective value at t=83 is 0.46983207744258604\n",
      "Objective value at t=84 is 0.4698320582620993\n",
      "Objective value at t=85 is 0.4698320416016629\n",
      "Objective value at t=86 is 0.46983202712821137\n",
      "Objective value at t=87 is 0.46983201455297313\n",
      "Objective value at t=88 is 0.4698320036255428\n",
      "Objective value at t=89 is 0.46983199412874826\n",
      "Objective value at t=90 is 0.46983198587421393\n",
      "Objective value at t=91 is 0.46983197869851634\n",
      "Objective value at t=92 is 0.46983197245985925\n",
      "Objective value at t=93 is 0.46983196703519264\n",
      "Objective value at t=94 is 0.4698319623177204\n",
      "Objective value at t=95 is 0.4698319582147386\n",
      "Objective value at t=96 is 0.46983195464576616\n",
      "Objective value at t=97 is 0.4698319515409226\n",
      "Objective value at t=98 is 0.4698319488395241\n",
      "Objective value at t=99 is 0.4698319464888655\n"
     ]
    }
   ],
   "source": [
    "lam = 1E-6\n",
    "stepsize = 1.0\n",
    "w, objvals_gd = grad_descent(x_train, y_train, lam, stepsize)"
   ]
  },
  {
   "cell_type": "markdown",
   "metadata": {},
   "source": [
    "## 3.2. Stochastic gradient descent (SGD)\n",
    "\n",
    "Define $Q_i (w) = \\log \\Big( 1 + \\exp \\big( - y_i x_i^T w \\big) \\Big) + \\frac{\\lambda}{2} \\| w \\|_2^2 $.\n",
    "\n",
    "The stochastic gradient at $w$ is $g_i = \\frac{\\partial Q_i }{ \\partial w} = -\\frac{y_i x_i }{1 + \\exp ( y_i x_i^T w)} + \\lambda w$."
   ]
  },
  {
   "cell_type": "code",
   "execution_count": 10,
   "metadata": {},
   "outputs": [],
   "source": [
    "# Calculate the objective Q_i and the gradient of Q_i\n",
    "# Inputs:\n",
    "#     w: d-by-1 matrix\n",
    "#     xi: 1-by-d matrix\n",
    "#     yi: scalar\n",
    "#     lam: scalar, the regularization parameter\n",
    "# Return:\n",
    "#     obj: scalar, the objective Q_i\n",
    "#     g: d-by-1 matrix, gradient of Q_i\n",
    "def stochastic_objective_gradient(w, xi, yi, lam):\n",
    "    d = xi.shape[0]\n",
    "    yx = yi * xi # 1-by-d matrix\n",
    "    yxw = float(numpy.dot(yx, w)) # scalar\n",
    "    \n",
    "    # calculate objective function Q_i\n",
    "    loss = numpy.log(1 + numpy.exp(-yxw)) # scalar\n",
    "    reg = lam / 2 * numpy.sum(w * w) # scalar\n",
    "    obj = loss + reg\n",
    "    \n",
    "    # calculate stochastic gradient\n",
    "    g_loss = -yx.T / (1 + numpy.exp(yxw)) # d-by-1 matrix\n",
    "    g = g_loss + lam * w # d-by-1 matrix\n",
    "    \n",
    "    return obj, g"
   ]
  },
  {
   "cell_type": "code",
   "execution_count": 11,
   "metadata": {},
   "outputs": [],
   "source": [
    "# SGD for solving logistic regression\n",
    "# Inputs:\n",
    "#     x: n-by-d matrix\n",
    "#     y: n-by-1 matrix\n",
    "#     lam: scalar, the regularization parameter\n",
    "#     stepsize: scalar\n",
    "#     max_epoch: integer, the maximal epochs\n",
    "#     w: d-by-1 matrix, initialization of w\n",
    "# Return:\n",
    "#     w: the solution\n",
    "#     objvals: record of each iteration's objective value\n",
    "def sgd(x, y, lam, stepsize, max_epoch=100, w=None):\n",
    "    n, d = x.shape\n",
    "    objvals = numpy.zeros(max_epoch) # store the objective values\n",
    "    if w is None:\n",
    "        w = numpy.zeros((d, 1)) # zero initialization\n",
    "    \n",
    "    for t in range(max_epoch):\n",
    "        # randomly shuffle the samples\n",
    "        rand_indices = numpy.random.permutation(n)\n",
    "        x_rand = x[rand_indices, :]\n",
    "        y_rand = y[rand_indices, :]\n",
    "        \n",
    "        objval = 0 # accumulate the objective values\n",
    "        for i in range(n):\n",
    "            xi = x_rand[i, :] # 1-by-d matrix\n",
    "            yi = float(y_rand[i, :]) # scalar\n",
    "            obj, g = stochastic_objective_gradient(w, xi, yi, lam)\n",
    "            objval += obj\n",
    "            w -= stepsize * g\n",
    "        \n",
    "        stepsize *= 0.9 # decrease step size\n",
    "        objval /= n\n",
    "        objvals[t] = objval\n",
    "        print('Objective value at epoch t=' + str(t) + ' is ' + str(objval))\n",
    "    \n",
    "    return w, objvals"
   ]
  },
  {
   "cell_type": "markdown",
   "metadata": {},
   "source": [
    "Run SGD."
   ]
  },
  {
   "cell_type": "code",
   "execution_count": 12,
   "metadata": {},
   "outputs": [
    {
     "name": "stdout",
     "output_type": "stream",
     "text": [
      "Objective value at epoch t=0 is 0.5326564509281735\n",
      "Objective value at epoch t=1 is 0.511313451489982\n",
      "Objective value at epoch t=2 is 0.5034994957910964\n",
      "Objective value at epoch t=3 is 0.50495809350891\n",
      "Objective value at epoch t=4 is 0.50275918266052\n",
      "Objective value at epoch t=5 is 0.4996845363706307\n",
      "Objective value at epoch t=6 is 0.49471868262028823\n",
      "Objective value at epoch t=7 is 0.4906467727439888\n",
      "Objective value at epoch t=8 is 0.4929493276893765\n",
      "Objective value at epoch t=9 is 0.49158818898739753\n",
      "Objective value at epoch t=10 is 0.4871485914985139\n",
      "Objective value at epoch t=11 is 0.4825798690063343\n",
      "Objective value at epoch t=12 is 0.4863924475896746\n",
      "Objective value at epoch t=13 is 0.48207265301077407\n",
      "Objective value at epoch t=14 is 0.4847295641741039\n",
      "Objective value at epoch t=15 is 0.4823106134595824\n",
      "Objective value at epoch t=16 is 0.4821924123360254\n",
      "Objective value at epoch t=17 is 0.4808977234569637\n",
      "Objective value at epoch t=18 is 0.48000783915092377\n",
      "Objective value at epoch t=19 is 0.475509053752574\n",
      "Objective value at epoch t=20 is 0.4788221552627139\n",
      "Objective value at epoch t=21 is 0.47695438683122837\n",
      "Objective value at epoch t=22 is 0.47563131521479163\n",
      "Objective value at epoch t=23 is 0.475432775530155\n",
      "Objective value at epoch t=24 is 0.47523219483461093\n",
      "Objective value at epoch t=25 is 0.4747654044826318\n",
      "Objective value at epoch t=26 is 0.4742997190974143\n",
      "Objective value at epoch t=27 is 0.47346536547671736\n",
      "Objective value at epoch t=28 is 0.4733974856135232\n",
      "Objective value at epoch t=29 is 0.47300404340537144\n",
      "Objective value at epoch t=30 is 0.4725960133211687\n",
      "Objective value at epoch t=31 is 0.47243735251764496\n",
      "Objective value at epoch t=32 is 0.4722031054640675\n",
      "Objective value at epoch t=33 is 0.4719555089593224\n",
      "Objective value at epoch t=34 is 0.47180934084559006\n",
      "Objective value at epoch t=35 is 0.471597795783073\n",
      "Objective value at epoch t=36 is 0.47139058065559525\n",
      "Objective value at epoch t=37 is 0.4712889517343317\n",
      "Objective value at epoch t=38 is 0.47112399595916915\n",
      "Objective value at epoch t=39 is 0.4710102423911827\n",
      "Objective value at epoch t=40 is 0.4708624549675289\n",
      "Objective value at epoch t=41 is 0.47077652462945263\n",
      "Objective value at epoch t=42 is 0.4707040422155731\n",
      "Objective value at epoch t=43 is 0.47060816790983795\n",
      "Objective value at epoch t=44 is 0.4705306968751663\n",
      "Objective value at epoch t=45 is 0.47046077818017124\n",
      "Objective value at epoch t=46 is 0.4704025779846369\n",
      "Objective value at epoch t=47 is 0.47033696191052715\n",
      "Objective value at epoch t=48 is 0.4702950481816203\n",
      "Objective value at epoch t=49 is 0.4702484714595516\n",
      "Objective value at epoch t=50 is 0.47020585150813055\n",
      "Objective value at epoch t=51 is 0.47016850160582324\n",
      "Objective value at epoch t=52 is 0.4701352694170612\n",
      "Objective value at epoch t=53 is 0.4701060376464432\n",
      "Objective value at epoch t=54 is 0.4700772177442545\n",
      "Objective value at epoch t=55 is 0.47005338276023234\n",
      "Objective value at epoch t=56 is 0.47003192857903964\n",
      "Objective value at epoch t=57 is 0.47001186180193555\n",
      "Objective value at epoch t=58 is 0.4699937349865514\n",
      "Objective value at epoch t=59 is 0.46997784916883684\n",
      "Objective value at epoch t=60 is 0.4699633899125536\n",
      "Objective value at epoch t=61 is 0.4699501875109382\n",
      "Objective value at epoch t=62 is 0.46993848406539823\n",
      "Objective value at epoch t=63 is 0.46992778976960875\n",
      "Objective value at epoch t=64 is 0.4699182391435384\n",
      "Objective value at epoch t=65 is 0.4699096670623676\n",
      "Objective value at epoch t=66 is 0.4699019235383279\n",
      "Objective value at epoch t=67 is 0.4698949793167146\n",
      "Objective value at epoch t=68 is 0.46988870552202383\n",
      "Objective value at epoch t=69 is 0.4698829948101496\n",
      "Objective value at epoch t=70 is 0.4698779570948182\n",
      "Objective value at epoch t=71 is 0.46987338783413746\n",
      "Objective value at epoch t=72 is 0.4698692636461437\n",
      "Objective value at epoch t=73 is 0.4698655565984751\n",
      "Objective value at epoch t=74 is 0.4698622020600401\n",
      "Objective value at epoch t=75 is 0.46985920575630147\n",
      "Objective value at epoch t=76 is 0.4698565020650891\n",
      "Objective value at epoch t=77 is 0.46985407020289155\n",
      "Objective value at epoch t=78 is 0.4698518773503939\n",
      "Objective value at epoch t=79 is 0.46984990258327314\n",
      "Objective value at epoch t=80 is 0.46984812503416207\n",
      "Objective value at epoch t=81 is 0.4698465292405099\n",
      "Objective value at epoch t=82 is 0.4698450899765804\n",
      "Objective value at epoch t=83 is 0.4698437940395685\n",
      "Objective value at epoch t=84 is 0.46984262837703994\n",
      "Objective value at epoch t=85 is 0.46984158401664927\n",
      "Objective value at epoch t=86 is 0.46984063762688705\n",
      "Objective value at epoch t=87 is 0.46983979011413346\n",
      "Objective value at epoch t=88 is 0.4698390252678106\n",
      "Objective value at epoch t=89 is 0.46983833668887404\n",
      "Objective value at epoch t=90 is 0.4698377179589852\n",
      "Objective value at epoch t=91 is 0.469837160396389\n",
      "Objective value at epoch t=92 is 0.4698366586507869\n",
      "Objective value at epoch t=93 is 0.46983620711771035\n",
      "Objective value at epoch t=94 is 0.4698358005418714\n",
      "Objective value at epoch t=95 is 0.4698354351624457\n",
      "Objective value at epoch t=96 is 0.46983510567845926\n",
      "Objective value at epoch t=97 is 0.4698348097131098\n",
      "Objective value at epoch t=98 is 0.46983454305785377\n",
      "Objective value at epoch t=99 is 0.46983430312957875\n"
     ]
    }
   ],
   "source": [
    "lam = 1E-6\n",
    "stepsize = 0.1\n",
    "w, objvals_sgd = sgd(x_train, y_train, lam, stepsize)"
   ]
  },
  {
   "cell_type": "markdown",
   "metadata": {},
   "source": [
    "# 4. Compare GD with SGD\n",
    "\n",
    "Plot objective function values against epochs."
   ]
  },
  {
   "cell_type": "code",
   "execution_count": 509,
   "metadata": {},
   "outputs": [
    {
     "data": {
      "image/png": "[encoded data removed]",
      "text/plain": [
       "<Figure size 432x288 with 1 Axes>"
      ]
     },
     "metadata": {
      "needs_background": "light"
     },
     "output_type": "display_data"
    }
   ],
   "source": [
    "import matplotlib.pyplot as plt\n",
    "%matplotlib inline\n",
    "\n",
    "fig = plt.figure(figsize=(6, 4))\n",
    "\n",
    "epochs_gd = range(len(objvals_gd))\n",
    "epochs_sgd = range(len(objvals_sgd))\n",
    "\n",
    "line0, = plt.plot(epochs_gd, objvals_gd, '--b', linewidth=4)\n",
    "line1, = plt.plot(epochs_sgd, objvals_sgd, '-r', linewidth=2)\n",
    "plt.xlabel('Epochs', fontsize=20)\n",
    "plt.ylabel('Objective Value', fontsize=20)\n",
    "plt.xticks(fontsize=16)\n",
    "plt.yticks(fontsize=16)\n",
    "plt.legend([line0, line1], ['GD', 'SGD'], fontsize=20)\n",
    "plt.tight_layout()\n",
    "plt.show()\n",
    "fig.savefig('compare_gd_sgd.pdf', format='pdf', dpi=1200)"
   ]
  },
  {
   "cell_type": "markdown",
   "metadata": {},
   "source": [
    "# 5. Prediction"
   ]
  },
  {
   "cell_type": "code",
   "execution_count": 14,
   "metadata": {},
   "outputs": [],
   "source": [
    "# Predict class label\n",
    "# Inputs:\n",
    "#     w: d-by-1 matrix\n",
    "#     X: m-by-d matrix\n",
    "# Return:\n",
    "#     f: m-by-1 matrix, the predictions\n",
    "def predict(w, X):\n",
    "    xw = numpy.dot(X, w)\n",
    "    f = numpy.sign(xw)\n",
    "    return f"
   ]
  },
  {
   "cell_type": "code",
   "execution_count": 15,
   "metadata": {},
   "outputs": [
    {
     "name": "stdout",
     "output_type": "stream",
     "text": [
      "Training classification error is 0.2171875\n"
     ]
    }
   ],
   "source": [
    "# evaluate training error\n",
    "f_train = predict(w, x_train)\n",
    "diff = numpy.abs(f_train - y_train) / 2\n",
    "error_train = numpy.mean(diff)\n",
    "print('Training classification error is ' + str(error_train))"
   ]
  },
  {
   "cell_type": "code",
   "execution_count": 16,
   "metadata": {},
   "outputs": [
    {
     "name": "stdout",
     "output_type": "stream",
     "text": [
      "Test classification error is 0.2265625\n"
     ]
    }
   ],
   "source": [
    "# evaluate test error\n",
    "f_test = predict(w, x_test)\n",
    "diff = numpy.abs(f_test - y_test) / 2\n",
    "error_test = numpy.mean(diff)\n",
    "print('Test classification error is ' + str(error_test))"
   ]
  },
  {
   "cell_type": "markdown",
   "metadata": {},
   "source": [
    "# 6. Mini-batch SGD (fill the code)\n",
    "\n"
   ]
  },
  {
   "cell_type": "markdown",
   "metadata": {},
   "source": [
    "## 6.1. Compute the objective $Q_I$ and its gradient using a batch of samples\n",
    "\n",
    "Define $Q_I (w) = \\frac{1}{b} \\sum_{i \\in I} \\log \\Big( 1 + \\exp \\big( - y_i x_i^T w \\big) \\Big) + \\frac{\\lambda}{2} \\| w \\|_2^2 $, where $I$ is a set containing $b$ indices randomly drawn from $\\{ 1, \\cdots , n \\}$ without replacement. \n",
    "\n",
    "The stochastic gradient at $w$ is $g_I = \\frac{\\partial Q_I }{ \\partial w} = \\frac{1}{b} \\sum_{i \\in I} \\frac{- y_i x_i }{1 + \\exp ( y_i x_i^T w)} + \\lambda w$."
   ]
  },
  {
   "cell_type": "code",
   "execution_count": 491,
   "metadata": {},
   "outputs": [],
   "source": [
    "# Calculate the objective Q_I and the gradient of Q_I\n",
    "# Inputs:\n",
    "#     w: d-by-1 matrix\n",
    "#     xi: b-by-d matrix\n",
    "#     yi: b-by-1 matrix\n",
    "#     lam: scalar, the regularization parameter\n",
    "#     b: integer, the batch size\n",
    "# Return:\n",
    "#     obj: scalar, the objective Q_i\n",
    "#     g: d-by-1 matrix, gradient of Q_i\n",
    "def mb_stochastic_objective_gradient(w, xi, yi, lam, b):\n",
    "    # Fill the function\n",
    "    # Follow the implementation of stochastic_objective_gradient\n",
    "    # Use matrix-vector multiplication; do not use FOR LOOP of vector-vector multiplications\n",
    "    \n",
    "    yx = numpy.multiply(yi,xi) # b-by-d matrix\n",
    "    yxw = numpy.dot(yx,w) # b-by-1 matrix\n",
    "    \n",
    "    #calculate the objective function Q_i\n",
    "    loss = numpy.mean(numpy.log(1+numpy.exp(-yxw))) # scalar\n",
    "    reg = lam/2 * numpy.sum(w*w) # scalar\n",
    "    obj = loss + reg\n",
    "    \n",
    "    # calculate stochasic gradient\n",
    "    g_loss = -yx/ (1+ numpy.exp(yxw)) # b-by-d matrix\n",
    "    g_loss2 = numpy.mean(g_loss, axis=0).reshape(d,1) # d-by-1 matrix\n",
    "    g=(g_loss2 + lam*w) # d-by-1 matrix\n",
    "    \n",
    "    return obj, g"
   ]
  },
  {
   "cell_type": "markdown",
   "metadata": {},
   "source": [
    "## 6.2. Implement mini-batch SGD\n",
    "\n",
    "Hints:\n",
    "1. In every epoch, randomly permute the $n$ samples (just like SGD).\n",
    "2. Each epoch has $\\frac{n}{b}$ iterations. In every iteration, use $b$ samples, and compute the gradient and objective using the ``mb_stochastic_objective_gradient`` function. In the next iteration, use the next $b$ samples, and so on.\n"
   ]
  },
  {
   "cell_type": "code",
   "execution_count": 496,
   "metadata": {},
   "outputs": [],
   "source": [
    "# Mini-Batch SGD for solving logistic regression\n",
    "# Inputs:\n",
    "#     x: n-by-d matrix\n",
    "#     y: n-by-1 matrix\n",
    "#     lam: scalar, the regularization parameter\n",
    "#     b: integer, the batch size\n",
    "#     stepsize: scalar\n",
    "#     max_epoch: integer, the maximal epochs\n",
    "#     w: d-by-1 matrix, initialization of w\n",
    "# Return:\n",
    "#     w: the solution\n",
    "#     objvals: record of each iteration's objective value\n",
    "def mb_sgd(x, y, lam, b, stepsize, max_epoch=100, w=None):\n",
    "    # Fill the function\n",
    "    # Follow the implementation of sgd\n",
    "    # Record one objective value per epoch (not per iteration!)\n",
    "    \n",
    "    n,d = x.shape\n",
    "    objvals=numpy.zeros(max_epoch)\n",
    "    if w is None:\n",
    "        w = numpy.zeros((d,1))\n",
    "    \n",
    "    for t in range(max_epoch):\n",
    "        rand_indices = numpy.random.permutation(n)\n",
    "        x_rand = x[rand_indices, :]\n",
    "        y_rand = y[rand_indices, :]\n",
    "        \n",
    "        #create batches\n",
    "        batches = []\n",
    "        data = numpy.hstack((x_rand,y_rand)) #combine x and y\n",
    "        num_batches =data.shape[0] // b \n",
    "        for i in range(num_batches):\n",
    "            batch=data[i*b:(i+1)*b,:]\n",
    "            xb=batch[:,:-1]\n",
    "            yb=batch[:,-1]\n",
    "            batches.append((xb,yb))\n",
    "        \n",
    "        objval = 0 # accumulate the objective values\n",
    "        for batch in batches:\n",
    "            xi,yi = batch # xi: b-by-d matrix | yi: b-by-1 matrix\n",
    "            obj, g = mb_stochastic_objective_gradient(w, xi, yi, lam, b)\n",
    "            objval += obj\n",
    "            w -= stepsize * g\n",
    "        \n",
    "        stepsize *= 0.9\n",
    "        objval /= (n/b)\n",
    "        objvals[t] = objval \n",
    "        print('Objective value at epoch t='+str(t)+' is '+str(objval))\n",
    "    \n",
    "    return w, objvals"
   ]
  },
  {
   "cell_type": "markdown",
   "metadata": {},
   "source": [
    "## 6.3. Run MB-SGD"
   ]
  },
  {
   "cell_type": "code",
   "execution_count": 532,
   "metadata": {},
   "outputs": [
    {
     "name": "stdout",
     "output_type": "stream",
     "text": [
      "Objective value at epoch t=0 is 0.5442245355310756\n",
      "Objective value at epoch t=1 is 0.48593389749278765\n",
      "Objective value at epoch t=2 is 0.47969937855706934\n",
      "Objective value at epoch t=3 is 0.47523569607749006\n",
      "Objective value at epoch t=4 is 0.4761120048348534\n",
      "Objective value at epoch t=5 is 0.47486415256407016\n",
      "Objective value at epoch t=6 is 0.4738863632058705\n",
      "Objective value at epoch t=7 is 0.4741500819127496\n",
      "Objective value at epoch t=8 is 0.47361408066177413\n",
      "Objective value at epoch t=9 is 0.4732493710933225\n",
      "Objective value at epoch t=10 is 0.47273933063110507\n",
      "Objective value at epoch t=11 is 0.4724587737121614\n",
      "Objective value at epoch t=12 is 0.4724681023016807\n",
      "Objective value at epoch t=13 is 0.47213561466028187\n",
      "Objective value at epoch t=14 is 0.47159772462342114\n",
      "Objective value at epoch t=15 is 0.4716529872444052\n",
      "Objective value at epoch t=16 is 0.4714169185490172\n",
      "Objective value at epoch t=17 is 0.47135080943557195\n",
      "Objective value at epoch t=18 is 0.47104710004094674\n",
      "Objective value at epoch t=19 is 0.4709046259221584\n",
      "Objective value at epoch t=20 is 0.4707829058302792\n",
      "Objective value at epoch t=21 is 0.47084577582784404\n",
      "Objective value at epoch t=22 is 0.47066684494714134\n",
      "Objective value at epoch t=23 is 0.4706281373213731\n",
      "Objective value at epoch t=24 is 0.4705454227345297\n",
      "Objective value at epoch t=25 is 0.47050929458419555\n",
      "Objective value at epoch t=26 is 0.47038295684076176\n",
      "Objective value at epoch t=27 is 0.4702992578163405\n",
      "Objective value at epoch t=28 is 0.4703594764736937\n",
      "Objective value at epoch t=29 is 0.47023759504505114\n",
      "Objective value at epoch t=30 is 0.4701871967781691\n",
      "Objective value at epoch t=31 is 0.47017615823033765\n",
      "Objective value at epoch t=32 is 0.47017211343253085\n",
      "Objective value at epoch t=33 is 0.47010732370482594\n",
      "Objective value at epoch t=34 is 0.47005773931211275\n",
      "Objective value at epoch t=35 is 0.4700528947994096\n",
      "Objective value at epoch t=36 is 0.4700417361385397\n",
      "Objective value at epoch t=37 is 0.4700035214610373\n",
      "Objective value at epoch t=38 is 0.4699927840227103\n",
      "Objective value at epoch t=39 is 0.46997621451005084\n",
      "Objective value at epoch t=40 is 0.4699579533653447\n",
      "Objective value at epoch t=41 is 0.46994794049514726\n",
      "Objective value at epoch t=42 is 0.46994807606777017\n",
      "Objective value at epoch t=43 is 0.4699220606216158\n",
      "Objective value at epoch t=44 is 0.4699176838536392\n",
      "Objective value at epoch t=45 is 0.4699176468664573\n",
      "Objective value at epoch t=46 is 0.46990456899158045\n",
      "Objective value at epoch t=47 is 0.46989995374519644\n",
      "Objective value at epoch t=48 is 0.4698898659980144\n",
      "Objective value at epoch t=49 is 0.4698886656566724\n",
      "Objective value at epoch t=50 is 0.46988166930138126\n",
      "Objective value at epoch t=51 is 0.4698705551166401\n",
      "Objective value at epoch t=52 is 0.4698706690861119\n",
      "Objective value at epoch t=53 is 0.46986575771517225\n",
      "Objective value at epoch t=54 is 0.46986304307601623\n",
      "Objective value at epoch t=55 is 0.46986075518443277\n",
      "Objective value at epoch t=56 is 0.46985901969516064\n",
      "Objective value at epoch t=57 is 0.46985506350394396\n",
      "Objective value at epoch t=58 is 0.4698513511720339\n",
      "Objective value at epoch t=59 is 0.46984966097047687\n",
      "Objective value at epoch t=60 is 0.4698462025853859\n",
      "Objective value at epoch t=61 is 0.46984787709896364\n",
      "Objective value at epoch t=62 is 0.46984630707285346\n",
      "Objective value at epoch t=63 is 0.4698435170237912\n",
      "Objective value at epoch t=64 is 0.46984327070446197\n",
      "Objective value at epoch t=65 is 0.4698413712954631\n",
      "Objective value at epoch t=66 is 0.4698405705299666\n",
      "Objective value at epoch t=67 is 0.4698404211095698\n",
      "Objective value at epoch t=68 is 0.4698388343916868\n",
      "Objective value at epoch t=69 is 0.4698386687937643\n",
      "Objective value at epoch t=70 is 0.46983792324955526\n",
      "Objective value at epoch t=71 is 0.46983740992608797\n",
      "Objective value at epoch t=72 is 0.4698370750450077\n",
      "Objective value at epoch t=73 is 0.4698363321432484\n",
      "Objective value at epoch t=74 is 0.4698362501499749\n",
      "Objective value at epoch t=75 is 0.4698360329934845\n",
      "Objective value at epoch t=76 is 0.46983557830844414\n",
      "Objective value at epoch t=77 is 0.4698349446234846\n",
      "Objective value at epoch t=78 is 0.4698348986741867\n",
      "Objective value at epoch t=79 is 0.46983474156859534\n",
      "Objective value at epoch t=80 is 0.46983420629719924\n",
      "Objective value at epoch t=81 is 0.4698340252935487\n",
      "Objective value at epoch t=82 is 0.4698339011102348\n",
      "Objective value at epoch t=83 is 0.4698336813370009\n",
      "Objective value at epoch t=84 is 0.4698336132553666\n",
      "Objective value at epoch t=85 is 0.4698334256150491\n",
      "Objective value at epoch t=86 is 0.4698334011485203\n",
      "Objective value at epoch t=87 is 0.4698331978480206\n",
      "Objective value at epoch t=88 is 0.46983327469233405\n",
      "Objective value at epoch t=89 is 0.4698330328905341\n",
      "Objective value at epoch t=90 is 0.46983285785106144\n",
      "Objective value at epoch t=91 is 0.46983289544540996\n",
      "Objective value at epoch t=92 is 0.46983290138716427\n",
      "Objective value at epoch t=93 is 0.46983278277220386\n",
      "Objective value at epoch t=94 is 0.4698327450913523\n",
      "Objective value at epoch t=95 is 0.469832726967054\n",
      "Objective value at epoch t=96 is 0.4698326350324142\n",
      "Objective value at epoch t=97 is 0.46983259679627276\n",
      "Objective value at epoch t=98 is 0.46983258556187746\n",
      "Objective value at epoch t=99 is 0.4698325850049076\n"
     ]
    }
   ],
   "source": [
    "from sklearn.model_selection import KFold\n",
    "# MB-SGD with batch size b=8\n",
    "lam = 1E-6 # do not change\n",
    "b = 8 # do not change    \n",
    "stepsize = 0.1\n",
    "\n",
    "w, objvals_mbsgd8 = mb_sgd(x_train, y_train, lam, b, stepsize)"
   ]
  },
  {
   "cell_type": "code",
   "execution_count": 533,
   "metadata": {},
   "outputs": [
    {
     "name": "stdout",
     "output_type": "stream",
     "text": [
      "Objective value at epoch t=0 is 0.550711271454426\n",
      "Objective value at epoch t=1 is 0.48524738581277616\n",
      "Objective value at epoch t=2 is 0.47873556714851884\n",
      "Objective value at epoch t=3 is 0.47528369389958913\n",
      "Objective value at epoch t=4 is 0.47497889100049406\n",
      "Objective value at epoch t=5 is 0.47354260823540384\n",
      "Objective value at epoch t=6 is 0.47477353426846614\n",
      "Objective value at epoch t=7 is 0.47323612312841884\n",
      "Objective value at epoch t=8 is 0.47295826706560523\n",
      "Objective value at epoch t=9 is 0.47294889022619335\n",
      "Objective value at epoch t=10 is 0.4726135858351951\n",
      "Objective value at epoch t=11 is 0.4728959677688696\n",
      "Objective value at epoch t=12 is 0.47236540406719635\n",
      "Objective value at epoch t=13 is 0.47189559966613326\n",
      "Objective value at epoch t=14 is 0.47177064936923185\n",
      "Objective value at epoch t=15 is 0.47191116286959256\n",
      "Objective value at epoch t=16 is 0.4722765510382462\n",
      "Objective value at epoch t=17 is 0.471065609234054\n",
      "Objective value at epoch t=18 is 0.4711605876006454\n",
      "Objective value at epoch t=19 is 0.4708471355864964\n",
      "Objective value at epoch t=20 is 0.47081414251892106\n",
      "Objective value at epoch t=21 is 0.4707679737525171\n",
      "Objective value at epoch t=22 is 0.4707128267199937\n",
      "Objective value at epoch t=23 is 0.4706081152287048\n",
      "Objective value at epoch t=24 is 0.47055846925422734\n",
      "Objective value at epoch t=25 is 0.47029610109537734\n",
      "Objective value at epoch t=26 is 0.4704289906531355\n",
      "Objective value at epoch t=27 is 0.4704577747461977\n",
      "Objective value at epoch t=28 is 0.4702714246945489\n",
      "Objective value at epoch t=29 is 0.47017303690182677\n",
      "Objective value at epoch t=30 is 0.47018978605841577\n",
      "Objective value at epoch t=31 is 0.4701023343058733\n",
      "Objective value at epoch t=32 is 0.47017080639397263\n",
      "Objective value at epoch t=33 is 0.47011324538222893\n",
      "Objective value at epoch t=34 is 0.4700545821764188\n",
      "Objective value at epoch t=35 is 0.4700417767725197\n",
      "Objective value at epoch t=36 is 0.4699967404166909\n",
      "Objective value at epoch t=37 is 0.46999788567323436\n",
      "Objective value at epoch t=38 is 0.46996350425466504\n",
      "Objective value at epoch t=39 is 0.46997206637161176\n",
      "Objective value at epoch t=40 is 0.4699924451076426\n",
      "Objective value at epoch t=41 is 0.4699341336881675\n",
      "Objective value at epoch t=42 is 0.4699516625072291\n",
      "Objective value at epoch t=43 is 0.46991938119644044\n",
      "Objective value at epoch t=44 is 0.4699204845428987\n",
      "Objective value at epoch t=45 is 0.4698819664363863\n",
      "Objective value at epoch t=46 is 0.4698934039097823\n",
      "Objective value at epoch t=47 is 0.4699112967122775\n",
      "Objective value at epoch t=48 is 0.4698888191453522\n",
      "Objective value at epoch t=49 is 0.46988859049428944\n",
      "Objective value at epoch t=50 is 0.4698787848193621\n",
      "Objective value at epoch t=51 is 0.46987319737071614\n",
      "Objective value at epoch t=52 is 0.4698757131634058\n",
      "Objective value at epoch t=53 is 0.4698659340429125\n",
      "Objective value at epoch t=54 is 0.46986363505560524\n",
      "Objective value at epoch t=55 is 0.46986369866946587\n",
      "Objective value at epoch t=56 is 0.4698530769383728\n",
      "Objective value at epoch t=57 is 0.4698526279479978\n",
      "Objective value at epoch t=58 is 0.4698507855709142\n",
      "Objective value at epoch t=59 is 0.4698529741798425\n",
      "Objective value at epoch t=60 is 0.4698498028250803\n",
      "Objective value at epoch t=61 is 0.4698444058779466\n",
      "Objective value at epoch t=62 is 0.4698454840162327\n",
      "Objective value at epoch t=63 is 0.4698478691050328\n",
      "Objective value at epoch t=64 is 0.46984341361783466\n",
      "Objective value at epoch t=65 is 0.46984048020930336\n",
      "Objective value at epoch t=66 is 0.4698399945959615\n",
      "Objective value at epoch t=67 is 0.46984132557653285\n",
      "Objective value at epoch t=68 is 0.4698375746976958\n",
      "Objective value at epoch t=69 is 0.46983890612960344\n",
      "Objective value at epoch t=70 is 0.46983983648167166\n",
      "Objective value at epoch t=71 is 0.4698365578122596\n",
      "Objective value at epoch t=72 is 0.46983684370840334\n",
      "Objective value at epoch t=73 is 0.46983697915755085\n",
      "Objective value at epoch t=74 is 0.46983636861129663\n",
      "Objective value at epoch t=75 is 0.4698354029304923\n",
      "Objective value at epoch t=76 is 0.46983502162904484\n",
      "Objective value at epoch t=77 is 0.46983550929221246\n",
      "Objective value at epoch t=78 is 0.4698339901246328\n",
      "Objective value at epoch t=79 is 0.46983394207325035\n",
      "Objective value at epoch t=80 is 0.4698342620405331\n",
      "Objective value at epoch t=81 is 0.469834090912394\n",
      "Objective value at epoch t=82 is 0.4698337363989523\n",
      "Objective value at epoch t=83 is 0.46983424127688744\n",
      "Objective value at epoch t=84 is 0.4698340852759184\n",
      "Objective value at epoch t=85 is 0.46983389260731956\n",
      "Objective value at epoch t=86 is 0.4698336415714485\n",
      "Objective value at epoch t=87 is 0.4698334353763075\n",
      "Objective value at epoch t=88 is 0.46983356729155845\n",
      "Objective value at epoch t=89 is 0.46983306195538355\n",
      "Objective value at epoch t=90 is 0.4698331030041568\n",
      "Objective value at epoch t=91 is 0.46983299925778504\n",
      "Objective value at epoch t=92 is 0.46983294305460177\n",
      "Objective value at epoch t=93 is 0.4698329064411425\n",
      "Objective value at epoch t=94 is 0.46983296419724035\n",
      "Objective value at epoch t=95 is 0.46983290154933915\n",
      "Objective value at epoch t=96 is 0.4698327859402185\n",
      "Objective value at epoch t=97 is 0.4698328069333019\n",
      "Objective value at epoch t=98 is 0.4698328692029752\n",
      "Objective value at epoch t=99 is 0.4698328016385506\n"
     ]
    }
   ],
   "source": [
    "# MB-SGD with batch size b=64\n",
    "lam = 1E-6 # do not change\n",
    "b = 64 # do not change\n",
    "stepsize = 0.8\n",
    "\n",
    "w, objvals_mbsgd64 = mb_sgd(x_train, y_train, lam, b, stepsize)"
   ]
  },
  {
   "cell_type": "markdown",
   "metadata": {},
   "source": [
    "# 7. Plot and compare GD, SGD, and MB-SGD"
   ]
  },
  {
   "cell_type": "markdown",
   "metadata": {},
   "source": [
    "You are required to compare the following algorithms:\n",
    "\n",
    "- Gradient descent (GD)\n",
    "\n",
    "- SGD\n",
    "\n",
    "- MB-SGD with b=8\n",
    "\n",
    "- MB-SGD with b=64\n",
    "\n",
    "Follow the code in Section 4 to plot ```objective function value``` against ```epochs```. There should be four curves in the plot; each curve corresponds to one algorithm."
   ]
  },
  {
   "cell_type": "markdown",
   "metadata": {},
   "source": [
    "Hint: Logistic regression with $\\ell_2$-norm regularization is a strongly convex optimization problem. All the algorithms will converge to the same solution. **In the end, the ``objective function value`` of the 4 algorithms will be the same. If not the same, your implementation must be wrong. Do NOT submit wrong code and wrong result!**"
   ]
  },
  {
   "cell_type": "code",
   "execution_count": 534,
   "metadata": {},
   "outputs": [
    {
     "data": {
      "image/png": "[encoded data removed]",
      "text/plain": [
       "<Figure size 432x288 with 1 Axes>"
      ]
     },
     "metadata": {
      "needs_background": "light"
     },
     "output_type": "display_data"
    }
   ],
   "source": [
    "# plot the 4 curves:\n",
    "import matplotlib.pyplot as plt\n",
    "%matplotlib inline\n",
    "\n",
    "fig = plt.figure(figsize=(6, 4))\n",
    "\n",
    "epochs_gd = range(len(objvals_gd))\n",
    "epochs_sgd = range(len(objvals_sgd))\n",
    "epochs_mbsgd8 = range(len(objvals_mbsgd8))\n",
    "epochs_mbsgd64 = range(len(objvals_mbsgd64))\n",
    "\n",
    "line0, = plt.plot(epochs_gd, objvals_gd, '--b', linewidth=2)\n",
    "line1, = plt.plot(epochs_sgd, objvals_sgd, '-r', linewidth=2)\n",
    "line2, = plt.plot(epochs_mbsgd8, objvals_mbsgd8,'-g', linewidth=3.5)\n",
    "line3, = plt.plot(epochs_mbsgd64, objvals_mbsgd64, '--y', linewidth=2)\n",
    "plt.xlabel('Epochs', fontsize=20)\n",
    "plt.ylabel('Objective Value', fontsize=20)\n",
    "plt.xticks(fontsize=16)\n",
    "plt.yticks(fontsize=16)\n",
    "plt.legend([line0, line1, line2, line3], ['GD', 'SGD','MB-SGD with b=8', 'MB-SGD with b=64'], fontsize=20)\n",
    "plt.tight_layout()\n",
    "plt.show()\n",
    "fig.savefig('compare_gd_sgd_mbsgd8_mbgd64.pdf', format='pdf', dpi=1200)"
   ]
  },
  {
   "cell_type": "markdown",
   "metadata": {},
   "source": []
  }
 ],
 "metadata": {
  "kernelspec": {
   "display_name": "Python 3",
   "language": "python",
   "name": "python3"
  },
  "language_info": {
   "codemirror_mode": {
    "name": "ipython",
    "version": 3
   },
   "file_extension": ".py",
   "mimetype": "text/x-python",
   "name": "python",
   "nbconvert_exporter": "python",
   "pygments_lexer": "ipython3",
   "version": "3.9.2"
  }
 },
 "nbformat": 4,
 "nbformat_minor": 2
}
