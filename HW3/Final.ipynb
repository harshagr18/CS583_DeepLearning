{
  "cells": [
    {
      "cell_type": "markdown",
      "metadata": {
        "id": "i0TUpIFSscHa"
      },
      "source": [
        "# Assignment 3: Build a seq2seq model for machine translation.\n",
        "\n",
        "### Name: Harsh Agrawal\n",
        "\n",
        "### Task: Change LSTM model to Bidirectional LSTM Model， translate English to target language and evaluate using Bleu score.\n",
        "\n",
        "### Due Date: Tuesday, April 19th, 11:59PM"
      ]
    },
    {
      "cell_type": "markdown",
      "metadata": {
        "id": "6HObtkY8scHc"
      },
      "source": [
        "## 0. You will do the following:\n",
        "\n",
        "1. Read and run the code. Please make sure you have installed keras or tensorflow.Running the script on colab will speed up the training process and also prevent package loading issue. \n",
        "2. Complete the code in Section 1.1, you may fill in your data directory.\n",
        "3. Directly modify the code in Section 3. Change the current LSTM layer to a Bidirectional LSTM Model.\n",
        "4. Training your model and translate English to Spanish in Section 4.2. You could try translating other languages.\n",
        "5. Complete the code in Section 5."
      ]
    },
    {
      "cell_type": "markdown",
      "metadata": {
        "id": "ChagqzUvscHc"
      },
      "source": [
        "### Hint: \n",
        "\n",
        "To implement ```Bi-LSTM```, you will need the following code to build the encoder. Do NOT use Bi-LSTM for the decoder. But there are other codes you need to modify to make it work."
      ]
    },
    {
      "cell_type": "code",
      "execution_count": 1,
      "metadata": {
        "id": "s_bIEXwsscHd"
      },
      "outputs": [],
      "source": [
        "# from keras.layers import Bidirectional, Concatenate\n",
        "\n",
        "# encoder_bilstm = Bidirectional(LSTM(latent_dim, return_state=True, \n",
        "#                                   dropout=0.5, name='encoder_lstm'))\n",
        "# _, forward_h, forward_c, backward_h, backward_c = encoder_bilstm(encoder_inputs)\n",
        "\n",
        "# state_h = Concatenate()([forward_h, backward_h])\n",
        "# state_c = Concatenate()([forward_c, backward_c])"
      ]
    },
    {
      "cell_type": "markdown",
      "metadata": {
        "id": "wY6EAq0XscHe"
      },
      "source": [
        "## 1. Data preparation (10 points)\n",
        "\n",
        "1. Download spanish-english data from http://www.manythings.org/anki/\n",
        "2. You may try to use other languages.\n",
        "3. Unzip the .ZIP file.\n",
        "4. Put the .TXT file (e.g., \"deu.txt\") in the directory \"./Data/\".\n",
        "5. Fill in your data directory in section 1.1."
      ]
    },
    {
      "cell_type": "markdown",
      "metadata": {
        "id": "gfwSOX51scHe"
      },
      "source": [
        "### 1.1. Load and clean text\n"
      ]
    },
    {
      "cell_type": "code",
      "execution_count": 2,
      "metadata": {
        "id": "UG3-6b-YscHe"
      },
      "outputs": [],
      "source": [
        "import re\n",
        "import string\n",
        "from unicodedata import normalize\n",
        "import numpy\n",
        "\n",
        "# load doc into memory\n",
        "def load_doc(filename):\n",
        "    # open the file as read only\n",
        "    file = open(filename, mode='rt', encoding='utf-8')\n",
        "    # read all text\n",
        "    text = file.read()\n",
        "    # close the file\n",
        "    file.close()\n",
        "    return text\n",
        "\n",
        "\n",
        "# split a loaded document into sentences\n",
        "def to_pairs(doc):\n",
        "    lines = doc.strip().split('\\n')\n",
        "    pairs = [line.split('\\t') for line in  lines]\n",
        "    return pairs\n",
        "\n",
        "def clean_data(lines):\n",
        "    cleaned = list()\n",
        "    # prepare regex for char filtering\n",
        "    re_print = re.compile('[^%s]' % re.escape(string.printable))\n",
        "    # prepare translation table for removing punctuation\n",
        "    table = str.maketrans('', '', string.punctuation)\n",
        "    for pair in lines:\n",
        "        clean_pair = list()\n",
        "        for line in pair:\n",
        "            # normalize unicode characters\n",
        "            line = normalize('NFD', line).encode('ascii', 'ignore')\n",
        "            line = line.decode('UTF-8')\n",
        "            # tokenize on white space\n",
        "            line = line.split()\n",
        "            # convert to lowercase\n",
        "            line = [word.lower() for word in line]\n",
        "            # remove punctuation from each token\n",
        "            line = [word.translate(table) for word in line]\n",
        "            # remove non-printable chars form each token\n",
        "            line = [re_print.sub('', w) for w in line]\n",
        "            # remove tokens with numbers in them\n",
        "            line = [word for word in line if word.isalpha()]\n",
        "            # store as string\n",
        "            clean_pair.append(' '.join(line))\n",
        "        cleaned.append(clean_pair)\n",
        "    return numpy.array(cleaned)"
      ]
    },
    {
      "cell_type": "markdown",
      "metadata": {
        "id": "x1d0BtigscHf"
      },
      "source": [
        "#### Fill the following blanks:"
      ]
    },
    {
      "cell_type": "code",
      "execution_count": 3,
      "metadata": {
        "colab": {
          "base_uri": "https://localhost:8080/"
        },
        "id": "FP_HXlCYscHg",
        "outputId": "4467c840-1d42-4e1f-90e3-809d3de42610"
      },
      "outputs": [
        {
          "output_type": "stream",
          "name": "stdout",
          "text": [
            "Mounted at /content/drive\n"
          ]
        }
      ],
      "source": [
        "from google.colab import drive\n",
        "drive.mount('/content/drive')\n",
        "\n",
        "# e.g., filename = 'Data/deu.txt'\n",
        "filename = '/content/drive/MyDrive/Colab Notebooks/spa.txt'\n",
        "\n",
        "rand_indices = numpy.random.permutation(30000)\n",
        "train_indices = rand_indices[0:25000]\n",
        "test_indices = rand_indices[25000:30000]\n",
        "\n",
        "# e.g., n_train = 20000\n",
        "n_train = 20000"
      ]
    },
    {
      "cell_type": "code",
      "execution_count": 4,
      "metadata": {
        "id": "ajv_niMqscHg"
      },
      "outputs": [],
      "source": [
        "# load dataset\n",
        "doc = load_doc(filename)\n",
        "\n",
        "# split into Language1-Language2 pairs\n",
        "pairs = to_pairs(doc)\n",
        "\n",
        "# clean sentences\n",
        "clean_pairs = clean_data(pairs)[0:n_train, :]"
      ]
    },
    {
      "cell_type": "code",
      "execution_count": 5,
      "metadata": {
        "colab": {
          "base_uri": "https://localhost:8080/"
        },
        "id": "cwYNIL8pscHg",
        "outputId": "e7ed03f8-f1bc-488d-e599-c0b2ae0c99ab"
      },
      "outputs": [
        {
          "output_type": "stream",
          "name": "stdout",
          "text": [
            "[youre here] => [estas aqui]\n",
            "[youre here] => [estais aqui]\n",
            "[youre late] => [estas retrasado]\n",
            "[youre lost] => [estas perdido]\n",
            "[youre mean] => [eres mala]\n",
            "[youre mean] => [eres mezquino]\n",
            "[youre mine] => [tu eres mio]\n",
            "[youre nice] => [eres simpatico]\n",
            "[youre nuts] => [estas loco]\n",
            "[youre nuts] => [estas chiflado]\n"
          ]
        }
      ],
      "source": [
        "for i in range(3000, 3010):\n",
        "    print('[' + clean_pairs[i, 0] + '] => [' + clean_pairs[i, 1] + ']')"
      ]
    },
    {
      "cell_type": "code",
      "execution_count": 6,
      "metadata": {
        "colab": {
          "base_uri": "https://localhost:8080/"
        },
        "id": "UeMSkVk8scHg",
        "outputId": "b1bd7d51-b08d-4cf7-a5da-f05a80691d2f"
      },
      "outputs": [
        {
          "output_type": "stream",
          "name": "stdout",
          "text": [
            "Length of input_texts:  (20000,)\n",
            "Length of target_texts: (20000,)\n"
          ]
        }
      ],
      "source": [
        "input_texts = clean_pairs[:, 0]\n",
        "target_texts = ['\\t' + text + '\\n' for text in clean_pairs[:, 1]]\n",
        "\n",
        "print('Length of input_texts:  ' + str(input_texts.shape))\n",
        "print('Length of target_texts: ' + str(input_texts.shape))"
      ]
    },
    {
      "cell_type": "code",
      "execution_count": 7,
      "metadata": {
        "colab": {
          "base_uri": "https://localhost:8080/"
        },
        "id": "op2I5rYVscHh",
        "outputId": "94f1dd04-7e1c-4626-8dd5-87b013acc228"
      },
      "outputs": [
        {
          "output_type": "stream",
          "name": "stdout",
          "text": [
            "max length of input  sentences: 18\n",
            "max length of target sentences: 55\n"
          ]
        }
      ],
      "source": [
        "max_encoder_seq_length = max(len(line) for line in input_texts)\n",
        "max_decoder_seq_length = max(len(line) for line in target_texts)\n",
        "\n",
        "print('max length of input  sentences: %d' % (max_encoder_seq_length))\n",
        "print('max length of target sentences: %d' % (max_decoder_seq_length))"
      ]
    },
    {
      "cell_type": "markdown",
      "metadata": {
        "id": "OkFZvRx1scHh"
      },
      "source": [
        "**Remark:** To this end, you have two lists of sentences: input_texts and target_texts"
      ]
    },
    {
      "cell_type": "markdown",
      "metadata": {
        "id": "gXXZFWFiscHh"
      },
      "source": [
        "## 2. Text processing\n",
        "\n",
        "### 2.1. Convert texts to sequences\n",
        "\n",
        "- Input: A list of $n$ sentences (with max length $t$).\n",
        "- It is represented by a $n\\times t$ matrix after the tokenization and zero-padding."
      ]
    },
    {
      "cell_type": "code",
      "execution_count": 8,
      "metadata": {
        "colab": {
          "base_uri": "https://localhost:8080/"
        },
        "id": "AjMMlU9DscHh",
        "outputId": "dd25354a-a6c9-48c1-8a29-65f237d500ec"
      },
      "outputs": [
        {
          "output_type": "stream",
          "name": "stdout",
          "text": [
            "shape of encoder_input_seq: (20000, 18)\n",
            "shape of input_token_index: 27\n",
            "shape of decoder_input_seq: (20000, 55)\n",
            "shape of target_token_index: 29\n"
          ]
        }
      ],
      "source": [
        "from keras.preprocessing.text import Tokenizer\n",
        "from keras.preprocessing.sequence import pad_sequences\n",
        "\n",
        "# encode and pad sequences\n",
        "def text2sequences(max_len, lines):\n",
        "    tokenizer = Tokenizer(char_level=True, filters='')\n",
        "    tokenizer.fit_on_texts(lines)\n",
        "    seqs = tokenizer.texts_to_sequences(lines)\n",
        "    seqs_pad = pad_sequences(seqs, maxlen=max_len, padding='post')\n",
        "    return seqs_pad, tokenizer.word_index\n",
        "\n",
        "\n",
        "encoder_input_seq, input_token_index = text2sequences(max_encoder_seq_length, \n",
        "                                                      input_texts)\n",
        "decoder_input_seq, target_token_index = text2sequences(max_decoder_seq_length, \n",
        "                                                       target_texts)\n",
        "\n",
        "print('shape of encoder_input_seq: ' + str(encoder_input_seq.shape))\n",
        "print('shape of input_token_index: ' + str(len(input_token_index)))\n",
        "print('shape of decoder_input_seq: ' + str(decoder_input_seq.shape))\n",
        "print('shape of target_token_index: ' + str(len(target_token_index)))"
      ]
    },
    {
      "cell_type": "code",
      "execution_count": 9,
      "metadata": {
        "colab": {
          "base_uri": "https://localhost:8080/"
        },
        "id": "SqR2JmLvscHi",
        "outputId": "2deb40f1-61f9-42f8-9024-0dc4a0500bf7"
      },
      "outputs": [
        {
          "output_type": "stream",
          "name": "stdout",
          "text": [
            "num_encoder_tokens: 28\n",
            "num_decoder_tokens: 30\n"
          ]
        }
      ],
      "source": [
        "num_encoder_tokens = len(input_token_index) + 1\n",
        "num_decoder_tokens = len(target_token_index) + 1\n",
        "\n",
        "print('num_encoder_tokens: ' + str(num_encoder_tokens))\n",
        "print('num_decoder_tokens: ' + str(num_decoder_tokens))"
      ]
    },
    {
      "cell_type": "markdown",
      "metadata": {
        "id": "Zrgye5ezscHi"
      },
      "source": [
        "**Remark:** To this end, the input language and target language texts are converted to 2 matrices. \n",
        "\n",
        "- Their number of rows are both n_train.\n",
        "- Their number of columns are respective max_encoder_seq_length and max_decoder_seq_length."
      ]
    },
    {
      "cell_type": "markdown",
      "metadata": {
        "id": "rTRIZ0ngscHi"
      },
      "source": [
        "The followings print a sentence and its representation as a sequence."
      ]
    },
    {
      "cell_type": "code",
      "execution_count": 10,
      "metadata": {
        "colab": {
          "base_uri": "https://localhost:8080/",
          "height": 35
        },
        "id": "fXlGAWeDscHj",
        "outputId": "22e3f16b-558e-4f63-d929-1284ef9fff01"
      },
      "outputs": [
        {
          "output_type": "execute_result",
          "data": {
            "text/plain": [
              "'\\tno puede ser\\n'"
            ],
            "application/vnd.google.colaboratory.intrinsic+json": {
              "type": "string"
            }
          },
          "metadata": {},
          "execution_count": 10
        }
      ],
      "source": [
        "target_texts[100]"
      ]
    },
    {
      "cell_type": "code",
      "execution_count": 11,
      "metadata": {
        "colab": {
          "base_uri": "https://localhost:8080/"
        },
        "id": "PqIlIensscHj",
        "outputId": "cb489fd9-03af-4f7f-8ce4-85b94d05c24a"
      },
      "outputs": [
        {
          "output_type": "execute_result",
          "data": {
            "text/plain": [
              "array([ 6,  8,  3,  1, 17, 14,  2, 15,  2,  1,  5,  2, 10,  7,  0,  0,  0,\n",
              "        0,  0,  0,  0,  0,  0,  0,  0,  0,  0,  0,  0,  0,  0,  0,  0,  0,\n",
              "        0,  0,  0,  0,  0,  0,  0,  0,  0,  0,  0,  0,  0,  0,  0,  0,  0,\n",
              "        0,  0,  0,  0], dtype=int32)"
            ]
          },
          "metadata": {},
          "execution_count": 11
        }
      ],
      "source": [
        "decoder_input_seq[100, :]"
      ]
    },
    {
      "cell_type": "markdown",
      "metadata": {
        "id": "GMrQNdvHscHj"
      },
      "source": [
        "## 2.2. One-hot encode\n",
        "\n",
        "- Input: A list of $n$ sentences (with max length $t$).\n",
        "- It is represented by a $n\\times t$ matrix after the tokenization and zero-padding.\n",
        "- It is represented by a $n\\times t \\times v$ tensor ($t$ is the number of unique chars) after the one-hot encoding."
      ]
    },
    {
      "cell_type": "code",
      "execution_count": 12,
      "metadata": {
        "colab": {
          "base_uri": "https://localhost:8080/"
        },
        "id": "gUFJHtwfscHj",
        "outputId": "57b25d80-bcae-4049-e86f-fc666bf71047"
      },
      "outputs": [
        {
          "output_type": "stream",
          "name": "stdout",
          "text": [
            "(20000, 18, 28)\n",
            "(20000, 55, 30)\n"
          ]
        }
      ],
      "source": [
        "from tensorflow.keras.utils import to_categorical\n",
        "\n",
        "# one hot encode target sequence\n",
        "def onehot_encode(sequences, max_len, vocab_size):\n",
        "    n = len(sequences)\n",
        "    data = numpy.zeros((n, max_len, vocab_size))\n",
        "    for i in range(n):\n",
        "        data[i, :, :] = to_categorical(sequences[i], num_classes=vocab_size)\n",
        "    return data\n",
        "\n",
        "encoder_input_data = onehot_encode(encoder_input_seq, max_encoder_seq_length, num_encoder_tokens)\n",
        "decoder_input_data = onehot_encode(decoder_input_seq, max_decoder_seq_length, num_decoder_tokens)\n",
        "\n",
        "decoder_target_seq = numpy.zeros(decoder_input_seq.shape)\n",
        "decoder_target_seq[:, 0:-1] = decoder_input_seq[:, 1:]\n",
        "decoder_target_data = onehot_encode(decoder_target_seq, \n",
        "                                    max_decoder_seq_length, \n",
        "                                    num_decoder_tokens)\n",
        "\n",
        "print(encoder_input_data.shape)\n",
        "print(decoder_input_data.shape)"
      ]
    },
    {
      "cell_type": "markdown",
      "metadata": {
        "id": "DRh-DxhTscHk"
      },
      "source": [
        "## 3. Build the networks (for training) (20 points)\n",
        "\n",
        "- In this section, we have already implemented the LSTM model for you. You can run the code and see what the code is doing.  \n",
        "\n",
        "- You need to change the existing LSTM model to a Bidirectional LSTM model. Just modify the network structrue and do not change the training cell in section 3.4.\n",
        "\n",
        "- Build encoder, decoder, and connect the two modules to get \"model\". \n",
        "\n",
        "- Fit the model on the bilingual data to train the parameters in the encoder and decoder.\n",
        "\n"
      ]
    },
    {
      "cell_type": "markdown",
      "metadata": {
        "id": "gJhc-7BIscHk"
      },
      "source": [
        "### 3.1. Encoder network\n",
        "\n",
        "- Input:  one-hot encode of the input language\n",
        "\n",
        "- Return: \n",
        "\n",
        "    -- output (all the hidden states   $h_1, \\cdots , h_t$) are always discarded\n",
        "    \n",
        "    -- the final hidden state  $h_t$\n",
        "    \n",
        "    -- the final conveyor belt $c_t$"
      ]
    },
    {
      "cell_type": "code",
      "execution_count": 13,
      "metadata": {
        "id": "P_5UpskFscHk"
      },
      "outputs": [],
      "source": [
        "from keras.layers import Input, LSTM, Bidirectional, Concatenate\n",
        "from keras.models import Model\n",
        "\n",
        "latent_dim = 256\n",
        "\n",
        "# inputs of the encoder network\n",
        "encoder_inputs = Input(shape=(None, num_encoder_tokens), \n",
        "                       name='encoder_inputs')\n",
        "\n",
        "# set the Bi-LSTM layer\n",
        "encoder_bilstm = Bidirectional(LSTM(latent_dim, return_state=True, \n",
        "                                  dropout=0.5, name='encoder_lstm'))\n",
        "_, forward_h, forward_c, backward_h, backward_c = encoder_bilstm(encoder_inputs)\n",
        "\n",
        "state_h = Concatenate()([forward_h, backward_h])\n",
        "state_c = Concatenate()([forward_c, backward_c])\n",
        "\n",
        "# build the encoder network model\n",
        "encoder_model = Model(inputs=encoder_inputs, \n",
        "                      outputs=[state_h, state_c],\n",
        "                      name='encoder')"
      ]
    },
    {
      "cell_type": "markdown",
      "metadata": {
        "id": "TjCtMUhjscHk"
      },
      "source": [
        "Print a summary and save the encoder network structure to \"./encoder.pdf\""
      ]
    },
    {
      "cell_type": "code",
      "execution_count": 14,
      "metadata": {
        "colab": {
          "base_uri": "https://localhost:8080/"
        },
        "id": "ASIr047mscHk",
        "outputId": "67ccf615-a88c-4b5f-e81c-f9b6053a9946"
      },
      "outputs": [
        {
          "output_type": "stream",
          "name": "stdout",
          "text": [
            "Model: \"encoder\"\n",
            "__________________________________________________________________________________________________\n",
            " Layer (type)                   Output Shape         Param #     Connected to                     \n",
            "==================================================================================================\n",
            " encoder_inputs (InputLayer)    [(None, None, 28)]   0           []                               \n",
            "                                                                                                  \n",
            " bidirectional (Bidirectional)  [(None, 512),        583680      ['encoder_inputs[0][0]']         \n",
            "                                 (None, 256),                                                     \n",
            "                                 (None, 256),                                                     \n",
            "                                 (None, 256),                                                     \n",
            "                                 (None, 256)]                                                     \n",
            "                                                                                                  \n",
            " concatenate (Concatenate)      (None, 512)          0           ['bidirectional[0][1]',          \n",
            "                                                                  'bidirectional[0][3]']          \n",
            "                                                                                                  \n",
            " concatenate_1 (Concatenate)    (None, 512)          0           ['bidirectional[0][2]',          \n",
            "                                                                  'bidirectional[0][4]']          \n",
            "                                                                                                  \n",
            "==================================================================================================\n",
            "Total params: 583,680\n",
            "Trainable params: 583,680\n",
            "Non-trainable params: 0\n",
            "__________________________________________________________________________________________________\n"
          ]
        }
      ],
      "source": [
        "from IPython.display import SVG\n",
        "from keras.utils.vis_utils import model_to_dot, plot_model\n",
        "\n",
        "SVG(model_to_dot(encoder_model, show_shapes=False).create(prog='dot', format='svg'))\n",
        "\n",
        "plot_model(\n",
        "    model=encoder_model, show_shapes=False,\n",
        "    to_file='encoder.pdf'\n",
        ")\n",
        "\n",
        "encoder_model.summary()"
      ]
    },
    {
      "cell_type": "markdown",
      "metadata": {
        "id": "bYQpAw0nscHl"
      },
      "source": [
        "### 3.2. Decoder network\n",
        "\n",
        "- Inputs:  \n",
        "\n",
        "    -- one-hot encode of the target language\n",
        "    \n",
        "    -- The initial hidden state $h_t$ \n",
        "    \n",
        "    -- The initial conveyor belt $c_t$ \n",
        "\n",
        "- Return: \n",
        "\n",
        "    -- output (all the hidden states) $h_1, \\cdots , h_t$\n",
        "\n",
        "    -- the final hidden state  $h_t$ (discarded in the training and used in the prediction)\n",
        "    \n",
        "    -- the final conveyor belt $c_t$ (discarded in the training and used in the prediction)"
      ]
    },
    {
      "cell_type": "code",
      "execution_count": 15,
      "metadata": {
        "id": "l8TBfu2rscHl"
      },
      "outputs": [],
      "source": [
        "from keras.layers import Input, LSTM, Dense\n",
        "from keras.models import Model\n",
        "\n",
        "# inputs of the decoder network\n",
        "decoder_input_h = Input(shape=(2*latent_dim,), name='decoder_input_h')\n",
        "decoder_input_c = Input(shape=(2*latent_dim,), name='decoder_input_c')\n",
        "decoder_input_x = Input(shape=(None, num_decoder_tokens), name='decoder_input_x')\n",
        "\n",
        "# set the LSTM layer\n",
        "decoder_lstm = LSTM(2*latent_dim, return_sequences=True, \n",
        "                    return_state=True, dropout=0.5, name='decoder_lstm')\n",
        "decoder_lstm_outputs, state_h, state_c = decoder_lstm(decoder_input_x, \n",
        "                                                      initial_state=[decoder_input_h, decoder_input_c])\n",
        "\n",
        "# set the dense layer\n",
        "decoder_dense = Dense(num_decoder_tokens, activation='softmax', name='decoder_dense')\n",
        "decoder_outputs = decoder_dense(decoder_lstm_outputs)\n",
        "\n",
        "# build the decoder network model\n",
        "decoder_model = Model(inputs=[decoder_input_x, decoder_input_h, decoder_input_c],\n",
        "                      outputs=[decoder_outputs, state_h, state_c],\n",
        "                      name='decoder')"
      ]
    },
    {
      "cell_type": "markdown",
      "metadata": {
        "id": "TqhdSLSyscHl"
      },
      "source": [
        "Print a summary and save the encoder network structure to \"./decoder.pdf\""
      ]
    },
    {
      "cell_type": "code",
      "execution_count": 16,
      "metadata": {
        "colab": {
          "base_uri": "https://localhost:8080/"
        },
        "id": "ZNvNo_iMscHl",
        "outputId": "f67d657f-d052-468d-d063-e0c249424d68"
      },
      "outputs": [
        {
          "output_type": "stream",
          "name": "stdout",
          "text": [
            "Model: \"decoder\"\n",
            "__________________________________________________________________________________________________\n",
            " Layer (type)                   Output Shape         Param #     Connected to                     \n",
            "==================================================================================================\n",
            " decoder_input_x (InputLayer)   [(None, None, 30)]   0           []                               \n",
            "                                                                                                  \n",
            " decoder_input_h (InputLayer)   [(None, 512)]        0           []                               \n",
            "                                                                                                  \n",
            " decoder_input_c (InputLayer)   [(None, 512)]        0           []                               \n",
            "                                                                                                  \n",
            " decoder_lstm (LSTM)            [(None, None, 512),  1112064     ['decoder_input_x[0][0]',        \n",
            "                                 (None, 512),                     'decoder_input_h[0][0]',        \n",
            "                                 (None, 512)]                     'decoder_input_c[0][0]']        \n",
            "                                                                                                  \n",
            " decoder_dense (Dense)          (None, None, 30)     15390       ['decoder_lstm[0][0]']           \n",
            "                                                                                                  \n",
            "==================================================================================================\n",
            "Total params: 1,127,454\n",
            "Trainable params: 1,127,454\n",
            "Non-trainable params: 0\n",
            "__________________________________________________________________________________________________\n"
          ]
        }
      ],
      "source": [
        "from IPython.display import SVG\n",
        "from keras.utils.vis_utils import model_to_dot, plot_model\n",
        "\n",
        "SVG(model_to_dot(decoder_model, show_shapes=False).create(prog='dot', format='svg'))\n",
        "\n",
        "plot_model(\n",
        "    model=decoder_model, show_shapes=False,\n",
        "    to_file='decoder.pdf'\n",
        ")\n",
        "\n",
        "decoder_model.summary()"
      ]
    },
    {
      "cell_type": "markdown",
      "metadata": {
        "id": "W3muHuzTscHm"
      },
      "source": [
        "### 3.3. Connect the encoder and decoder"
      ]
    },
    {
      "cell_type": "code",
      "execution_count": 17,
      "metadata": {
        "id": "2lJl0sTFscHm"
      },
      "outputs": [],
      "source": [
        "# input layers\n",
        "encoder_input_x = Input(shape=(None, num_encoder_tokens), name='encoder_input_x')\n",
        "decoder_input_x = Input(shape=(None, num_decoder_tokens), name='decoder_input_x')\n",
        "\n",
        "# connect encoder to decoder\n",
        "encoder_final_states = encoder_model([encoder_input_x])\n",
        "decoder_lstm_output, _, _ = decoder_lstm(decoder_input_x, initial_state=encoder_final_states)\n",
        "decoder_pred = decoder_dense(decoder_lstm_output)\n",
        "\n",
        "model = Model(inputs=[encoder_input_x, decoder_input_x], \n",
        "              outputs=decoder_pred, \n",
        "              name='model_training')"
      ]
    },
    {
      "cell_type": "code",
      "execution_count": 18,
      "metadata": {
        "colab": {
          "base_uri": "https://localhost:8080/"
        },
        "id": "l5ojbDXOscHm",
        "outputId": "9fe1c77d-94db-4f82-a2ed-75b942de6af4"
      },
      "outputs": [
        {
          "output_type": "stream",
          "name": "stdout",
          "text": [
            "Model: \"model_training\"\n",
            "__________________________________________________________________________________________________\n",
            " Layer (type)                   Output Shape         Param #     Connected to                     \n",
            "==================================================================================================\n",
            " encoder_input_x (InputLayer)   [(None, None, 28)]   0           []                               \n",
            "                                                                                                  \n",
            " decoder_input_x (InputLayer)   [(None, None, 30)]   0           []                               \n",
            "                                                                                                  \n",
            " encoder (Functional)           [(None, 512),        583680      ['encoder_input_x[0][0]']        \n",
            "                                 (None, 512)]                                                     \n",
            "                                                                                                  \n",
            " decoder_lstm (LSTM)            [(None, None, 512),  1112064     ['decoder_input_x[0][0]',        \n",
            "                                 (None, 512),                     'encoder[0][0]',                \n",
            "                                 (None, 512)]                     'encoder[0][1]']                \n",
            "                                                                                                  \n",
            " decoder_dense (Dense)          (None, None, 30)     15390       ['decoder_lstm[1][0]']           \n",
            "                                                                                                  \n",
            "==================================================================================================\n",
            "Total params: 1,711,134\n",
            "Trainable params: 1,711,134\n",
            "Non-trainable params: 0\n",
            "__________________________________________________________________________________________________\n"
          ]
        }
      ],
      "source": [
        "from IPython.display import SVG\n",
        "from keras.utils.vis_utils import model_to_dot, plot_model\n",
        "\n",
        "SVG(model_to_dot(model, show_shapes=False).create(prog='dot', format='svg'))\n",
        "\n",
        "plot_model(\n",
        "    model=model, show_shapes=False,\n",
        "    to_file='model_training.pdf'\n",
        ")\n",
        "\n",
        "model.summary()"
      ]
    },
    {
      "cell_type": "markdown",
      "metadata": {
        "id": "FoQtpnSEscHm"
      },
      "source": [
        "### 3.4. Fit the model on the bilingual dataset\n",
        "\n",
        "- encoder_input_data: one-hot encode of the input language\n",
        "\n",
        "- decoder_input_data: one-hot encode of the input language\n",
        "\n",
        "- decoder_target_data: labels (left shift of decoder_input_data)\n",
        "\n",
        "- tune the hyper-parameters\n",
        "\n",
        "- stop when the validation loss stop decreasing."
      ]
    },
    {
      "cell_type": "code",
      "execution_count": 19,
      "metadata": {
        "colab": {
          "base_uri": "https://localhost:8080/"
        },
        "id": "fTFGVlUrscHm",
        "outputId": "d7bf2342-b68b-4a8b-9357-d42bd61c1d64"
      },
      "outputs": [
        {
          "output_type": "stream",
          "name": "stdout",
          "text": [
            "shape of encoder_input_data(20000, 18, 28)\n",
            "shape of decoder_input_data(20000, 55, 30)\n",
            "shape of decoder_target_data(20000, 55, 30)\n"
          ]
        }
      ],
      "source": [
        "print('shape of encoder_input_data' + str(encoder_input_data.shape))\n",
        "print('shape of decoder_input_data' + str(decoder_input_data.shape))\n",
        "print('shape of decoder_target_data' + str(decoder_target_data.shape))"
      ]
    },
    {
      "cell_type": "code",
      "execution_count": 20,
      "metadata": {
        "colab": {
          "base_uri": "https://localhost:8080/"
        },
        "id": "qiQfaDMUscHn",
        "outputId": "7c42225b-e1fc-4d46-97e5-324198732790"
      },
      "outputs": [
        {
          "output_type": "stream",
          "name": "stdout",
          "text": [
            "Epoch 1/50\n",
            "250/250 [==============================] - 24s 60ms/step - loss: 0.9272 - val_loss: 0.8188\n",
            "Epoch 2/50\n",
            "250/250 [==============================] - 13s 53ms/step - loss: 0.7137 - val_loss: 0.7286\n",
            "Epoch 3/50\n",
            "250/250 [==============================] - 13s 52ms/step - loss: 0.6727 - val_loss: 0.6740\n",
            "Epoch 4/50\n",
            "250/250 [==============================] - 13s 53ms/step - loss: 0.6440 - val_loss: 0.6408\n",
            "Epoch 5/50\n",
            "250/250 [==============================] - 13s 53ms/step - loss: 0.6194 - val_loss: 0.6106\n",
            "Epoch 6/50\n",
            "250/250 [==============================] - 13s 53ms/step - loss: 0.6017 - val_loss: 0.5901\n",
            "Epoch 7/50\n",
            "250/250 [==============================] - 13s 53ms/step - loss: 0.5877 - val_loss: 0.5763\n",
            "Epoch 8/50\n",
            "250/250 [==============================] - 13s 53ms/step - loss: 0.5734 - val_loss: 0.5557\n",
            "Epoch 9/50\n",
            "250/250 [==============================] - 13s 53ms/step - loss: 0.5615 - val_loss: 0.5438\n",
            "Epoch 10/50\n",
            "250/250 [==============================] - 13s 54ms/step - loss: 0.5509 - val_loss: 0.5347\n",
            "Epoch 11/50\n",
            "250/250 [==============================] - 13s 53ms/step - loss: 0.5416 - val_loss: 0.5266\n",
            "Epoch 12/50\n",
            "250/250 [==============================] - 13s 53ms/step - loss: 0.5317 - val_loss: 0.5141\n",
            "Epoch 13/50\n",
            "250/250 [==============================] - 13s 52ms/step - loss: 0.5241 - val_loss: 0.5049\n",
            "Epoch 14/50\n",
            "250/250 [==============================] - 13s 52ms/step - loss: 0.5157 - val_loss: 0.4977\n",
            "Epoch 15/50\n",
            "250/250 [==============================] - 13s 53ms/step - loss: 0.5076 - val_loss: 0.4938\n",
            "Epoch 16/50\n",
            "250/250 [==============================] - 13s 53ms/step - loss: 0.5009 - val_loss: 0.4861\n",
            "Epoch 17/50\n",
            "250/250 [==============================] - 13s 52ms/step - loss: 0.4933 - val_loss: 0.4787\n",
            "Epoch 18/50\n",
            "250/250 [==============================] - 13s 53ms/step - loss: 0.4868 - val_loss: 0.4774\n",
            "Epoch 19/50\n",
            "250/250 [==============================] - 13s 53ms/step - loss: 0.4815 - val_loss: 0.4712\n",
            "Epoch 20/50\n",
            "250/250 [==============================] - 13s 53ms/step - loss: 0.4758 - val_loss: 0.4698\n",
            "Epoch 21/50\n",
            "250/250 [==============================] - 13s 53ms/step - loss: 0.4720 - val_loss: 0.4650\n",
            "Epoch 22/50\n",
            "250/250 [==============================] - 13s 53ms/step - loss: 0.4674 - val_loss: 0.4575\n",
            "Epoch 23/50\n",
            "250/250 [==============================] - 13s 54ms/step - loss: 0.4621 - val_loss: 0.4569\n",
            "Epoch 24/50\n",
            "250/250 [==============================] - 13s 54ms/step - loss: 0.4571 - val_loss: 0.4531\n",
            "Epoch 25/50\n",
            "250/250 [==============================] - 13s 54ms/step - loss: 0.4525 - val_loss: 0.4503\n",
            "Epoch 26/50\n",
            "250/250 [==============================] - 13s 54ms/step - loss: 0.4491 - val_loss: 0.4511\n",
            "Epoch 27/50\n",
            "250/250 [==============================] - 13s 54ms/step - loss: 0.4432 - val_loss: 0.4476\n",
            "Epoch 28/50\n",
            "250/250 [==============================] - 13s 54ms/step - loss: 0.4409 - val_loss: 0.4472\n",
            "Epoch 29/50\n",
            "250/250 [==============================] - 13s 54ms/step - loss: 0.4358 - val_loss: 0.4487\n",
            "Epoch 30/50\n",
            "250/250 [==============================] - 13s 54ms/step - loss: 0.4319 - val_loss: 0.4475\n",
            "Epoch 31/50\n",
            "250/250 [==============================] - 13s 54ms/step - loss: 0.4292 - val_loss: 0.4387\n",
            "Epoch 32/50\n",
            "250/250 [==============================] - 13s 54ms/step - loss: 0.4268 - val_loss: 0.4388\n",
            "Epoch 33/50\n",
            "250/250 [==============================] - 13s 54ms/step - loss: 0.4230 - val_loss: 0.4428\n",
            "Epoch 34/50\n",
            "250/250 [==============================] - 13s 53ms/step - loss: 0.4208 - val_loss: 0.4349\n",
            "Epoch 35/50\n",
            "250/250 [==============================] - 13s 54ms/step - loss: 0.4173 - val_loss: 0.4402\n",
            "Epoch 36/50\n",
            "250/250 [==============================] - 13s 54ms/step - loss: 0.4125 - val_loss: 0.4404\n",
            "Epoch 37/50\n",
            "250/250 [==============================] - 13s 53ms/step - loss: 0.4111 - val_loss: 0.4420\n",
            "Epoch 38/50\n",
            "250/250 [==============================] - 13s 53ms/step - loss: 0.4075 - val_loss: 0.4332\n",
            "Epoch 39/50\n",
            "250/250 [==============================] - 13s 53ms/step - loss: 0.4066 - val_loss: 0.4342\n",
            "Epoch 40/50\n",
            "250/250 [==============================] - 13s 53ms/step - loss: 0.4016 - val_loss: 0.4352\n",
            "Epoch 41/50\n",
            "250/250 [==============================] - 13s 53ms/step - loss: 0.3996 - val_loss: 0.4352\n",
            "Epoch 42/50\n",
            "250/250 [==============================] - 13s 53ms/step - loss: 0.3967 - val_loss: 0.4294\n",
            "Epoch 43/50\n",
            "250/250 [==============================] - 13s 54ms/step - loss: 0.3967 - val_loss: 0.4295\n",
            "Epoch 44/50\n",
            "250/250 [==============================] - 13s 54ms/step - loss: 0.3933 - val_loss: 0.4291\n",
            "Epoch 45/50\n",
            "250/250 [==============================] - 14s 54ms/step - loss: 0.3908 - val_loss: 0.4279\n",
            "Epoch 46/50\n",
            "250/250 [==============================] - 13s 54ms/step - loss: 0.3887 - val_loss: 0.4305\n",
            "Epoch 47/50\n",
            "250/250 [==============================] - 13s 54ms/step - loss: 0.3860 - val_loss: 0.4300\n",
            "Epoch 48/50\n",
            "250/250 [==============================] - 13s 53ms/step - loss: 0.3840 - val_loss: 0.4312\n",
            "Epoch 49/50\n",
            "250/250 [==============================] - 13s 52ms/step - loss: 0.3817 - val_loss: 0.4271\n",
            "Epoch 50/50\n",
            "250/250 [==============================] - 13s 54ms/step - loss: 0.3803 - val_loss: 0.4313\n"
          ]
        }
      ],
      "source": [
        "model.compile(optimizer='rmsprop', loss='categorical_crossentropy')\n",
        "\n",
        "model.fit([encoder_input_data, decoder_input_data],  # training data\n",
        "          decoder_target_data,                       # labels (left shift of the target sequences)\n",
        "          batch_size=64, epochs=50, validation_split=0.2)\n",
        "\n",
        "model.save('seq2seq.h5')"
      ]
    },
    {
      "cell_type": "markdown",
      "metadata": {
        "id": "snkHWnzhscHn"
      },
      "source": [
        "## 4. Make predictions\n",
        "\n",
        "- In this section, you need to complete section 4.2 to translate English to the target language.\n",
        "\n",
        "\n",
        "### 4.1. Translate English to XXX\n",
        "\n",
        "1. Encoder read a sentence (source language) and output its final states, $h_t$ and $c_t$.\n",
        "2. Take the [star] sign \"\\t\" and the final state $h_t$ and $c_t$ as input and run the decoder.\n",
        "3. Get the new states and predicted probability distribution.\n",
        "4. sample a char from the predicted probability distribution\n",
        "5. take the sampled char and the new states as input and repeat the process (stop if reach the [stop] sign \"\\n\")."
      ]
    },
    {
      "cell_type": "code",
      "execution_count": 21,
      "metadata": {
        "id": "nm-g5c3PscHn"
      },
      "outputs": [],
      "source": [
        "# Reverse-lookup token index to decode sequences back to something readable.\n",
        "reverse_input_char_index = dict((i, char) for char, i in input_token_index.items())\n",
        "reverse_target_char_index = dict((i, char) for char, i in target_token_index.items())"
      ]
    },
    {
      "cell_type": "code",
      "execution_count": 22,
      "metadata": {
        "id": "xoP2eLBtscHn"
      },
      "outputs": [],
      "source": [
        "def decode_sequence(input_seq):\n",
        "    states_value = encoder_model.predict(input_seq)\n",
        "\n",
        "    target_seq = numpy.zeros((1, 1, num_decoder_tokens))\n",
        "    target_seq[0, 0, target_token_index['\\t']] = 1.\n",
        "\n",
        "    stop_condition = False\n",
        "    decoded_sentence = ''\n",
        "    while not stop_condition:\n",
        "        output_tokens, h, c = decoder_model.predict([target_seq] + states_value)\n",
        "\n",
        "        # this line of code is greedy selection\n",
        "        # try to use multinomial sampling instead (with temperature)\n",
        "        sampled_token_index = numpy.argmax(output_tokens[0, -1, :])\n",
        "        \n",
        "        sampled_char = reverse_target_char_index[sampled_token_index]\n",
        "        decoded_sentence += sampled_char\n",
        "\n",
        "        if (sampled_char == '\\n' or\n",
        "           len(decoded_sentence) > max_decoder_seq_length):\n",
        "            stop_condition = True\n",
        "\n",
        "        target_seq = numpy.zeros((1, 1, num_decoder_tokens))\n",
        "        target_seq[0, 0, sampled_token_index] = 1.\n",
        "\n",
        "        states_value = [h, c]\n",
        "\n",
        "    return decoded_sentence\n"
      ]
    },
    {
      "cell_type": "code",
      "execution_count": 23,
      "metadata": {
        "colab": {
          "base_uri": "https://localhost:8080/"
        },
        "id": "sqfbWooascHn",
        "outputId": "98d8a3e7-359e-49dd-8221-838a8eedbc15"
      },
      "outputs": [
        {
          "output_type": "stream",
          "name": "stdout",
          "text": [
            "-\n",
            "English:        hes skinny\n",
            "Spanish (true):  el esta delgado\n",
            "Spanish (pred):  el es a lentiendo\n",
            "-\n",
            "English:        hes strong\n",
            "Spanish (true):  el es fuerte\n",
            "Spanish (pred):  el esta equivocado\n",
            "-\n",
            "English:        hes stupid\n",
            "Spanish (true):  el es estupido\n",
            "Spanish (pred):  el es a lentiendo\n",
            "-\n",
            "English:        hes stupid\n",
            "Spanish (true):  no le llega agua al tanque\n",
            "Spanish (pred):  el es a lentiendo\n",
            "-\n",
            "English:        hes stupid\n",
            "Spanish (true):  es un salame\n",
            "Spanish (pred):  el es a lentiendo\n",
            "-\n",
            "English:        help me out\n",
            "Spanish (true):  ayudame\n",
            "Spanish (pred):  ayudame\n",
            "-\n",
            "English:        help me out\n",
            "Spanish (true):  ayudame a salir\n",
            "Spanish (pred):  ayudame\n",
            "-\n",
            "English:        help me out\n",
            "Spanish (true):  echeme la mano\n",
            "Spanish (pred):  ayudame\n",
            "-\n",
            "English:        help me out\n",
            "Spanish (true):  ayudame a salir\n",
            "Spanish (pred):  ayudame\n",
            "-\n",
            "English:        here i come\n",
            "Spanish (true):  aqui vengo\n",
            "Spanish (pred):  aqui viene\n",
            "-\n",
            "English:        here i come\n",
            "Spanish (true):  ya estoy aqui\n",
            "Spanish (pred):  aqui viene\n",
            "-\n",
            "English:        here she is\n",
            "Spanish (true):  aqui esta ella\n",
            "Spanish (pred):  aqui esta\n",
            "-\n",
            "English:        here we are\n",
            "Spanish (true):  aqui estamos\n",
            "Spanish (pred):  aqui estamos\n",
            "-\n",
            "English:        here we are\n",
            "Spanish (true):  aqui estamos\n",
            "Spanish (pred):  aqui estamos\n",
            "-\n",
            "English:        hi im tom\n",
            "Spanish (true):  hola soy tom\n",
            "Spanish (pred):  el es tom\n",
            "-\n",
            "English:        hit it hard\n",
            "Spanish (true):  dele fuerte\n",
            "Spanish (pred):  esta a el cale\n",
            "-\n",
            "English:        how are you\n",
            "Spanish (true):  como estas vos\n",
            "Spanish (pred):  que tal te tienes\n",
            "-\n",
            "English:        how curious\n",
            "Spanish (true):  que curioso\n",
            "Spanish (pred):  que carrto\n",
            "-\n",
            "English:        how strange\n",
            "Spanish (true):  que raro\n",
            "Spanish (pred):  que tal en el cranjero\n",
            "-\n",
            "English:        how strange\n",
            "Spanish (true):  que raro\n",
            "Spanish (pred):  que tal en el cranjero\n"
          ]
        }
      ],
      "source": [
        "for seq_index in range(2100, 2120):\n",
        "    # Take one sequence (part of the training set)\n",
        "    # for trying out decoding.\n",
        "    input_seq = encoder_input_data[seq_index: seq_index + 1]\n",
        "    decoded_sentence = decode_sequence(input_seq)\n",
        "    print('-')\n",
        "    print('English:       ', input_texts[seq_index])\n",
        "    print('Spanish (true): ', target_texts[seq_index][1:-1])\n",
        "    print('Spanish (pred): ', decoded_sentence[0:-1])\n"
      ]
    },
    {
      "cell_type": "markdown",
      "metadata": {
        "id": "DjSzctefscHo"
      },
      "source": [
        "### 4.2. Translate an English sentence to the target language （20 points）\n",
        "\n",
        "1. Tokenization\n",
        "2. One-hot encode\n",
        "3. Translate"
      ]
    },
    {
      "cell_type": "code",
      "execution_count": 24,
      "metadata": {
        "colab": {
          "base_uri": "https://localhost:8080/"
        },
        "id": "ZHqm-sFQscHo",
        "outputId": "c975ebbc-f881-4804-86b1-485978fefd83"
      },
      "outputs": [
        {
          "output_type": "stream",
          "name": "stdout",
          "text": [
            "source sentence is: I love you\n",
            "translated sentence is: te amo a tom\n",
            "\n"
          ]
        }
      ],
      "source": [
        "def clean_line(line):\n",
        "    re_print = re.compile('[^%s]' % re.escape(string.printable))\n",
        "    table = str.maketrans('', '', string.punctuation)\n",
        "    line = normalize('NFD', line).encode('ascii', 'ignore')\n",
        "    line = line.decode('UTF-8')\n",
        "    line = line.split()\n",
        "    line = [word.lower() for word in line]\n",
        "    line = [word.translate(table) for word in line]\n",
        "    line = [re_print.sub('', w) for w in line]\n",
        "    line = [word for word in line if word.isalpha()]\n",
        "    line = ' '.join(line)\n",
        "    return line\n",
        "\n",
        "input_sentence = 'I love you'\n",
        "\n",
        "input_sequence = list(map(lambda x: input_token_index[x], clean_line(input_sentence)))\n",
        "\n",
        "input_x = onehot_encode([input_sequence], len(input_sentence), num_encoder_tokens)\n",
        "\n",
        "translated_sentence = decode_sequence(input_x)\n",
        "\n",
        "print('source sentence is: ' + input_sentence)\n",
        "print('translated sentence is: ' + translated_sentence)"
      ]
    },
    {
      "cell_type": "markdown",
      "metadata": {
        "id": "7TBz3RroscHo"
      },
      "source": [
        "# 5. Evaluate the translation using BLEU score\n",
        "\n",
        "- We have already translated from English to target language, but how can we evaluate the performance of our model quantitatively? \n",
        "\n",
        "- In this section, you need to re-train the model we built in secton 3 and then evaluate the bleu score on testing dataset.\n",
        "\n",
        "Reference:\n",
        "\n",
        "https://machinelearningmastery.com/calculate-bleu-score-for-text-python/\n",
        "\n",
        "https://en.wikipedia.org/wiki/BLEU\n",
        "\n",
        "#### Hint:\n",
        "\n",
        "- Randomly partition the dataset to training, validation, and test.\n",
        "\n",
        "- Evaluate the BLEU score using the test set. Report the average.\n",
        "\n",
        "- You may use packages to calculate bleu score, e.g., sentence_bleu() from nltk package."
      ]
    },
    {
      "cell_type": "markdown",
      "metadata": {
        "id": "uSGNhxpkscHo"
      },
      "source": [
        "### 5.1. Partition the dataset to training, validation, and test. Build new token index. (10 points)\n",
        "\n",
        "1. You may try to load more data/lines from text file.\n",
        "2. Convert text to sequences and build token index using training data.\n",
        "3. One-hot encode your training and validation text sequences."
      ]
    },
    {
      "cell_type": "code",
      "execution_count": 25,
      "metadata": {
        "id": "2h1ffrdCscHo"
      },
      "outputs": [],
      "source": [
        "# Encoding done in last code block\n",
        "\n",
        "doc = load_doc(filename)\n",
        "pairs = to_pairs(doc)\n",
        "test_dt = clean_data(pairs)[test_indices,:]\n",
        "\n",
        "test_n = len(test_dt)"
      ]
    },
    {
      "cell_type": "markdown",
      "metadata": {
        "id": "YopkIK_dscHp"
      },
      "source": [
        "### 5.2 Retrain your previous Bidirectional LSTM model with training and validation data and tune the parameters (learning rate, optimizer, etc) based on validation score. (25 points)\n",
        "\n",
        "1. Use the model structure in section 3 to train a new model with new training and validation datasets.\n",
        "2. Based on validation BLEU score or loss to tune parameters."
      ]
    },
    {
      "cell_type": "code",
      "execution_count": 26,
      "metadata": {
        "id": "fKh7tI9XscHp",
        "colab": {
          "base_uri": "https://localhost:8080/"
        },
        "outputId": "2e5898b4-01ad-46dd-e822-3d66eddc7f02"
      },
      "outputs": [
        {
          "output_type": "stream",
          "name": "stdout",
          "text": [
            "Epoch 1/100\n",
            "250/250 [==============================] - 19s 57ms/step - loss: 0.3784 - val_loss: 0.4318\n",
            "Epoch 2/100\n",
            "250/250 [==============================] - 13s 51ms/step - loss: 0.3786 - val_loss: 0.4295\n",
            "Epoch 3/100\n",
            "250/250 [==============================] - 13s 51ms/step - loss: 0.3732 - val_loss: 0.4273\n",
            "Epoch 4/100\n",
            "250/250 [==============================] - 13s 50ms/step - loss: 0.3728 - val_loss: 0.4306\n",
            "Epoch 5/100\n",
            "250/250 [==============================] - 12s 50ms/step - loss: 0.3680 - val_loss: 0.4272\n",
            "Epoch 6/100\n",
            "250/250 [==============================] - 13s 50ms/step - loss: 0.3683 - val_loss: 0.4264\n",
            "Epoch 7/100\n",
            "250/250 [==============================] - 13s 50ms/step - loss: 0.3657 - val_loss: 0.4315\n",
            "Epoch 8/100\n",
            "250/250 [==============================] - 13s 50ms/step - loss: 0.3659 - val_loss: 0.4274\n",
            "Epoch 9/100\n",
            "250/250 [==============================] - 12s 50ms/step - loss: 0.3639 - val_loss: 0.4273\n",
            "Epoch 10/100\n",
            "250/250 [==============================] - 13s 50ms/step - loss: 0.3614 - val_loss: 0.4272\n",
            "Epoch 11/100\n",
            "250/250 [==============================] - 13s 50ms/step - loss: 0.3611 - val_loss: 0.4287\n",
            "Epoch 12/100\n",
            "250/250 [==============================] - 13s 50ms/step - loss: 0.3586 - val_loss: 0.4275\n",
            "Epoch 13/100\n",
            "250/250 [==============================] - 13s 51ms/step - loss: 0.3572 - val_loss: 0.4295\n",
            "Epoch 14/100\n",
            "250/250 [==============================] - 13s 50ms/step - loss: 0.3540 - val_loss: 0.4291\n",
            "Epoch 15/100\n",
            "250/250 [==============================] - 13s 50ms/step - loss: 0.3529 - val_loss: 0.4263\n",
            "Epoch 16/100\n",
            "250/250 [==============================] - 13s 50ms/step - loss: 0.3529 - val_loss: 0.4263\n",
            "Epoch 17/100\n",
            "250/250 [==============================] - 13s 50ms/step - loss: 0.3520 - val_loss: 0.4277\n",
            "Epoch 18/100\n",
            "250/250 [==============================] - 13s 50ms/step - loss: 0.3483 - val_loss: 0.4286\n",
            "Epoch 19/100\n",
            "250/250 [==============================] - 13s 51ms/step - loss: 0.3474 - val_loss: 0.4320\n",
            "Epoch 20/100\n",
            "250/250 [==============================] - 13s 51ms/step - loss: 0.3465 - val_loss: 0.4332\n",
            "Epoch 21/100\n",
            "250/250 [==============================] - 13s 50ms/step - loss: 0.3439 - val_loss: 0.4306\n",
            "Epoch 22/100\n",
            "250/250 [==============================] - 13s 50ms/step - loss: 0.3443 - val_loss: 0.4333\n",
            "Epoch 23/100\n",
            "250/250 [==============================] - 13s 50ms/step - loss: 0.3410 - val_loss: 0.4339\n",
            "Epoch 24/100\n",
            "250/250 [==============================] - 13s 50ms/step - loss: 0.3411 - val_loss: 0.4287\n",
            "Epoch 25/100\n",
            "250/250 [==============================] - 13s 51ms/step - loss: 0.3381 - val_loss: 0.4275\n",
            "Epoch 26/100\n",
            "250/250 [==============================] - 13s 50ms/step - loss: 0.3368 - val_loss: 0.4345\n",
            "Epoch 27/100\n",
            "250/250 [==============================] - 13s 51ms/step - loss: 0.3367 - val_loss: 0.4310\n",
            "Epoch 28/100\n",
            "250/250 [==============================] - 13s 51ms/step - loss: 0.3354 - val_loss: 0.4346\n",
            "Epoch 29/100\n",
            "250/250 [==============================] - 13s 51ms/step - loss: 0.3343 - val_loss: 0.4359\n",
            "Epoch 30/100\n",
            "250/250 [==============================] - 13s 51ms/step - loss: 0.3301 - val_loss: 0.4355\n",
            "Epoch 31/100\n",
            "250/250 [==============================] - 13s 51ms/step - loss: 0.3310 - val_loss: 0.4366\n",
            "Epoch 32/100\n",
            "250/250 [==============================] - 13s 51ms/step - loss: 0.3289 - val_loss: 0.4364\n",
            "Epoch 33/100\n",
            "250/250 [==============================] - 13s 51ms/step - loss: 0.3282 - val_loss: 0.4373\n",
            "Epoch 34/100\n",
            "250/250 [==============================] - 13s 51ms/step - loss: 0.3269 - val_loss: 0.4353\n",
            "Epoch 35/100\n",
            "250/250 [==============================] - 13s 51ms/step - loss: 0.3269 - val_loss: 0.4339\n",
            "Epoch 36/100\n",
            "250/250 [==============================] - 13s 51ms/step - loss: 0.3252 - val_loss: 0.4327\n",
            "Epoch 37/100\n",
            "250/250 [==============================] - 13s 51ms/step - loss: 0.3225 - val_loss: 0.4371\n",
            "Epoch 38/100\n",
            "250/250 [==============================] - 13s 51ms/step - loss: 0.3213 - val_loss: 0.4359\n",
            "Epoch 39/100\n",
            "250/250 [==============================] - 13s 51ms/step - loss: 0.3210 - val_loss: 0.4371\n",
            "Epoch 40/100\n",
            "250/250 [==============================] - 13s 52ms/step - loss: 0.3190 - val_loss: 0.4306\n",
            "Epoch 41/100\n",
            "250/250 [==============================] - 13s 52ms/step - loss: 0.3188 - val_loss: 0.4356\n",
            "Epoch 42/100\n",
            "250/250 [==============================] - 13s 51ms/step - loss: 0.3199 - val_loss: 0.4320\n",
            "Epoch 43/100\n",
            "250/250 [==============================] - 13s 51ms/step - loss: 0.3191 - val_loss: 0.4391\n",
            "Epoch 44/100\n",
            "250/250 [==============================] - 13s 52ms/step - loss: 0.3142 - val_loss: 0.4412\n",
            "Epoch 45/100\n",
            "250/250 [==============================] - 13s 51ms/step - loss: 0.3140 - val_loss: 0.4368\n",
            "Epoch 46/100\n",
            "250/250 [==============================] - 13s 51ms/step - loss: 0.3154 - val_loss: 0.4383\n",
            "Epoch 47/100\n",
            "250/250 [==============================] - 13s 52ms/step - loss: 0.3153 - val_loss: 0.4432\n",
            "Epoch 48/100\n",
            "250/250 [==============================] - 13s 51ms/step - loss: 0.3123 - val_loss: 0.4408\n",
            "Epoch 49/100\n",
            "250/250 [==============================] - 13s 51ms/step - loss: 0.3121 - val_loss: 0.4435\n",
            "Epoch 50/100\n",
            "250/250 [==============================] - 13s 51ms/step - loss: 0.3081 - val_loss: 0.4412\n",
            "Epoch 51/100\n",
            "250/250 [==============================] - 13s 51ms/step - loss: 0.3112 - val_loss: 0.4404\n",
            "Epoch 52/100\n",
            "250/250 [==============================] - 13s 51ms/step - loss: 0.3069 - val_loss: 0.4399\n",
            "Epoch 53/100\n",
            "250/250 [==============================] - 13s 51ms/step - loss: 0.3065 - val_loss: 0.4390\n",
            "Epoch 54/100\n",
            "250/250 [==============================] - 13s 51ms/step - loss: 0.3092 - val_loss: 0.4421\n",
            "Epoch 55/100\n",
            "250/250 [==============================] - 13s 51ms/step - loss: 0.3038 - val_loss: 0.4407\n",
            "Epoch 56/100\n",
            "250/250 [==============================] - 13s 51ms/step - loss: 0.3034 - val_loss: 0.4473\n",
            "Epoch 57/100\n",
            "250/250 [==============================] - 13s 51ms/step - loss: 0.3041 - val_loss: 0.4449\n",
            "Epoch 58/100\n",
            "250/250 [==============================] - 13s 51ms/step - loss: 0.3023 - val_loss: 0.4413\n",
            "Epoch 59/100\n",
            "250/250 [==============================] - 13s 51ms/step - loss: 0.3039 - val_loss: 0.4413\n",
            "Epoch 60/100\n",
            "250/250 [==============================] - 13s 52ms/step - loss: 0.3012 - val_loss: 0.4421\n",
            "Epoch 61/100\n",
            "250/250 [==============================] - 13s 51ms/step - loss: 0.3012 - val_loss: 0.4437\n",
            "Epoch 62/100\n",
            "250/250 [==============================] - 13s 51ms/step - loss: 0.3001 - val_loss: 0.4450\n",
            "Epoch 63/100\n",
            "250/250 [==============================] - 13s 51ms/step - loss: 0.2992 - val_loss: 0.4459\n",
            "Epoch 64/100\n",
            "250/250 [==============================] - 13s 51ms/step - loss: 0.2972 - val_loss: 0.4502\n",
            "Epoch 65/100\n",
            "250/250 [==============================] - 13s 51ms/step - loss: 0.2980 - val_loss: 0.4454\n",
            "Epoch 66/100\n",
            "250/250 [==============================] - 13s 51ms/step - loss: 0.2928 - val_loss: 0.4468\n",
            "Epoch 67/100\n",
            "250/250 [==============================] - 13s 51ms/step - loss: 0.2956 - val_loss: 0.4464\n",
            "Epoch 68/100\n",
            "250/250 [==============================] - 13s 52ms/step - loss: 0.2958 - val_loss: 0.4503\n",
            "Epoch 69/100\n",
            "250/250 [==============================] - 13s 51ms/step - loss: 0.2913 - val_loss: 0.4485\n",
            "Epoch 70/100\n",
            "250/250 [==============================] - 13s 52ms/step - loss: 0.2931 - val_loss: 0.4473\n",
            "Epoch 71/100\n",
            "250/250 [==============================] - 13s 51ms/step - loss: 0.2919 - val_loss: 0.4475\n",
            "Epoch 72/100\n",
            "250/250 [==============================] - 13s 51ms/step - loss: 0.2920 - val_loss: 0.4484\n",
            "Epoch 73/100\n",
            "250/250 [==============================] - 13s 51ms/step - loss: 0.2920 - val_loss: 0.4505\n",
            "Epoch 74/100\n",
            "250/250 [==============================] - 13s 51ms/step - loss: 0.2908 - val_loss: 0.4504\n",
            "Epoch 75/100\n",
            "250/250 [==============================] - 13s 51ms/step - loss: 0.2891 - val_loss: 0.4516\n",
            "Epoch 76/100\n",
            "250/250 [==============================] - 13s 51ms/step - loss: 0.2882 - val_loss: 0.4508\n",
            "Epoch 77/100\n",
            "250/250 [==============================] - 13s 51ms/step - loss: 0.2865 - val_loss: 0.4529\n",
            "Epoch 78/100\n",
            "250/250 [==============================] - 13s 50ms/step - loss: 0.2878 - val_loss: 0.4512\n",
            "Epoch 79/100\n",
            "250/250 [==============================] - 13s 51ms/step - loss: 0.2877 - val_loss: 0.4519\n",
            "Epoch 80/100\n",
            "250/250 [==============================] - 13s 51ms/step - loss: 0.2852 - val_loss: 0.4554\n",
            "Epoch 81/100\n",
            "250/250 [==============================] - 13s 51ms/step - loss: 0.2853 - val_loss: 0.4556\n",
            "Epoch 82/100\n",
            "250/250 [==============================] - 13s 51ms/step - loss: 0.2838 - val_loss: 0.4607\n",
            "Epoch 83/100\n",
            "250/250 [==============================] - 13s 51ms/step - loss: 0.2843 - val_loss: 0.4562\n",
            "Epoch 84/100\n",
            "250/250 [==============================] - 13s 51ms/step - loss: 0.2826 - val_loss: 0.4557\n",
            "Epoch 85/100\n",
            "250/250 [==============================] - 13s 52ms/step - loss: 0.2809 - val_loss: 0.4564\n",
            "Epoch 86/100\n",
            "250/250 [==============================] - 13s 52ms/step - loss: 0.2837 - val_loss: 0.4599\n",
            "Epoch 87/100\n",
            "250/250 [==============================] - 13s 52ms/step - loss: 0.2815 - val_loss: 0.4544\n",
            "Epoch 88/100\n",
            "250/250 [==============================] - 13s 51ms/step - loss: 0.2810 - val_loss: 0.4573\n",
            "Epoch 89/100\n",
            "250/250 [==============================] - 13s 52ms/step - loss: 0.2792 - val_loss: 0.4549\n",
            "Epoch 90/100\n",
            "250/250 [==============================] - 13s 52ms/step - loss: 0.2791 - val_loss: 0.4597\n",
            "Epoch 91/100\n",
            "250/250 [==============================] - 13s 52ms/step - loss: 0.2786 - val_loss: 0.4598\n",
            "Epoch 92/100\n",
            "250/250 [==============================] - 13s 51ms/step - loss: 0.2772 - val_loss: 0.4557\n",
            "Epoch 93/100\n",
            "250/250 [==============================] - 13s 51ms/step - loss: 0.2788 - val_loss: 0.4552\n",
            "Epoch 94/100\n",
            "250/250 [==============================] - 13s 51ms/step - loss: 0.2777 - val_loss: 0.4636\n",
            "Epoch 95/100\n",
            "250/250 [==============================] - 13s 51ms/step - loss: 0.2765 - val_loss: 0.4592\n",
            "Epoch 96/100\n",
            "250/250 [==============================] - 13s 51ms/step - loss: 0.2759 - val_loss: 0.4591\n",
            "Epoch 97/100\n",
            "250/250 [==============================] - 13s 51ms/step - loss: 0.2750 - val_loss: 0.4623\n",
            "Epoch 98/100\n",
            "250/250 [==============================] - 13s 51ms/step - loss: 0.2752 - val_loss: 0.4555\n",
            "Epoch 99/100\n",
            "250/250 [==============================] - 13s 51ms/step - loss: 0.2732 - val_loss: 0.4654\n",
            "Epoch 100/100\n",
            "250/250 [==============================] - 13s 51ms/step - loss: 0.2728 - val_loss: 0.4610\n"
          ]
        },
        {
          "output_type": "execute_result",
          "data": {
            "text/plain": [
              "<keras.callbacks.History at 0x7ffbae7d8590>"
            ]
          },
          "metadata": {},
          "execution_count": 26
        }
      ],
      "source": [
        "# Changed optimizer and epochs\n",
        "\n",
        "model.compile(optimizer='adam', loss='categorical_crossentropy')\n",
        "\n",
        "model.fit([encoder_input_data, decoder_input_data],  \n",
        "          decoder_target_data,\n",
        "          batch_size=64, epochs=100, validation_split=0.2)"
      ]
    },
    {
      "cell_type": "markdown",
      "metadata": {
        "id": "cJW8AyPzscHp"
      },
      "source": [
        "### 5.3 Evaluate the BLEU score using the test set. (15 points)\n",
        "\n",
        "1. Use trained model above to calculate the BLEU score with testing dataset."
      ]
    },
    {
      "cell_type": "code",
      "execution_count": 27,
      "metadata": {
        "id": "zx0g4UkdscHp",
        "colab": {
          "base_uri": "https://localhost:8080/"
        },
        "outputId": "bee4a236-4406-45b2-ca43-ba6a1c1074e0"
      },
      "outputs": [
        {
          "output_type": "stream",
          "name": "stdout",
          "text": [
            "BLEU score is: 0.2919977490312661\n"
          ]
        }
      ],
      "source": [
        "from nltk.translate.bleu_score import sentence_bleu\n",
        "from nltk.translate.bleu_score import SmoothingFunction\n",
        "smoothie = SmoothingFunction().method4\n",
        "bleu_list = []\n",
        "for n in range(int(test_n)):\n",
        "  test_str = test_dt[n][0]\n",
        "  target_sentence = test_dt[n][1]\n",
        "  input_sentence = [test_str]\n",
        "  encoder_input_seq,l= text2sequences(max_encoder_seq_length,input_sentence)\n",
        "  input_x = onehot_encode(encoder_input_seq, max_encoder_seq_length, num_encoder_tokens)\n",
        "  try:\n",
        "    translated_sentence = decode_sequence(input_x)\n",
        "  except KeyError as err:\n",
        "    continue\n",
        "  score = sentence_bleu(target_sentence, translated_sentence,smoothing_function=smoothie)\n",
        "  bleu_list.append(score)\n",
        "\n",
        "print('BLEU score is:',numpy.mean(bleu_list))"
      ]
    }
  ],
  "metadata": {
    "kernelspec": {
      "display_name": "Python 3",
      "language": "python",
      "name": "python3"
    },
    "language_info": {
      "codemirror_mode": {
        "name": "ipython",
        "version": 3
      },
      "file_extension": ".py",
      "mimetype": "text/x-python",
      "name": "python",
      "nbconvert_exporter": "python",
      "pygments_lexer": "ipython3",
      "version": "3.8.8"
    },
    "colab": {
      "name": "Final.ipynb",
      "provenance": [],
      "collapsed_sections": []
    },
    "accelerator": "GPU"
  },
  "nbformat": 4,
  "nbformat_minor": 0
}